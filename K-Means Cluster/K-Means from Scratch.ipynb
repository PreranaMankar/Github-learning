{
 "cells": [
  {
   "cell_type": "code",
   "execution_count": 1,
   "id": "9d256901-cc8d-4142-bbb7-098b9769462c",
   "metadata": {},
   "outputs": [],
   "source": [
    "import pandas as pd\n",
    "import numpy as np\n",
    "import matplotlib.pyplot as plt"
   ]
  },
  {
   "cell_type": "code",
   "execution_count": 2,
   "id": "49f6fed7-f678-46bb-b185-97c7e3d05ba6",
   "metadata": {},
   "outputs": [
    {
     "data": {
      "text/plain": [
       "array([[ 5, 12],\n",
       "       [ 4, 11],\n",
       "       [ 6, 14],\n",
       "       [ 2,  5],\n",
       "       [ 3,  7],\n",
       "       [ 4, 10],\n",
       "       [ 7, 13],\n",
       "       [ 1,  3],\n",
       "       [ 2,  4],\n",
       "       [ 6, 12],\n",
       "       [ 1,  4]])"
      ]
     },
     "execution_count": 2,
     "metadata": {},
     "output_type": "execute_result"
    }
   ],
   "source": [
    "data = np.array([[5, 12], [4, 11], [6, 14], [2, 5], [3, 7], [4, 10], [7, 13], [1, 3], [2, 4], [6, 12], [1, 4]])\n",
    "data"
   ]
  },
  {
   "cell_type": "code",
   "execution_count": 3,
   "id": "acee36c3-8ddc-4298-baf0-d5450331f9cd",
   "metadata": {},
   "outputs": [
    {
     "data": {
      "text/plain": [
       "(11, 2)"
      ]
     },
     "execution_count": 3,
     "metadata": {},
     "output_type": "execute_result"
    }
   ],
   "source": [
    "data.shape"
   ]
  },
  {
   "cell_type": "code",
   "execution_count": 4,
   "id": "5db8a15f-a6de-4ab5-abad-54b6f97917e0",
   "metadata": {},
   "outputs": [],
   "source": [
    "df = pd.DataFrame(data, columns =[\"Exp\", \"Sal\"])"
   ]
  },
  {
   "cell_type": "code",
   "execution_count": 6,
   "id": "c26f0bac-ec67-4851-aa23-4a99da815bd9",
   "metadata": {},
   "outputs": [
    {
     "data": {
      "text/html": [
       "<div>\n",
       "<style scoped>\n",
       "    .dataframe tbody tr th:only-of-type {\n",
       "        vertical-align: middle;\n",
       "    }\n",
       "\n",
       "    .dataframe tbody tr th {\n",
       "        vertical-align: top;\n",
       "    }\n",
       "\n",
       "    .dataframe thead th {\n",
       "        text-align: right;\n",
       "    }\n",
       "</style>\n",
       "<table border=\"1\" class=\"dataframe\">\n",
       "  <thead>\n",
       "    <tr style=\"text-align: right;\">\n",
       "      <th></th>\n",
       "      <th>Exp</th>\n",
       "      <th>Sal</th>\n",
       "    </tr>\n",
       "  </thead>\n",
       "  <tbody>\n",
       "    <tr>\n",
       "      <th>0</th>\n",
       "      <td>5</td>\n",
       "      <td>12</td>\n",
       "    </tr>\n",
       "    <tr>\n",
       "      <th>1</th>\n",
       "      <td>4</td>\n",
       "      <td>11</td>\n",
       "    </tr>\n",
       "    <tr>\n",
       "      <th>2</th>\n",
       "      <td>6</td>\n",
       "      <td>14</td>\n",
       "    </tr>\n",
       "    <tr>\n",
       "      <th>3</th>\n",
       "      <td>2</td>\n",
       "      <td>5</td>\n",
       "    </tr>\n",
       "    <tr>\n",
       "      <th>4</th>\n",
       "      <td>3</td>\n",
       "      <td>7</td>\n",
       "    </tr>\n",
       "  </tbody>\n",
       "</table>\n",
       "</div>"
      ],
      "text/plain": [
       "   Exp  Sal\n",
       "0    5   12\n",
       "1    4   11\n",
       "2    6   14\n",
       "3    2    5\n",
       "4    3    7"
      ]
     },
     "execution_count": 6,
     "metadata": {},
     "output_type": "execute_result"
    }
   ],
   "source": [
    "df.head()"
   ]
  },
  {
   "cell_type": "code",
   "execution_count": 7,
   "id": "e1777064-347a-4f01-808e-c4e11512dbee",
   "metadata": {},
   "outputs": [
    {
     "data": {
      "image/png": "[encoded data removed]",
      "text/plain": [
       "<Figure size 800x600 with 1 Axes>"
      ]
     },
     "metadata": {},
     "output_type": "display_data"
    }
   ],
   "source": [
    "%matplotlib inline\n",
    "plt.figure(figsize=(8,6))\n",
    "plt.xlabel(\"Experience\")\n",
    "plt.ylabel(\"Salary\")\n",
    "plt.title(\"Experience vs Salary\")\n",
    "plt.scatter(df[\"Exp\"], df[\"Sal\"])\n",
    "plt.show()"
   ]
  },
  {
   "cell_type": "code",
   "execution_count": 10,
   "id": "7c68181a-c139-46eb-94f6-25c84c91ae50",
   "metadata": {},
   "outputs": [
    {
     "name": "stdout",
     "output_type": "stream",
     "text": [
      "cent 1 - [1 3] \n",
      "cent 2 - [ 6 14]\n"
     ]
    }
   ],
   "source": [
    "# Considering 2 centroids\n",
    "c1 = data[7]\n",
    "c2 = data[2]\n",
    "print(\"cent 1 -\", c1, \"\\ncent 2 -\",c2 )"
   ]
  },
  {
   "cell_type": "code",
   "execution_count": 17,
   "id": "ff9a45f4-d041-4333-8a9a-8211a8836669",
   "metadata": {},
   "outputs": [],
   "source": [
    "c1_ls = [np.sqrt(((c1[0] - data[i][0])**2) + ((c1[1] - data[i][1])**2)) for i in range(len(data))]"
   ]
  },
  {
   "cell_type": "code",
   "execution_count": 18,
   "id": "74e6426d-8071-4170-94f0-c0b4aaa4ea62",
   "metadata": {},
   "outputs": [
    {
     "data": {
      "text/plain": [
       "[9.848857801796104,\n",
       " 8.54400374531753,\n",
       " 12.083045973594572,\n",
       " 2.23606797749979,\n",
       " 4.47213595499958,\n",
       " 7.615773105863909,\n",
       " 11.661903789690601,\n",
       " 0.0,\n",
       " 1.4142135623730951,\n",
       " 10.295630140987,\n",
       " 1.0]"
      ]
     },
     "execution_count": 18,
     "metadata": {},
     "output_type": "execute_result"
    }
   ],
   "source": [
    "c1_ls"
   ]
  },
  {
   "cell_type": "code",
   "execution_count": 19,
   "id": "d8acf5d8-0027-4b13-875c-1393c0ef2dc1",
   "metadata": {},
   "outputs": [
    {
     "data": {
      "text/plain": [
       "[2.23606797749979,\n",
       " 3.605551275463989,\n",
       " 0.0,\n",
       " 9.848857801796104,\n",
       " 7.615773105863909,\n",
       " 4.47213595499958,\n",
       " 1.4142135623730951,\n",
       " 12.083045973594572,\n",
       " 10.770329614269007,\n",
       " 2.0,\n",
       " 11.180339887498949]"
      ]
     },
     "execution_count": 19,
     "metadata": {},
     "output_type": "execute_result"
    }
   ],
   "source": [
    "c2_ls = [np.sqrt(((c2[0] - data[i][0])**2) + ((c2[1] - data[i][1])**2)) for i in range(len(data))]\n",
    "c2_ls"
   ]
  },
  {
   "cell_type": "code",
   "execution_count": 20,
   "id": "0adbf460-7c1a-45c3-982c-a5f04d2086f4",
   "metadata": {},
   "outputs": [],
   "source": [
    "new_df = df"
   ]
  },
  {
   "cell_type": "code",
   "execution_count": 21,
   "id": "5f20ef66-a7f6-42b5-bd29-ba210767058e",
   "metadata": {},
   "outputs": [
    {
     "data": {
      "text/html": [
       "<div>\n",
       "<style scoped>\n",
       "    .dataframe tbody tr th:only-of-type {\n",
       "        vertical-align: middle;\n",
       "    }\n",
       "\n",
       "    .dataframe tbody tr th {\n",
       "        vertical-align: top;\n",
       "    }\n",
       "\n",
       "    .dataframe thead th {\n",
       "        text-align: right;\n",
       "    }\n",
       "</style>\n",
       "<table border=\"1\" class=\"dataframe\">\n",
       "  <thead>\n",
       "    <tr style=\"text-align: right;\">\n",
       "      <th></th>\n",
       "      <th>Exp</th>\n",
       "      <th>Sal</th>\n",
       "      <th>cent1</th>\n",
       "      <th>cent2</th>\n",
       "    </tr>\n",
       "  </thead>\n",
       "  <tbody>\n",
       "    <tr>\n",
       "      <th>0</th>\n",
       "      <td>5</td>\n",
       "      <td>12</td>\n",
       "      <td>9.848858</td>\n",
       "      <td>2.236068</td>\n",
       "    </tr>\n",
       "    <tr>\n",
       "      <th>1</th>\n",
       "      <td>4</td>\n",
       "      <td>11</td>\n",
       "      <td>8.544004</td>\n",
       "      <td>3.605551</td>\n",
       "    </tr>\n",
       "    <tr>\n",
       "      <th>2</th>\n",
       "      <td>6</td>\n",
       "      <td>14</td>\n",
       "      <td>12.083046</td>\n",
       "      <td>0.000000</td>\n",
       "    </tr>\n",
       "    <tr>\n",
       "      <th>3</th>\n",
       "      <td>2</td>\n",
       "      <td>5</td>\n",
       "      <td>2.236068</td>\n",
       "      <td>9.848858</td>\n",
       "    </tr>\n",
       "    <tr>\n",
       "      <th>4</th>\n",
       "      <td>3</td>\n",
       "      <td>7</td>\n",
       "      <td>4.472136</td>\n",
       "      <td>7.615773</td>\n",
       "    </tr>\n",
       "  </tbody>\n",
       "</table>\n",
       "</div>"
      ],
      "text/plain": [
       "   Exp  Sal      cent1     cent2\n",
       "0    5   12   9.848858  2.236068\n",
       "1    4   11   8.544004  3.605551\n",
       "2    6   14  12.083046  0.000000\n",
       "3    2    5   2.236068  9.848858\n",
       "4    3    7   4.472136  7.615773"
      ]
     },
     "execution_count": 21,
     "metadata": {},
     "output_type": "execute_result"
    }
   ],
   "source": [
    "new_df[\"cent1\"] = c1_ls\n",
    "new_df[\"cent2\"] = c2_ls\n",
    "new_df.head()"
   ]
  },
  {
   "cell_type": "code",
   "execution_count": 24,
   "id": "598ad03c-7ed7-46ae-8e29-e79682818d8f",
   "metadata": {},
   "outputs": [],
   "source": [
    "gr = [np.argmin(df[[\"cent1\",\"cent2\"]].iloc[i]) for i in range(len(df))]"
   ]
  },
  {
   "cell_type": "code",
   "execution_count": 28,
   "id": "df2e092a-d7c9-4449-b502-3044a4f13d24",
   "metadata": {},
   "outputs": [
    {
     "data": {
      "text/plain": [
       "[1, 1, 1, 0, 0, 1, 1, 0, 0, 1, 0]"
      ]
     },
     "execution_count": 28,
     "metadata": {},
     "output_type": "execute_result"
    }
   ],
   "source": [
    "gr"
   ]
  },
  {
   "cell_type": "code",
   "execution_count": 33,
   "id": "f9735a14-a038-4941-8320-0e77be820500",
   "metadata": {},
   "outputs": [
    {
     "data": {
      "text/html": [
       "<div>\n",
       "<style scoped>\n",
       "    .dataframe tbody tr th:only-of-type {\n",
       "        vertical-align: middle;\n",
       "    }\n",
       "\n",
       "    .dataframe tbody tr th {\n",
       "        vertical-align: top;\n",
       "    }\n",
       "\n",
       "    .dataframe thead th {\n",
       "        text-align: right;\n",
       "    }\n",
       "</style>\n",
       "<table border=\"1\" class=\"dataframe\">\n",
       "  <thead>\n",
       "    <tr style=\"text-align: right;\">\n",
       "      <th></th>\n",
       "      <th>Exp</th>\n",
       "      <th>Sal</th>\n",
       "      <th>cent1</th>\n",
       "      <th>cent2</th>\n",
       "      <th>cluster</th>\n",
       "    </tr>\n",
       "  </thead>\n",
       "  <tbody>\n",
       "    <tr>\n",
       "      <th>0</th>\n",
       "      <td>5</td>\n",
       "      <td>12</td>\n",
       "      <td>9.848858</td>\n",
       "      <td>2.236068</td>\n",
       "      <td>1</td>\n",
       "    </tr>\n",
       "    <tr>\n",
       "      <th>1</th>\n",
       "      <td>4</td>\n",
       "      <td>11</td>\n",
       "      <td>8.544004</td>\n",
       "      <td>3.605551</td>\n",
       "      <td>1</td>\n",
       "    </tr>\n",
       "    <tr>\n",
       "      <th>2</th>\n",
       "      <td>6</td>\n",
       "      <td>14</td>\n",
       "      <td>12.083046</td>\n",
       "      <td>0.000000</td>\n",
       "      <td>1</td>\n",
       "    </tr>\n",
       "    <tr>\n",
       "      <th>3</th>\n",
       "      <td>2</td>\n",
       "      <td>5</td>\n",
       "      <td>2.236068</td>\n",
       "      <td>9.848858</td>\n",
       "      <td>0</td>\n",
       "    </tr>\n",
       "    <tr>\n",
       "      <th>4</th>\n",
       "      <td>3</td>\n",
       "      <td>7</td>\n",
       "      <td>4.472136</td>\n",
       "      <td>7.615773</td>\n",
       "      <td>0</td>\n",
       "    </tr>\n",
       "    <tr>\n",
       "      <th>5</th>\n",
       "      <td>4</td>\n",
       "      <td>10</td>\n",
       "      <td>7.615773</td>\n",
       "      <td>4.472136</td>\n",
       "      <td>1</td>\n",
       "    </tr>\n",
       "    <tr>\n",
       "      <th>6</th>\n",
       "      <td>7</td>\n",
       "      <td>13</td>\n",
       "      <td>11.661904</td>\n",
       "      <td>1.414214</td>\n",
       "      <td>1</td>\n",
       "    </tr>\n",
       "    <tr>\n",
       "      <th>7</th>\n",
       "      <td>1</td>\n",
       "      <td>3</td>\n",
       "      <td>0.000000</td>\n",
       "      <td>12.083046</td>\n",
       "      <td>0</td>\n",
       "    </tr>\n",
       "    <tr>\n",
       "      <th>8</th>\n",
       "      <td>2</td>\n",
       "      <td>4</td>\n",
       "      <td>1.414214</td>\n",
       "      <td>10.770330</td>\n",
       "      <td>0</td>\n",
       "    </tr>\n",
       "    <tr>\n",
       "      <th>9</th>\n",
       "      <td>6</td>\n",
       "      <td>12</td>\n",
       "      <td>10.295630</td>\n",
       "      <td>2.000000</td>\n",
       "      <td>1</td>\n",
       "    </tr>\n",
       "    <tr>\n",
       "      <th>10</th>\n",
       "      <td>1</td>\n",
       "      <td>4</td>\n",
       "      <td>1.000000</td>\n",
       "      <td>11.180340</td>\n",
       "      <td>0</td>\n",
       "    </tr>\n",
       "  </tbody>\n",
       "</table>\n",
       "</div>"
      ],
      "text/plain": [
       "    Exp  Sal      cent1      cent2  cluster\n",
       "0     5   12   9.848858   2.236068        1\n",
       "1     4   11   8.544004   3.605551        1\n",
       "2     6   14  12.083046   0.000000        1\n",
       "3     2    5   2.236068   9.848858        0\n",
       "4     3    7   4.472136   7.615773        0\n",
       "5     4   10   7.615773   4.472136        1\n",
       "6     7   13  11.661904   1.414214        1\n",
       "7     1    3   0.000000  12.083046        0\n",
       "8     2    4   1.414214  10.770330        0\n",
       "9     6   12  10.295630   2.000000        1\n",
       "10    1    4   1.000000  11.180340        0"
      ]
     },
     "execution_count": 33,
     "metadata": {},
     "output_type": "execute_result"
    }
   ],
   "source": [
    "new_df[\"cluster\"] = gr\n",
    "new_df"
   ]
  },
  {
   "cell_type": "code",
   "execution_count": 34,
   "id": "2aa68585-f533-45cb-bb23-7912a3e51243",
   "metadata": {},
   "outputs": [],
   "source": [
    "c1_data = new_df[new_df[\"cluster\"]==0]\n",
    "c2_data = new_df[new_df[\"cluster\"]==1]"
   ]
  },
  {
   "cell_type": "code",
   "execution_count": 35,
   "id": "7e222095-30af-4ba8-98f0-763a42f4c8ee",
   "metadata": {},
   "outputs": [
    {
     "data": {
      "text/html": [
       "<div>\n",
       "<style scoped>\n",
       "    .dataframe tbody tr th:only-of-type {\n",
       "        vertical-align: middle;\n",
       "    }\n",
       "\n",
       "    .dataframe tbody tr th {\n",
       "        vertical-align: top;\n",
       "    }\n",
       "\n",
       "    .dataframe thead th {\n",
       "        text-align: right;\n",
       "    }\n",
       "</style>\n",
       "<table border=\"1\" class=\"dataframe\">\n",
       "  <thead>\n",
       "    <tr style=\"text-align: right;\">\n",
       "      <th></th>\n",
       "      <th>Exp</th>\n",
       "      <th>Sal</th>\n",
       "      <th>cent1</th>\n",
       "      <th>cent2</th>\n",
       "      <th>cluster</th>\n",
       "    </tr>\n",
       "  </thead>\n",
       "  <tbody>\n",
       "    <tr>\n",
       "      <th>3</th>\n",
       "      <td>2</td>\n",
       "      <td>5</td>\n",
       "      <td>2.236068</td>\n",
       "      <td>9.848858</td>\n",
       "      <td>0</td>\n",
       "    </tr>\n",
       "    <tr>\n",
       "      <th>4</th>\n",
       "      <td>3</td>\n",
       "      <td>7</td>\n",
       "      <td>4.472136</td>\n",
       "      <td>7.615773</td>\n",
       "      <td>0</td>\n",
       "    </tr>\n",
       "    <tr>\n",
       "      <th>7</th>\n",
       "      <td>1</td>\n",
       "      <td>3</td>\n",
       "      <td>0.000000</td>\n",
       "      <td>12.083046</td>\n",
       "      <td>0</td>\n",
       "    </tr>\n",
       "    <tr>\n",
       "      <th>8</th>\n",
       "      <td>2</td>\n",
       "      <td>4</td>\n",
       "      <td>1.414214</td>\n",
       "      <td>10.770330</td>\n",
       "      <td>0</td>\n",
       "    </tr>\n",
       "    <tr>\n",
       "      <th>10</th>\n",
       "      <td>1</td>\n",
       "      <td>4</td>\n",
       "      <td>1.000000</td>\n",
       "      <td>11.180340</td>\n",
       "      <td>0</td>\n",
       "    </tr>\n",
       "  </tbody>\n",
       "</table>\n",
       "</div>"
      ],
      "text/plain": [
       "    Exp  Sal     cent1      cent2  cluster\n",
       "3     2    5  2.236068   9.848858        0\n",
       "4     3    7  4.472136   7.615773        0\n",
       "7     1    3  0.000000  12.083046        0\n",
       "8     2    4  1.414214  10.770330        0\n",
       "10    1    4  1.000000  11.180340        0"
      ]
     },
     "execution_count": 35,
     "metadata": {},
     "output_type": "execute_result"
    }
   ],
   "source": [
    "c1_data"
   ]
  },
  {
   "cell_type": "code",
   "execution_count": 36,
   "id": "a090831a-51bf-469d-adb4-b73fc9003f2a",
   "metadata": {},
   "outputs": [
    {
     "data": {
      "text/html": [
       "<div>\n",
       "<style scoped>\n",
       "    .dataframe tbody tr th:only-of-type {\n",
       "        vertical-align: middle;\n",
       "    }\n",
       "\n",
       "    .dataframe tbody tr th {\n",
       "        vertical-align: top;\n",
       "    }\n",
       "\n",
       "    .dataframe thead th {\n",
       "        text-align: right;\n",
       "    }\n",
       "</style>\n",
       "<table border=\"1\" class=\"dataframe\">\n",
       "  <thead>\n",
       "    <tr style=\"text-align: right;\">\n",
       "      <th></th>\n",
       "      <th>Exp</th>\n",
       "      <th>Sal</th>\n",
       "      <th>cent1</th>\n",
       "      <th>cent2</th>\n",
       "      <th>cluster</th>\n",
       "    </tr>\n",
       "  </thead>\n",
       "  <tbody>\n",
       "    <tr>\n",
       "      <th>0</th>\n",
       "      <td>5</td>\n",
       "      <td>12</td>\n",
       "      <td>9.848858</td>\n",
       "      <td>2.236068</td>\n",
       "      <td>1</td>\n",
       "    </tr>\n",
       "    <tr>\n",
       "      <th>1</th>\n",
       "      <td>4</td>\n",
       "      <td>11</td>\n",
       "      <td>8.544004</td>\n",
       "      <td>3.605551</td>\n",
       "      <td>1</td>\n",
       "    </tr>\n",
       "    <tr>\n",
       "      <th>2</th>\n",
       "      <td>6</td>\n",
       "      <td>14</td>\n",
       "      <td>12.083046</td>\n",
       "      <td>0.000000</td>\n",
       "      <td>1</td>\n",
       "    </tr>\n",
       "    <tr>\n",
       "      <th>5</th>\n",
       "      <td>4</td>\n",
       "      <td>10</td>\n",
       "      <td>7.615773</td>\n",
       "      <td>4.472136</td>\n",
       "      <td>1</td>\n",
       "    </tr>\n",
       "    <tr>\n",
       "      <th>6</th>\n",
       "      <td>7</td>\n",
       "      <td>13</td>\n",
       "      <td>11.661904</td>\n",
       "      <td>1.414214</td>\n",
       "      <td>1</td>\n",
       "    </tr>\n",
       "    <tr>\n",
       "      <th>9</th>\n",
       "      <td>6</td>\n",
       "      <td>12</td>\n",
       "      <td>10.295630</td>\n",
       "      <td>2.000000</td>\n",
       "      <td>1</td>\n",
       "    </tr>\n",
       "  </tbody>\n",
       "</table>\n",
       "</div>"
      ],
      "text/plain": [
       "   Exp  Sal      cent1     cent2  cluster\n",
       "0    5   12   9.848858  2.236068        1\n",
       "1    4   11   8.544004  3.605551        1\n",
       "2    6   14  12.083046  0.000000        1\n",
       "5    4   10   7.615773  4.472136        1\n",
       "6    7   13  11.661904  1.414214        1\n",
       "9    6   12  10.295630  2.000000        1"
      ]
     },
     "execution_count": 36,
     "metadata": {},
     "output_type": "execute_result"
    }
   ],
   "source": [
    "c2_data"
   ]
  },
  {
   "cell_type": "code",
   "execution_count": 41,
   "id": "eca191af-b934-45aa-bc5a-7574165ef10c",
   "metadata": {},
   "outputs": [
    {
     "data": {
      "image/png": "[encoded data removed]",
      "text/plain": [
       "<Figure size 600x400 with 1 Axes>"
      ]
     },
     "metadata": {},
     "output_type": "display_data"
    }
   ],
   "source": [
    "%matplotlib inline\n",
    "plt.figure(figsize=(6,4))\n",
    "plt.xlabel(\"Experience\")\n",
    "plt.ylabel(\"Salary\")\n",
    "plt.title(\"Experience vs Salary\")\n",
    "plt.scatter(c1_data[\"Exp\"], c1_data[\"Sal\"], label=\"Cluster 1\", color=\"red\")\n",
    "plt.scatter(c2_data[\"Exp\"], c2_data[\"Sal\"], label=\"Cluster 2\", color=\"blue\")\n",
    "plt.scatter(c1, c2, label=\"Centroids\", marker=\"*\", color=\"black\")\n",
    "plt.legend()\n",
    "plt.show()"
   ]
  },
  {
   "cell_type": "code",
   "execution_count": 42,
   "id": "e541862e-a348-4aa4-a107-6cab33d1007e",
   "metadata": {},
   "outputs": [
    {
     "data": {
      "text/plain": [
       "1.8"
      ]
     },
     "execution_count": 42,
     "metadata": {},
     "output_type": "execute_result"
    }
   ],
   "source": [
    "c1_data[\"Exp\"].mean()"
   ]
  },
  {
   "cell_type": "code",
   "execution_count": 43,
   "id": "f1f9b28a-6101-4690-a469-05c4e593c271",
   "metadata": {},
   "outputs": [
    {
     "data": {
      "text/plain": [
       "4.6"
      ]
     },
     "execution_count": 43,
     "metadata": {},
     "output_type": "execute_result"
    }
   ],
   "source": [
    "c1_data[\"Sal\"].mean()"
   ]
  },
  {
   "cell_type": "code",
   "execution_count": 45,
   "id": "e51d90aa-1d8c-412c-984f-3f185d64f96b",
   "metadata": {},
   "outputs": [
    {
     "data": {
      "text/plain": [
       "array([1.8, 4.6])"
      ]
     },
     "execution_count": 45,
     "metadata": {},
     "output_type": "execute_result"
    }
   ],
   "source": [
    "new_c1 = np.array([c1_data[\"Exp\"].mean(), c1_data[\"Sal\"].mean()])\n",
    "new_c1"
   ]
  },
  {
   "cell_type": "code",
   "execution_count": 46,
   "id": "408c5323-1e1e-46e9-b6bd-b7d91ba6ee56",
   "metadata": {},
   "outputs": [
    {
     "data": {
      "text/plain": [
       "array([ 5.33333333, 12.        ])"
      ]
     },
     "execution_count": 46,
     "metadata": {},
     "output_type": "execute_result"
    }
   ],
   "source": [
    "new_c2 = np.array([c2_data[\"Exp\"].mean(), c2_data[\"Sal\"].mean()])\n",
    "new_c2"
   ]
  },
  {
   "cell_type": "code",
   "execution_count": 49,
   "id": "2f77b841-ee02-44a7-a7fb-087e450e7779",
   "metadata": {},
   "outputs": [
    {
     "data": {
      "image/png": "[encoded data removed]",
      "text/plain": [
       "<Figure size 800x600 with 1 Axes>"
      ]
     },
     "metadata": {},
     "output_type": "display_data"
    }
   ],
   "source": [
    "%matplotlib inline\n",
    "plt.figure(figsize=(8,6))\n",
    "plt.xlabel(\"Experience\")\n",
    "plt.ylabel(\"Salary\")\n",
    "plt.title(\"Experience vs Salary\")\n",
    "plt.scatter(c1_data[\"Exp\"], c1_data[\"Sal\"], label=\"Cluster 1\", color=\"red\")\n",
    "plt.scatter(c2_data[\"Exp\"], c2_data[\"Sal\"], label=\"Cluster 2\", color=\"blue\")\n",
    "plt.scatter(c1, c2, label=\"Old Centroids\", marker=\"*\", color=\"black\")\n",
    "plt.scatter(new_c1, new_c2, label=\"New Centroids\", marker=\"*\", color=\"green\")\n",
    "plt.legend()\n",
    "plt.show()"
   ]
  },
  {
   "cell_type": "code",
   "execution_count": null,
   "id": "f274cdf5-3ecf-46e3-bf68-2b628ec96e55",
   "metadata": {},
   "outputs": [],
   "source": []
  }
 ],
 "metadata": {
  "kernelspec": {
   "display_name": "Python 3 (ipykernel)",
   "language": "python",
   "name": "python3"
  },
  "language_info": {
   "codemirror_mode": {
    "name": "ipython",
    "version": 3
   },
   "file_extension": ".py",
   "mimetype": "text/x-python",
   "name": "python",
   "nbconvert_exporter": "python",
   "pygments_lexer": "ipython3",
   "version": "3.11.3"
  }
 },
 "nbformat": 4,
 "nbformat_minor": 5
}
