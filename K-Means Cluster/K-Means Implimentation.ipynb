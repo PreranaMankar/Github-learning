{
 "cells": [
  {
   "cell_type": "code",
   "execution_count": 1,
   "id": "e09b733d-994a-4e95-827f-e0f2987b7ca6",
   "metadata": {},
   "outputs": [],
   "source": [
    "from sklearn.datasets import make_blobs"
   ]
  },
  {
   "cell_type": "code",
   "execution_count": 2,
   "id": "fec9b937-67ca-4ff2-b4a2-58e30e7b2ac5",
   "metadata": {},
   "outputs": [],
   "source": [
    "import numpy as np\n",
    "import pandas as pd\n",
    "from matplotlib import pyplot as plt"
   ]
  },
  {
   "cell_type": "code",
   "execution_count": 3,
   "id": "1b2f4ecd-27e9-497b-bbd8-f94c0c33d616",
   "metadata": {},
   "outputs": [],
   "source": [
    "import warnings\n",
    "warnings.filterwarnings(\"ignore\")"
   ]
  },
  {
   "cell_type": "code",
   "execution_count": 10,
   "id": "8f94225d-7546-4c9e-b328-b5094dd153e3",
   "metadata": {},
   "outputs": [],
   "source": [
    "data = make_blobs(n_samples=100, n_features=2, centers=[[2,3], [5,6]])"
   ]
  },
  {
   "cell_type": "code",
   "execution_count": 11,
   "id": "7490aac1-2ebd-414b-bedf-1a292bdd2ce6",
   "metadata": {},
   "outputs": [
    {
     "data": {
      "text/plain": [
       "(array([[ 4.72223959,  5.74662855],\n",
       "        [ 5.93857434,  6.49106099],\n",
       "        [ 1.65428302,  3.39078512],\n",
       "        [ 2.0823275 ,  1.64439594],\n",
       "        [ 2.9791284 ,  5.69576379],\n",
       "        [ 2.50608927,  3.3655115 ],\n",
       "        [ 6.03024352,  7.19222886],\n",
       "        [ 1.56365488,  3.63730351],\n",
       "        [ 5.13766698,  5.28947083],\n",
       "        [ 2.07780996,  1.86405552],\n",
       "        [ 5.0985355 ,  5.19075726],\n",
       "        [ 4.28235639,  5.74575026],\n",
       "        [ 0.48591964,  2.01711993],\n",
       "        [ 3.84001385,  6.57980427],\n",
       "        [ 1.93543733,  3.11831513],\n",
       "        [ 4.59131582,  5.90556792],\n",
       "        [ 5.01843379,  4.47372608],\n",
       "        [ 5.35206216,  4.88986315],\n",
       "        [ 1.8712605 ,  1.32139468],\n",
       "        [ 5.38887738,  5.91822849],\n",
       "        [ 1.45419985,  1.7821533 ],\n",
       "        [ 2.02788838,  3.29555582],\n",
       "        [ 0.35618402,  3.46887277],\n",
       "        [ 3.25844089,  2.72924368],\n",
       "        [ 6.7588264 ,  4.32744632],\n",
       "        [ 5.42924646,  5.50773322],\n",
       "        [ 2.4878638 ,  2.08549121],\n",
       "        [ 5.89090753,  5.37459835],\n",
       "        [ 4.31097894,  2.9884116 ],\n",
       "        [ 5.21550967,  5.74319536],\n",
       "        [ 3.29103139,  0.84781762],\n",
       "        [ 6.69000571,  6.79465518],\n",
       "        [ 4.74577919,  5.50378853],\n",
       "        [ 4.84793386,  5.86571834],\n",
       "        [ 1.03291099,  2.46957772],\n",
       "        [ 3.58256991,  5.65652025],\n",
       "        [ 1.34259627,  1.97050058],\n",
       "        [ 1.17790777,  2.70519272],\n",
       "        [ 1.2029422 ,  4.85779728],\n",
       "        [ 1.7771197 ,  3.68797138],\n",
       "        [ 1.01807853,  3.40297634],\n",
       "        [ 5.02330208,  6.23863442],\n",
       "        [ 4.98772559,  6.15212724],\n",
       "        [ 2.95707752,  3.95979017],\n",
       "        [ 0.93111697,  3.08579013],\n",
       "        [ 4.78287308,  6.33816158],\n",
       "        [ 0.33890937,  5.17545625],\n",
       "        [ 6.14987534,  5.1247822 ],\n",
       "        [ 1.9856466 ,  6.19876905],\n",
       "        [ 1.48999386,  2.05688925],\n",
       "        [ 5.37924544,  6.69982957],\n",
       "        [ 2.29064555,  3.52805003],\n",
       "        [ 5.25601713,  7.64019553],\n",
       "        [ 2.51324121,  3.20622747],\n",
       "        [ 2.10321098,  2.28297228],\n",
       "        [ 5.94027672,  5.46462392],\n",
       "        [ 4.17039451,  3.985486  ],\n",
       "        [ 5.12892599,  7.34900495],\n",
       "        [ 1.03260625,  1.68305996],\n",
       "        [ 1.34462421,  3.12668658],\n",
       "        [ 4.87377197,  6.85249619],\n",
       "        [ 4.85804491,  6.65548011],\n",
       "        [ 2.36769894,  2.67330541],\n",
       "        [ 4.83650589,  6.29987899],\n",
       "        [ 0.88766002,  2.40354991],\n",
       "        [-0.49638362,  2.65239438],\n",
       "        [ 2.25871147,  3.88063281],\n",
       "        [ 1.67389677,  1.25473284],\n",
       "        [ 0.35593178,  3.92236486],\n",
       "        [ 1.17556109,  2.69228401],\n",
       "        [ 0.71175046,  3.77174497],\n",
       "        [ 3.15644985,  5.33778489],\n",
       "        [ 2.96870985,  2.64902253],\n",
       "        [ 5.50865106,  4.17014738],\n",
       "        [ 6.55459673,  5.41455722],\n",
       "        [ 5.6635713 ,  7.12339598],\n",
       "        [ 5.62676787,  6.92947021],\n",
       "        [ 5.57629886,  6.83949861],\n",
       "        [ 4.98294774,  4.30703247],\n",
       "        [ 1.86327036,  3.15771786],\n",
       "        [ 5.720574  ,  6.28087083],\n",
       "        [ 3.24669587,  2.81005463],\n",
       "        [ 5.12851484,  4.2397558 ],\n",
       "        [ 6.97250745,  5.75562331],\n",
       "        [ 4.48221563,  5.82267482],\n",
       "        [ 4.28713692,  6.71145241],\n",
       "        [ 4.63488412,  5.66370192],\n",
       "        [ 3.05918988,  4.22616707],\n",
       "        [ 2.13255637,  2.4863496 ],\n",
       "        [ 4.20989706,  6.58286278],\n",
       "        [ 4.15611784,  6.23695271],\n",
       "        [ 4.58870193,  6.15753892],\n",
       "        [ 2.08761425,  4.66715821],\n",
       "        [ 2.01852811,  3.75837695],\n",
       "        [ 4.39631434,  6.88999643],\n",
       "        [-0.7689847 ,  1.17037989],\n",
       "        [ 1.34860588,  3.86114398],\n",
       "        [ 2.03537202, -0.20503843],\n",
       "        [ 6.07445524,  7.14233662],\n",
       "        [ 5.0530453 ,  6.20878156]]),\n",
       " array([1, 1, 0, 0, 1, 0, 1, 0, 1, 0, 1, 1, 0, 1, 0, 1, 1, 1, 0, 1, 0, 0,\n",
       "        0, 0, 1, 1, 0, 1, 0, 1, 0, 1, 1, 1, 0, 1, 0, 0, 0, 0, 0, 1, 1, 0,\n",
       "        0, 1, 0, 1, 0, 0, 1, 0, 1, 0, 0, 1, 1, 1, 0, 0, 1, 1, 0, 1, 0, 0,\n",
       "        0, 0, 0, 0, 0, 0, 0, 1, 1, 1, 1, 1, 1, 0, 1, 0, 1, 1, 1, 1, 1, 0,\n",
       "        0, 1, 1, 1, 0, 0, 1, 0, 0, 0, 1, 1]))"
      ]
     },
     "execution_count": 11,
     "metadata": {},
     "output_type": "execute_result"
    }
   ],
   "source": [
    "data"
   ]
  },
  {
   "cell_type": "code",
   "execution_count": 12,
   "id": "d082c2d8-7e84-4cc8-892b-4fa6c7ba8f59",
   "metadata": {},
   "outputs": [
    {
     "data": {
      "text/html": [
       "<div>\n",
       "<style scoped>\n",
       "    .dataframe tbody tr th:only-of-type {\n",
       "        vertical-align: middle;\n",
       "    }\n",
       "\n",
       "    .dataframe tbody tr th {\n",
       "        vertical-align: top;\n",
       "    }\n",
       "\n",
       "    .dataframe thead th {\n",
       "        text-align: right;\n",
       "    }\n",
       "</style>\n",
       "<table border=\"1\" class=\"dataframe\">\n",
       "  <thead>\n",
       "    <tr style=\"text-align: right;\">\n",
       "      <th></th>\n",
       "      <th>Col_1</th>\n",
       "      <th>Col_2</th>\n",
       "      <th>Target</th>\n",
       "    </tr>\n",
       "  </thead>\n",
       "  <tbody>\n",
       "    <tr>\n",
       "      <th>0</th>\n",
       "      <td>4.722240</td>\n",
       "      <td>5.746629</td>\n",
       "      <td>1</td>\n",
       "    </tr>\n",
       "    <tr>\n",
       "      <th>1</th>\n",
       "      <td>5.938574</td>\n",
       "      <td>6.491061</td>\n",
       "      <td>1</td>\n",
       "    </tr>\n",
       "    <tr>\n",
       "      <th>2</th>\n",
       "      <td>1.654283</td>\n",
       "      <td>3.390785</td>\n",
       "      <td>0</td>\n",
       "    </tr>\n",
       "    <tr>\n",
       "      <th>3</th>\n",
       "      <td>2.082328</td>\n",
       "      <td>1.644396</td>\n",
       "      <td>0</td>\n",
       "    </tr>\n",
       "    <tr>\n",
       "      <th>4</th>\n",
       "      <td>2.979128</td>\n",
       "      <td>5.695764</td>\n",
       "      <td>1</td>\n",
       "    </tr>\n",
       "  </tbody>\n",
       "</table>\n",
       "</div>"
      ],
      "text/plain": [
       "      Col_1     Col_2  Target\n",
       "0  4.722240  5.746629       1\n",
       "1  5.938574  6.491061       1\n",
       "2  1.654283  3.390785       0\n",
       "3  2.082328  1.644396       0\n",
       "4  2.979128  5.695764       1"
      ]
     },
     "execution_count": 12,
     "metadata": {},
     "output_type": "execute_result"
    }
   ],
   "source": [
    "df = pd.DataFrame(data[0], columns=[\"Col_1\", \"Col_2\"])\n",
    "df[\"Target\"] = data[1]\n",
    "df.head()"
   ]
  },
  {
   "cell_type": "code",
   "execution_count": 13,
   "id": "667b026f-6791-465a-ada6-049da95ccdf0",
   "metadata": {},
   "outputs": [],
   "source": [
    "X = data[0]\n",
    "y = data[1]"
   ]
  },
  {
   "cell_type": "code",
   "execution_count": 19,
   "id": "78c10314-6993-418d-b428-ff64c7437ef6",
   "metadata": {},
   "outputs": [
    {
     "data": {
      "text/plain": [
       "array([[ 4.72223959,  5.74662855],\n",
       "       [ 5.93857434,  6.49106099],\n",
       "       [ 1.65428302,  3.39078512],\n",
       "       [ 2.0823275 ,  1.64439594],\n",
       "       [ 2.9791284 ,  5.69576379],\n",
       "       [ 2.50608927,  3.3655115 ],\n",
       "       [ 6.03024352,  7.19222886],\n",
       "       [ 1.56365488,  3.63730351],\n",
       "       [ 5.13766698,  5.28947083],\n",
       "       [ 2.07780996,  1.86405552],\n",
       "       [ 5.0985355 ,  5.19075726],\n",
       "       [ 4.28235639,  5.74575026],\n",
       "       [ 0.48591964,  2.01711993],\n",
       "       [ 3.84001385,  6.57980427],\n",
       "       [ 1.93543733,  3.11831513],\n",
       "       [ 4.59131582,  5.90556792],\n",
       "       [ 5.01843379,  4.47372608],\n",
       "       [ 5.35206216,  4.88986315],\n",
       "       [ 1.8712605 ,  1.32139468],\n",
       "       [ 5.38887738,  5.91822849],\n",
       "       [ 1.45419985,  1.7821533 ],\n",
       "       [ 2.02788838,  3.29555582],\n",
       "       [ 0.35618402,  3.46887277],\n",
       "       [ 3.25844089,  2.72924368],\n",
       "       [ 6.7588264 ,  4.32744632],\n",
       "       [ 5.42924646,  5.50773322],\n",
       "       [ 2.4878638 ,  2.08549121],\n",
       "       [ 5.89090753,  5.37459835],\n",
       "       [ 4.31097894,  2.9884116 ],\n",
       "       [ 5.21550967,  5.74319536],\n",
       "       [ 3.29103139,  0.84781762],\n",
       "       [ 6.69000571,  6.79465518],\n",
       "       [ 4.74577919,  5.50378853],\n",
       "       [ 4.84793386,  5.86571834],\n",
       "       [ 1.03291099,  2.46957772],\n",
       "       [ 3.58256991,  5.65652025],\n",
       "       [ 1.34259627,  1.97050058],\n",
       "       [ 1.17790777,  2.70519272],\n",
       "       [ 1.2029422 ,  4.85779728],\n",
       "       [ 1.7771197 ,  3.68797138],\n",
       "       [ 1.01807853,  3.40297634],\n",
       "       [ 5.02330208,  6.23863442],\n",
       "       [ 4.98772559,  6.15212724],\n",
       "       [ 2.95707752,  3.95979017],\n",
       "       [ 0.93111697,  3.08579013],\n",
       "       [ 4.78287308,  6.33816158],\n",
       "       [ 0.33890937,  5.17545625],\n",
       "       [ 6.14987534,  5.1247822 ],\n",
       "       [ 1.9856466 ,  6.19876905],\n",
       "       [ 1.48999386,  2.05688925],\n",
       "       [ 5.37924544,  6.69982957],\n",
       "       [ 2.29064555,  3.52805003],\n",
       "       [ 5.25601713,  7.64019553],\n",
       "       [ 2.51324121,  3.20622747],\n",
       "       [ 2.10321098,  2.28297228],\n",
       "       [ 5.94027672,  5.46462392],\n",
       "       [ 4.17039451,  3.985486  ],\n",
       "       [ 5.12892599,  7.34900495],\n",
       "       [ 1.03260625,  1.68305996],\n",
       "       [ 1.34462421,  3.12668658],\n",
       "       [ 4.87377197,  6.85249619],\n",
       "       [ 4.85804491,  6.65548011],\n",
       "       [ 2.36769894,  2.67330541],\n",
       "       [ 4.83650589,  6.29987899],\n",
       "       [ 0.88766002,  2.40354991],\n",
       "       [-0.49638362,  2.65239438],\n",
       "       [ 2.25871147,  3.88063281],\n",
       "       [ 1.67389677,  1.25473284],\n",
       "       [ 0.35593178,  3.92236486],\n",
       "       [ 1.17556109,  2.69228401],\n",
       "       [ 0.71175046,  3.77174497],\n",
       "       [ 3.15644985,  5.33778489],\n",
       "       [ 2.96870985,  2.64902253],\n",
       "       [ 5.50865106,  4.17014738],\n",
       "       [ 6.55459673,  5.41455722],\n",
       "       [ 5.6635713 ,  7.12339598],\n",
       "       [ 5.62676787,  6.92947021],\n",
       "       [ 5.57629886,  6.83949861],\n",
       "       [ 4.98294774,  4.30703247],\n",
       "       [ 1.86327036,  3.15771786],\n",
       "       [ 5.720574  ,  6.28087083],\n",
       "       [ 3.24669587,  2.81005463],\n",
       "       [ 5.12851484,  4.2397558 ],\n",
       "       [ 6.97250745,  5.75562331],\n",
       "       [ 4.48221563,  5.82267482],\n",
       "       [ 4.28713692,  6.71145241],\n",
       "       [ 4.63488412,  5.66370192],\n",
       "       [ 3.05918988,  4.22616707],\n",
       "       [ 2.13255637,  2.4863496 ],\n",
       "       [ 4.20989706,  6.58286278],\n",
       "       [ 4.15611784,  6.23695271],\n",
       "       [ 4.58870193,  6.15753892],\n",
       "       [ 2.08761425,  4.66715821],\n",
       "       [ 2.01852811,  3.75837695],\n",
       "       [ 4.39631434,  6.88999643],\n",
       "       [-0.7689847 ,  1.17037989],\n",
       "       [ 1.34860588,  3.86114398],\n",
       "       [ 2.03537202, -0.20503843],\n",
       "       [ 6.07445524,  7.14233662],\n",
       "       [ 5.0530453 ,  6.20878156]])"
      ]
     },
     "execution_count": 19,
     "metadata": {},
     "output_type": "execute_result"
    }
   ],
   "source": [
    "X"
   ]
  },
  {
   "cell_type": "code",
   "execution_count": 21,
   "id": "9bcab1a4-99df-4f89-aec4-bca32c4d1dd7",
   "metadata": {},
   "outputs": [
    {
     "data": {
      "image/png": "[encoded data removed]",
      "text/plain": [
       "<Figure size 640x480 with 1 Axes>"
      ]
     },
     "metadata": {},
     "output_type": "display_data"
    }
   ],
   "source": [
    "%matplotlib inline\n",
    "# plt.scatter(X[:,0], X[:,1])\n",
    "plt.scatter(X[y==0,0], X[y==0,1], label=\"y=0\")\n",
    "plt.scatter(X[y==1,0], X[y==1,1], label=\"y=1\")\n",
    "plt.legend()\n",
    "plt.show()"
   ]
  },
  {
   "cell_type": "code",
   "execution_count": 22,
   "id": "7930b66c-ab64-486f-8f19-a6ce45252bf8",
   "metadata": {},
   "outputs": [],
   "source": [
    "from sklearn.cluster import KMeans"
   ]
  },
  {
   "cell_type": "code",
   "execution_count": 23,
   "id": "ca5907eb-d634-4d4a-82b3-4fe6a06577e2",
   "metadata": {},
   "outputs": [],
   "source": [
    "model = KMeans(n_clusters=2)"
   ]
  },
  {
   "cell_type": "code",
   "execution_count": 25,
   "id": "57b59d97-2eb9-4b6e-9718-7b9428952d87",
   "metadata": {},
   "outputs": [],
   "source": [
    "y_pred = model.fit_predict(X)"
   ]
  },
  {
   "cell_type": "code",
   "execution_count": 26,
   "id": "9d48177a-c95e-401c-8cfc-d507117bda18",
   "metadata": {},
   "outputs": [],
   "source": [
    "from sklearn.metrics import accuracy_score"
   ]
  },
  {
   "cell_type": "code",
   "execution_count": 27,
   "id": "a28cb73d-c93e-491d-8fd2-61d5096ce091",
   "metadata": {},
   "outputs": [
    {
     "data": {
      "text/plain": [
       "0.98"
      ]
     },
     "execution_count": 27,
     "metadata": {},
     "output_type": "execute_result"
    }
   ],
   "source": [
    "accuracy_score(y, y_pred)"
   ]
  },
  {
   "cell_type": "code",
   "execution_count": 28,
   "id": "f0f834c9-bf84-4e77-b137-8f6eae156ec7",
   "metadata": {},
   "outputs": [],
   "source": [
    "from sklearn.datasets import load_iris"
   ]
  },
  {
   "cell_type": "code",
   "execution_count": 29,
   "id": "ad8a014f-9464-4881-8de5-0a8748d864be",
   "metadata": {},
   "outputs": [],
   "source": [
    "iris = load_iris()"
   ]
  },
  {
   "cell_type": "code",
   "execution_count": 30,
   "id": "a98ec25c-096a-4534-a024-630ef912936c",
   "metadata": {},
   "outputs": [],
   "source": [
    "iris_data = iris.data"
   ]
  },
  {
   "cell_type": "code",
   "execution_count": 31,
   "id": "315aa7f3-fafd-453b-bb73-fe70da15a2ea",
   "metadata": {},
   "outputs": [
    {
     "data": {
      "text/plain": [
       "array([[5.1, 3.5, 1.4, 0.2],\n",
       "       [4.9, 3. , 1.4, 0.2],\n",
       "       [4.7, 3.2, 1.3, 0.2],\n",
       "       [4.6, 3.1, 1.5, 0.2],\n",
       "       [5. , 3.6, 1.4, 0.2],\n",
       "       [5.4, 3.9, 1.7, 0.4],\n",
       "       [4.6, 3.4, 1.4, 0.3],\n",
       "       [5. , 3.4, 1.5, 0.2],\n",
       "       [4.4, 2.9, 1.4, 0.2],\n",
       "       [4.9, 3.1, 1.5, 0.1],\n",
       "       [5.4, 3.7, 1.5, 0.2],\n",
       "       [4.8, 3.4, 1.6, 0.2],\n",
       "       [4.8, 3. , 1.4, 0.1],\n",
       "       [4.3, 3. , 1.1, 0.1],\n",
       "       [5.8, 4. , 1.2, 0.2],\n",
       "       [5.7, 4.4, 1.5, 0.4],\n",
       "       [5.4, 3.9, 1.3, 0.4],\n",
       "       [5.1, 3.5, 1.4, 0.3],\n",
       "       [5.7, 3.8, 1.7, 0.3],\n",
       "       [5.1, 3.8, 1.5, 0.3],\n",
       "       [5.4, 3.4, 1.7, 0.2],\n",
       "       [5.1, 3.7, 1.5, 0.4],\n",
       "       [4.6, 3.6, 1. , 0.2],\n",
       "       [5.1, 3.3, 1.7, 0.5],\n",
       "       [4.8, 3.4, 1.9, 0.2],\n",
       "       [5. , 3. , 1.6, 0.2],\n",
       "       [5. , 3.4, 1.6, 0.4],\n",
       "       [5.2, 3.5, 1.5, 0.2],\n",
       "       [5.2, 3.4, 1.4, 0.2],\n",
       "       [4.7, 3.2, 1.6, 0.2],\n",
       "       [4.8, 3.1, 1.6, 0.2],\n",
       "       [5.4, 3.4, 1.5, 0.4],\n",
       "       [5.2, 4.1, 1.5, 0.1],\n",
       "       [5.5, 4.2, 1.4, 0.2],\n",
       "       [4.9, 3.1, 1.5, 0.2],\n",
       "       [5. , 3.2, 1.2, 0.2],\n",
       "       [5.5, 3.5, 1.3, 0.2],\n",
       "       [4.9, 3.6, 1.4, 0.1],\n",
       "       [4.4, 3. , 1.3, 0.2],\n",
       "       [5.1, 3.4, 1.5, 0.2],\n",
       "       [5. , 3.5, 1.3, 0.3],\n",
       "       [4.5, 2.3, 1.3, 0.3],\n",
       "       [4.4, 3.2, 1.3, 0.2],\n",
       "       [5. , 3.5, 1.6, 0.6],\n",
       "       [5.1, 3.8, 1.9, 0.4],\n",
       "       [4.8, 3. , 1.4, 0.3],\n",
       "       [5.1, 3.8, 1.6, 0.2],\n",
       "       [4.6, 3.2, 1.4, 0.2],\n",
       "       [5.3, 3.7, 1.5, 0.2],\n",
       "       [5. , 3.3, 1.4, 0.2],\n",
       "       [7. , 3.2, 4.7, 1.4],\n",
       "       [6.4, 3.2, 4.5, 1.5],\n",
       "       [6.9, 3.1, 4.9, 1.5],\n",
       "       [5.5, 2.3, 4. , 1.3],\n",
       "       [6.5, 2.8, 4.6, 1.5],\n",
       "       [5.7, 2.8, 4.5, 1.3],\n",
       "       [6.3, 3.3, 4.7, 1.6],\n",
       "       [4.9, 2.4, 3.3, 1. ],\n",
       "       [6.6, 2.9, 4.6, 1.3],\n",
       "       [5.2, 2.7, 3.9, 1.4],\n",
       "       [5. , 2. , 3.5, 1. ],\n",
       "       [5.9, 3. , 4.2, 1.5],\n",
       "       [6. , 2.2, 4. , 1. ],\n",
       "       [6.1, 2.9, 4.7, 1.4],\n",
       "       [5.6, 2.9, 3.6, 1.3],\n",
       "       [6.7, 3.1, 4.4, 1.4],\n",
       "       [5.6, 3. , 4.5, 1.5],\n",
       "       [5.8, 2.7, 4.1, 1. ],\n",
       "       [6.2, 2.2, 4.5, 1.5],\n",
       "       [5.6, 2.5, 3.9, 1.1],\n",
       "       [5.9, 3.2, 4.8, 1.8],\n",
       "       [6.1, 2.8, 4. , 1.3],\n",
       "       [6.3, 2.5, 4.9, 1.5],\n",
       "       [6.1, 2.8, 4.7, 1.2],\n",
       "       [6.4, 2.9, 4.3, 1.3],\n",
       "       [6.6, 3. , 4.4, 1.4],\n",
       "       [6.8, 2.8, 4.8, 1.4],\n",
       "       [6.7, 3. , 5. , 1.7],\n",
       "       [6. , 2.9, 4.5, 1.5],\n",
       "       [5.7, 2.6, 3.5, 1. ],\n",
       "       [5.5, 2.4, 3.8, 1.1],\n",
       "       [5.5, 2.4, 3.7, 1. ],\n",
       "       [5.8, 2.7, 3.9, 1.2],\n",
       "       [6. , 2.7, 5.1, 1.6],\n",
       "       [5.4, 3. , 4.5, 1.5],\n",
       "       [6. , 3.4, 4.5, 1.6],\n",
       "       [6.7, 3.1, 4.7, 1.5],\n",
       "       [6.3, 2.3, 4.4, 1.3],\n",
       "       [5.6, 3. , 4.1, 1.3],\n",
       "       [5.5, 2.5, 4. , 1.3],\n",
       "       [5.5, 2.6, 4.4, 1.2],\n",
       "       [6.1, 3. , 4.6, 1.4],\n",
       "       [5.8, 2.6, 4. , 1.2],\n",
       "       [5. , 2.3, 3.3, 1. ],\n",
       "       [5.6, 2.7, 4.2, 1.3],\n",
       "       [5.7, 3. , 4.2, 1.2],\n",
       "       [5.7, 2.9, 4.2, 1.3],\n",
       "       [6.2, 2.9, 4.3, 1.3],\n",
       "       [5.1, 2.5, 3. , 1.1],\n",
       "       [5.7, 2.8, 4.1, 1.3],\n",
       "       [6.3, 3.3, 6. , 2.5],\n",
       "       [5.8, 2.7, 5.1, 1.9],\n",
       "       [7.1, 3. , 5.9, 2.1],\n",
       "       [6.3, 2.9, 5.6, 1.8],\n",
       "       [6.5, 3. , 5.8, 2.2],\n",
       "       [7.6, 3. , 6.6, 2.1],\n",
       "       [4.9, 2.5, 4.5, 1.7],\n",
       "       [7.3, 2.9, 6.3, 1.8],\n",
       "       [6.7, 2.5, 5.8, 1.8],\n",
       "       [7.2, 3.6, 6.1, 2.5],\n",
       "       [6.5, 3.2, 5.1, 2. ],\n",
       "       [6.4, 2.7, 5.3, 1.9],\n",
       "       [6.8, 3. , 5.5, 2.1],\n",
       "       [5.7, 2.5, 5. , 2. ],\n",
       "       [5.8, 2.8, 5.1, 2.4],\n",
       "       [6.4, 3.2, 5.3, 2.3],\n",
       "       [6.5, 3. , 5.5, 1.8],\n",
       "       [7.7, 3.8, 6.7, 2.2],\n",
       "       [7.7, 2.6, 6.9, 2.3],\n",
       "       [6. , 2.2, 5. , 1.5],\n",
       "       [6.9, 3.2, 5.7, 2.3],\n",
       "       [5.6, 2.8, 4.9, 2. ],\n",
       "       [7.7, 2.8, 6.7, 2. ],\n",
       "       [6.3, 2.7, 4.9, 1.8],\n",
       "       [6.7, 3.3, 5.7, 2.1],\n",
       "       [7.2, 3.2, 6. , 1.8],\n",
       "       [6.2, 2.8, 4.8, 1.8],\n",
       "       [6.1, 3. , 4.9, 1.8],\n",
       "       [6.4, 2.8, 5.6, 2.1],\n",
       "       [7.2, 3. , 5.8, 1.6],\n",
       "       [7.4, 2.8, 6.1, 1.9],\n",
       "       [7.9, 3.8, 6.4, 2. ],\n",
       "       [6.4, 2.8, 5.6, 2.2],\n",
       "       [6.3, 2.8, 5.1, 1.5],\n",
       "       [6.1, 2.6, 5.6, 1.4],\n",
       "       [7.7, 3. , 6.1, 2.3],\n",
       "       [6.3, 3.4, 5.6, 2.4],\n",
       "       [6.4, 3.1, 5.5, 1.8],\n",
       "       [6. , 3. , 4.8, 1.8],\n",
       "       [6.9, 3.1, 5.4, 2.1],\n",
       "       [6.7, 3.1, 5.6, 2.4],\n",
       "       [6.9, 3.1, 5.1, 2.3],\n",
       "       [5.8, 2.7, 5.1, 1.9],\n",
       "       [6.8, 3.2, 5.9, 2.3],\n",
       "       [6.7, 3.3, 5.7, 2.5],\n",
       "       [6.7, 3. , 5.2, 2.3],\n",
       "       [6.3, 2.5, 5. , 1.9],\n",
       "       [6.5, 3. , 5.2, 2. ],\n",
       "       [6.2, 3.4, 5.4, 2.3],\n",
       "       [5.9, 3. , 5.1, 1.8]])"
      ]
     },
     "execution_count": 31,
     "metadata": {},
     "output_type": "execute_result"
    }
   ],
   "source": [
    "iris_data"
   ]
  },
  {
   "cell_type": "code",
   "execution_count": 32,
   "id": "27178fcb-5922-4af8-a7ee-1dac2b449a7c",
   "metadata": {},
   "outputs": [
    {
     "data": {
      "text/html": [
       "<div>\n",
       "<style scoped>\n",
       "    .dataframe tbody tr th:only-of-type {\n",
       "        vertical-align: middle;\n",
       "    }\n",
       "\n",
       "    .dataframe tbody tr th {\n",
       "        vertical-align: top;\n",
       "    }\n",
       "\n",
       "    .dataframe thead th {\n",
       "        text-align: right;\n",
       "    }\n",
       "</style>\n",
       "<table border=\"1\" class=\"dataframe\">\n",
       "  <thead>\n",
       "    <tr style=\"text-align: right;\">\n",
       "      <th></th>\n",
       "      <th>petal length (cm)</th>\n",
       "      <th>petal width (cm)</th>\n",
       "    </tr>\n",
       "  </thead>\n",
       "  <tbody>\n",
       "    <tr>\n",
       "      <th>0</th>\n",
       "      <td>1.4</td>\n",
       "      <td>0.2</td>\n",
       "    </tr>\n",
       "    <tr>\n",
       "      <th>1</th>\n",
       "      <td>1.4</td>\n",
       "      <td>0.2</td>\n",
       "    </tr>\n",
       "    <tr>\n",
       "      <th>2</th>\n",
       "      <td>1.3</td>\n",
       "      <td>0.2</td>\n",
       "    </tr>\n",
       "    <tr>\n",
       "      <th>3</th>\n",
       "      <td>1.5</td>\n",
       "      <td>0.2</td>\n",
       "    </tr>\n",
       "    <tr>\n",
       "      <th>4</th>\n",
       "      <td>1.4</td>\n",
       "      <td>0.2</td>\n",
       "    </tr>\n",
       "    <tr>\n",
       "      <th>...</th>\n",
       "      <td>...</td>\n",
       "      <td>...</td>\n",
       "    </tr>\n",
       "    <tr>\n",
       "      <th>145</th>\n",
       "      <td>5.2</td>\n",
       "      <td>2.3</td>\n",
       "    </tr>\n",
       "    <tr>\n",
       "      <th>146</th>\n",
       "      <td>5.0</td>\n",
       "      <td>1.9</td>\n",
       "    </tr>\n",
       "    <tr>\n",
       "      <th>147</th>\n",
       "      <td>5.2</td>\n",
       "      <td>2.0</td>\n",
       "    </tr>\n",
       "    <tr>\n",
       "      <th>148</th>\n",
       "      <td>5.4</td>\n",
       "      <td>2.3</td>\n",
       "    </tr>\n",
       "    <tr>\n",
       "      <th>149</th>\n",
       "      <td>5.1</td>\n",
       "      <td>1.8</td>\n",
       "    </tr>\n",
       "  </tbody>\n",
       "</table>\n",
       "<p>150 rows × 2 columns</p>\n",
       "</div>"
      ],
      "text/plain": [
       "     petal length (cm)  petal width (cm)\n",
       "0                  1.4               0.2\n",
       "1                  1.4               0.2\n",
       "2                  1.3               0.2\n",
       "3                  1.5               0.2\n",
       "4                  1.4               0.2\n",
       "..                 ...               ...\n",
       "145                5.2               2.3\n",
       "146                5.0               1.9\n",
       "147                5.2               2.0\n",
       "148                5.4               2.3\n",
       "149                5.1               1.8\n",
       "\n",
       "[150 rows x 2 columns]"
      ]
     },
     "execution_count": 32,
     "metadata": {},
     "output_type": "execute_result"
    }
   ],
   "source": [
    "df_iris = pd.DataFrame(iris_data[:, 2:], columns=iris.feature_names[2:])\n",
    "df_iris"
   ]
  },
  {
   "cell_type": "code",
   "execution_count": 35,
   "id": "49445441-1202-409f-a1ca-1948c781da8f",
   "metadata": {},
   "outputs": [
    {
     "data": {
      "image/png": "[encoded data removed]",
      "text/plain": [
       "<Figure size 640x480 with 1 Axes>"
      ]
     },
     "metadata": {},
     "output_type": "display_data"
    }
   ],
   "source": [
    "%matplotlib inline\n",
    "# plt.scatter(X[:,0], X[:,1])\n",
    "plt.scatter(df_iris[\"petal length (cm)\"][:50], df_iris[\"petal width (cm)\"][:50], label=\"Setosa\")\n",
    "plt.scatter(df_iris[\"petal length (cm)\"][50:100], df_iris[\"petal width (cm)\"][50:100], label=\"Versicolor\")\n",
    "plt.scatter(df_iris[\"petal length (cm)\"][100:], df_iris[\"petal width (cm)\"][100:], label=\"Verginica\")\n",
    "plt.legend()\n",
    "plt.show()"
   ]
  },
  {
   "cell_type": "code",
   "execution_count": 36,
   "id": "8628a594-ad79-4be3-bc55-bc820b20bde9",
   "metadata": {},
   "outputs": [],
   "source": [
    "km = KMeans(n_clusters=3)"
   ]
  },
  {
   "cell_type": "code",
   "execution_count": 37,
   "id": "0b5b444d-7dca-49bb-ba69-e027c6c88a7c",
   "metadata": {},
   "outputs": [
    {
     "data": {
      "text/plain": [
       "array([2, 2, 2, 2, 2, 2, 2, 2, 2, 2, 2, 2, 2, 2, 2, 2, 2, 2, 2, 2, 2, 2,\n",
       "       2, 2, 2, 2, 2, 2, 2, 2, 2, 2, 2, 2, 2, 2, 2, 2, 2, 2, 2, 2, 2, 2,\n",
       "       2, 2, 2, 2, 2, 2, 0, 0, 0, 0, 0, 0, 0, 0, 0, 0, 0, 0, 0, 0, 0, 0,\n",
       "       0, 0, 0, 0, 0, 0, 0, 0, 0, 0, 0, 1, 0, 0, 0, 0, 0, 1, 0, 0, 0, 0,\n",
       "       0, 0, 0, 0, 0, 0, 0, 0, 0, 0, 0, 0, 1, 1, 1, 1, 1, 1, 0, 1, 1, 1,\n",
       "       1, 1, 1, 1, 1, 1, 1, 1, 1, 0, 1, 1, 1, 1, 1, 1, 0, 1, 1, 1, 1, 1,\n",
       "       1, 1, 1, 1, 1, 1, 0, 1, 1, 1, 1, 1, 1, 1, 1, 1, 1, 1])"
      ]
     },
     "execution_count": 37,
     "metadata": {},
     "output_type": "execute_result"
    }
   ],
   "source": [
    "km.fit_predict(df_iris)"
   ]
  },
  {
   "cell_type": "code",
   "execution_count": 39,
   "id": "d768a97d-5f16-44a2-b74e-d28b3286abda",
   "metadata": {},
   "outputs": [],
   "source": [
    "cent = km.cluster_centers_"
   ]
  },
  {
   "cell_type": "code",
   "execution_count": 40,
   "id": "af7df7ce-66d5-48ef-89c9-43dbbe02ef47",
   "metadata": {},
   "outputs": [
    {
     "data": {
      "image/png": "[encoded data removed]",
      "text/plain": [
       "<Figure size 640x480 with 1 Axes>"
      ]
     },
     "metadata": {},
     "output_type": "display_data"
    }
   ],
   "source": [
    "%matplotlib inline\n",
    "plt.scatter(df_iris[\"petal length (cm)\"][:50], df_iris[\"petal width (cm)\"][:50], label=\"Setosa\")\n",
    "plt.scatter(df_iris[\"petal length (cm)\"][50:100], df_iris[\"petal width (cm)\"][50:100], label=\"Versicolor\")\n",
    "plt.scatter(df_iris[\"petal length (cm)\"][100:], df_iris[\"petal width (cm)\"][100:], label=\"Verginica\")\n",
    "plt.scatter(cent[:,0], cent[:,1], label=\"Centroids\", marker=\"*\", color=\"black\")\n",
    "plt.legend()\n",
    "plt.show()"
   ]
  },
  {
   "cell_type": "code",
   "execution_count": 41,
   "id": "69c0535c-f8d6-4f49-a1b3-69b78440d2e3",
   "metadata": {},
   "outputs": [],
   "source": [
    "# Elbow method"
   ]
  },
  {
   "cell_type": "code",
   "execution_count": 44,
   "id": "4e7bea09-dfeb-479a-bfcd-6e893458a22c",
   "metadata": {},
   "outputs": [],
   "source": [
    "ls = []\n",
    "for i in range(1,11):\n",
    "    km = KMeans(n_clusters=i)\n",
    "    km.fit(df_iris)\n",
    "    ls.append(km.inertia_)"
   ]
  },
  {
   "cell_type": "code",
   "execution_count": 45,
   "id": "270f4215-917e-4d1f-9fd5-cb23071ad009",
   "metadata": {},
   "outputs": [
    {
     "data": {
      "text/plain": [
       "[550.8953333333334,\n",
       " 86.39021984551395,\n",
       " 31.371358974358984,\n",
       " 19.465989010989013,\n",
       " 13.91690875790876,\n",
       " 11.068446431864281,\n",
       " 9.292473178994918,\n",
       " 7.6241930625797245,\n",
       " 6.480259206692712,\n",
       " 5.805261904761905]"
      ]
     },
     "execution_count": 45,
     "metadata": {},
     "output_type": "execute_result"
    }
   ],
   "source": [
    "ls"
   ]
  },
  {
   "cell_type": "code",
   "execution_count": 48,
   "id": "a8a925b7-8eaf-48c5-bc97-25aaa49ac51c",
   "metadata": {},
   "outputs": [
    {
     "data": {
      "image/png": "[encoded data removed]",
      "text/plain": [
       "<Figure size 500x300 with 1 Axes>"
      ]
     },
     "metadata": {},
     "output_type": "display_data"
    }
   ],
   "source": [
    "plt.figure(figsize=(5,3))\n",
    "plt.xlabel(\"Values of K\")\n",
    "plt.ylabel(\"Errors\")\n",
    "plt.plot(range(1,11), ls, \"r-*\")\n",
    "plt.show()"
   ]
  },
  {
   "cell_type": "code",
   "execution_count": 49,
   "id": "caa93a5e-fc5d-4a39-a1b3-f4ce131e154c",
   "metadata": {},
   "outputs": [],
   "source": [
    "from sklearn.preprocessing import StandardScaler"
   ]
  },
  {
   "cell_type": "code",
   "execution_count": 50,
   "id": "57a93cc9-4f58-4ae5-8708-ebd717888dc8",
   "metadata": {},
   "outputs": [],
   "source": [
    "scalar = StandardScaler()"
   ]
  },
  {
   "cell_type": "code",
   "execution_count": 55,
   "id": "1eee9130-575d-4551-9039-5551436e4913",
   "metadata": {},
   "outputs": [],
   "source": [
    "a = scalar.fit(df_iris)\n",
    "new_df = a.transform(df_iris)"
   ]
  },
  {
   "cell_type": "code",
   "execution_count": 56,
   "id": "397384dd-918f-4d80-89b9-e91682ecbde2",
   "metadata": {},
   "outputs": [
    {
     "data": {
      "text/plain": [
       "array([[-1.34022653e+00, -1.31544430e+00],\n",
       "       [-1.34022653e+00, -1.31544430e+00],\n",
       "       [-1.39706395e+00, -1.31544430e+00],\n",
       "       [-1.28338910e+00, -1.31544430e+00],\n",
       "       [-1.34022653e+00, -1.31544430e+00],\n",
       "       [-1.16971425e+00, -1.05217993e+00],\n",
       "       [-1.34022653e+00, -1.18381211e+00],\n",
       "       [-1.28338910e+00, -1.31544430e+00],\n",
       "       [-1.34022653e+00, -1.31544430e+00],\n",
       "       [-1.28338910e+00, -1.44707648e+00],\n",
       "       [-1.28338910e+00, -1.31544430e+00],\n",
       "       [-1.22655167e+00, -1.31544430e+00],\n",
       "       [-1.34022653e+00, -1.44707648e+00],\n",
       "       [-1.51073881e+00, -1.44707648e+00],\n",
       "       [-1.45390138e+00, -1.31544430e+00],\n",
       "       [-1.28338910e+00, -1.05217993e+00],\n",
       "       [-1.39706395e+00, -1.05217993e+00],\n",
       "       [-1.34022653e+00, -1.18381211e+00],\n",
       "       [-1.16971425e+00, -1.18381211e+00],\n",
       "       [-1.28338910e+00, -1.18381211e+00],\n",
       "       [-1.16971425e+00, -1.31544430e+00],\n",
       "       [-1.28338910e+00, -1.05217993e+00],\n",
       "       [-1.56757623e+00, -1.31544430e+00],\n",
       "       [-1.16971425e+00, -9.20547742e-01],\n",
       "       [-1.05603939e+00, -1.31544430e+00],\n",
       "       [-1.22655167e+00, -1.31544430e+00],\n",
       "       [-1.22655167e+00, -1.05217993e+00],\n",
       "       [-1.28338910e+00, -1.31544430e+00],\n",
       "       [-1.34022653e+00, -1.31544430e+00],\n",
       "       [-1.22655167e+00, -1.31544430e+00],\n",
       "       [-1.22655167e+00, -1.31544430e+00],\n",
       "       [-1.28338910e+00, -1.05217993e+00],\n",
       "       [-1.28338910e+00, -1.44707648e+00],\n",
       "       [-1.34022653e+00, -1.31544430e+00],\n",
       "       [-1.28338910e+00, -1.31544430e+00],\n",
       "       [-1.45390138e+00, -1.31544430e+00],\n",
       "       [-1.39706395e+00, -1.31544430e+00],\n",
       "       [-1.34022653e+00, -1.44707648e+00],\n",
       "       [-1.39706395e+00, -1.31544430e+00],\n",
       "       [-1.28338910e+00, -1.31544430e+00],\n",
       "       [-1.39706395e+00, -1.18381211e+00],\n",
       "       [-1.39706395e+00, -1.18381211e+00],\n",
       "       [-1.39706395e+00, -1.31544430e+00],\n",
       "       [-1.22655167e+00, -7.88915558e-01],\n",
       "       [-1.05603939e+00, -1.05217993e+00],\n",
       "       [-1.34022653e+00, -1.18381211e+00],\n",
       "       [-1.22655167e+00, -1.31544430e+00],\n",
       "       [-1.34022653e+00, -1.31544430e+00],\n",
       "       [-1.28338910e+00, -1.31544430e+00],\n",
       "       [-1.34022653e+00, -1.31544430e+00],\n",
       "       [ 5.35408562e-01,  2.64141916e-01],\n",
       "       [ 4.21733708e-01,  3.95774101e-01],\n",
       "       [ 6.49083415e-01,  3.95774101e-01],\n",
       "       [ 1.37546573e-01,  1.32509732e-01],\n",
       "       [ 4.78571135e-01,  3.95774101e-01],\n",
       "       [ 4.21733708e-01,  1.32509732e-01],\n",
       "       [ 5.35408562e-01,  5.27406285e-01],\n",
       "       [-2.60315415e-01, -2.62386821e-01],\n",
       "       [ 4.78571135e-01,  1.32509732e-01],\n",
       "       [ 8.07091462e-02,  2.64141916e-01],\n",
       "       [-1.46640561e-01, -2.62386821e-01],\n",
       "       [ 2.51221427e-01,  3.95774101e-01],\n",
       "       [ 1.37546573e-01, -2.62386821e-01],\n",
       "       [ 5.35408562e-01,  2.64141916e-01],\n",
       "       [-8.98031345e-02,  1.32509732e-01],\n",
       "       [ 3.64896281e-01,  2.64141916e-01],\n",
       "       [ 4.21733708e-01,  3.95774101e-01],\n",
       "       [ 1.94384000e-01, -2.62386821e-01],\n",
       "       [ 4.21733708e-01,  3.95774101e-01],\n",
       "       [ 8.07091462e-02, -1.30754636e-01],\n",
       "       [ 5.92245988e-01,  7.90670654e-01],\n",
       "       [ 1.37546573e-01,  1.32509732e-01],\n",
       "       [ 6.49083415e-01,  3.95774101e-01],\n",
       "       [ 5.35408562e-01,  8.77547895e-04],\n",
       "       [ 3.08058854e-01,  1.32509732e-01],\n",
       "       [ 3.64896281e-01,  2.64141916e-01],\n",
       "       [ 5.92245988e-01,  2.64141916e-01],\n",
       "       [ 7.05920842e-01,  6.59038469e-01],\n",
       "       [ 4.21733708e-01,  3.95774101e-01],\n",
       "       [-1.46640561e-01, -2.62386821e-01],\n",
       "       [ 2.38717193e-02, -1.30754636e-01],\n",
       "       [-3.29657076e-02, -2.62386821e-01],\n",
       "       [ 8.07091462e-02,  8.77547895e-04],\n",
       "       [ 7.62758269e-01,  5.27406285e-01],\n",
       "       [ 4.21733708e-01,  3.95774101e-01],\n",
       "       [ 4.21733708e-01,  5.27406285e-01],\n",
       "       [ 5.35408562e-01,  3.95774101e-01],\n",
       "       [ 3.64896281e-01,  1.32509732e-01],\n",
       "       [ 1.94384000e-01,  1.32509732e-01],\n",
       "       [ 1.37546573e-01,  1.32509732e-01],\n",
       "       [ 3.64896281e-01,  8.77547895e-04],\n",
       "       [ 4.78571135e-01,  2.64141916e-01],\n",
       "       [ 1.37546573e-01,  8.77547895e-04],\n",
       "       [-2.60315415e-01, -2.62386821e-01],\n",
       "       [ 2.51221427e-01,  1.32509732e-01],\n",
       "       [ 2.51221427e-01,  8.77547895e-04],\n",
       "       [ 2.51221427e-01,  1.32509732e-01],\n",
       "       [ 3.08058854e-01,  1.32509732e-01],\n",
       "       [-4.30827696e-01, -1.30754636e-01],\n",
       "       [ 1.94384000e-01,  1.32509732e-01],\n",
       "       [ 1.27429511e+00,  1.71209594e+00],\n",
       "       [ 7.62758269e-01,  9.22302838e-01],\n",
       "       [ 1.21745768e+00,  1.18556721e+00],\n",
       "       [ 1.04694540e+00,  7.90670654e-01],\n",
       "       [ 1.16062026e+00,  1.31719939e+00],\n",
       "       [ 1.61531967e+00,  1.18556721e+00],\n",
       "       [ 4.21733708e-01,  6.59038469e-01],\n",
       "       [ 1.44480739e+00,  7.90670654e-01],\n",
       "       [ 1.16062026e+00,  7.90670654e-01],\n",
       "       [ 1.33113254e+00,  1.71209594e+00],\n",
       "       [ 7.62758269e-01,  1.05393502e+00],\n",
       "       [ 8.76433123e-01,  9.22302838e-01],\n",
       "       [ 9.90107977e-01,  1.18556721e+00],\n",
       "       [ 7.05920842e-01,  1.05393502e+00],\n",
       "       [ 7.62758269e-01,  1.58046376e+00],\n",
       "       [ 8.76433123e-01,  1.44883158e+00],\n",
       "       [ 9.90107977e-01,  7.90670654e-01],\n",
       "       [ 1.67215710e+00,  1.31719939e+00],\n",
       "       [ 1.78583195e+00,  1.44883158e+00],\n",
       "       [ 7.05920842e-01,  3.95774101e-01],\n",
       "       [ 1.10378283e+00,  1.44883158e+00],\n",
       "       [ 6.49083415e-01,  1.05393502e+00],\n",
       "       [ 1.67215710e+00,  1.05393502e+00],\n",
       "       [ 6.49083415e-01,  7.90670654e-01],\n",
       "       [ 1.10378283e+00,  1.18556721e+00],\n",
       "       [ 1.27429511e+00,  7.90670654e-01],\n",
       "       [ 5.92245988e-01,  7.90670654e-01],\n",
       "       [ 6.49083415e-01,  7.90670654e-01],\n",
       "       [ 1.04694540e+00,  1.18556721e+00],\n",
       "       [ 1.16062026e+00,  5.27406285e-01],\n",
       "       [ 1.33113254e+00,  9.22302838e-01],\n",
       "       [ 1.50164482e+00,  1.05393502e+00],\n",
       "       [ 1.04694540e+00,  1.31719939e+00],\n",
       "       [ 7.62758269e-01,  3.95774101e-01],\n",
       "       [ 1.04694540e+00,  2.64141916e-01],\n",
       "       [ 1.33113254e+00,  1.44883158e+00],\n",
       "       [ 1.04694540e+00,  1.58046376e+00],\n",
       "       [ 9.90107977e-01,  7.90670654e-01],\n",
       "       [ 5.92245988e-01,  7.90670654e-01],\n",
       "       [ 9.33270550e-01,  1.18556721e+00],\n",
       "       [ 1.04694540e+00,  1.58046376e+00],\n",
       "       [ 7.62758269e-01,  1.44883158e+00],\n",
       "       [ 7.62758269e-01,  9.22302838e-01],\n",
       "       [ 1.21745768e+00,  1.44883158e+00],\n",
       "       [ 1.10378283e+00,  1.71209594e+00],\n",
       "       [ 8.19595696e-01,  1.44883158e+00],\n",
       "       [ 7.05920842e-01,  9.22302838e-01],\n",
       "       [ 8.19595696e-01,  1.05393502e+00],\n",
       "       [ 9.33270550e-01,  1.44883158e+00],\n",
       "       [ 7.62758269e-01,  7.90670654e-01]])"
      ]
     },
     "execution_count": 56,
     "metadata": {},
     "output_type": "execute_result"
    }
   ],
   "source": [
    "new_df"
   ]
  },
  {
   "cell_type": "code",
   "execution_count": 57,
   "id": "ef574513-fa16-488e-b98d-b7c13fd63328",
   "metadata": {
    "scrolled": true
   },
   "outputs": [
    {
     "data": {
      "text/html": [
       "<div>\n",
       "<style scoped>\n",
       "    .dataframe tbody tr th:only-of-type {\n",
       "        vertical-align: middle;\n",
       "    }\n",
       "\n",
       "    .dataframe tbody tr th {\n",
       "        vertical-align: top;\n",
       "    }\n",
       "\n",
       "    .dataframe thead th {\n",
       "        text-align: right;\n",
       "    }\n",
       "</style>\n",
       "<table border=\"1\" class=\"dataframe\">\n",
       "  <thead>\n",
       "    <tr style=\"text-align: right;\">\n",
       "      <th></th>\n",
       "      <th>petal length (cm)</th>\n",
       "      <th>petal width (cm)</th>\n",
       "    </tr>\n",
       "  </thead>\n",
       "  <tbody>\n",
       "    <tr>\n",
       "      <th>0</th>\n",
       "      <td>1.4</td>\n",
       "      <td>0.2</td>\n",
       "    </tr>\n",
       "    <tr>\n",
       "      <th>1</th>\n",
       "      <td>1.4</td>\n",
       "      <td>0.2</td>\n",
       "    </tr>\n",
       "    <tr>\n",
       "      <th>2</th>\n",
       "      <td>1.3</td>\n",
       "      <td>0.2</td>\n",
       "    </tr>\n",
       "    <tr>\n",
       "      <th>3</th>\n",
       "      <td>1.5</td>\n",
       "      <td>0.2</td>\n",
       "    </tr>\n",
       "    <tr>\n",
       "      <th>4</th>\n",
       "      <td>1.4</td>\n",
       "      <td>0.2</td>\n",
       "    </tr>\n",
       "    <tr>\n",
       "      <th>...</th>\n",
       "      <td>...</td>\n",
       "      <td>...</td>\n",
       "    </tr>\n",
       "    <tr>\n",
       "      <th>145</th>\n",
       "      <td>5.2</td>\n",
       "      <td>2.3</td>\n",
       "    </tr>\n",
       "    <tr>\n",
       "      <th>146</th>\n",
       "      <td>5.0</td>\n",
       "      <td>1.9</td>\n",
       "    </tr>\n",
       "    <tr>\n",
       "      <th>147</th>\n",
       "      <td>5.2</td>\n",
       "      <td>2.0</td>\n",
       "    </tr>\n",
       "    <tr>\n",
       "      <th>148</th>\n",
       "      <td>5.4</td>\n",
       "      <td>2.3</td>\n",
       "    </tr>\n",
       "    <tr>\n",
       "      <th>149</th>\n",
       "      <td>5.1</td>\n",
       "      <td>1.8</td>\n",
       "    </tr>\n",
       "  </tbody>\n",
       "</table>\n",
       "<p>150 rows × 2 columns</p>\n",
       "</div>"
      ],
      "text/plain": [
       "     petal length (cm)  petal width (cm)\n",
       "0                  1.4               0.2\n",
       "1                  1.4               0.2\n",
       "2                  1.3               0.2\n",
       "3                  1.5               0.2\n",
       "4                  1.4               0.2\n",
       "..                 ...               ...\n",
       "145                5.2               2.3\n",
       "146                5.0               1.9\n",
       "147                5.2               2.0\n",
       "148                5.4               2.3\n",
       "149                5.1               1.8\n",
       "\n",
       "[150 rows x 2 columns]"
      ]
     },
     "execution_count": 57,
     "metadata": {},
     "output_type": "execute_result"
    }
   ],
   "source": [
    "df_iris"
   ]
  },
  {
   "cell_type": "code",
   "execution_count": 58,
   "id": "aab09958-2003-4aff-92dd-9131f1390cb2",
   "metadata": {},
   "outputs": [
    {
     "data": {
      "text/plain": [
       "-1.2316074086508404e-15"
      ]
     },
     "execution_count": 58,
     "metadata": {},
     "output_type": "execute_result"
    }
   ],
   "source": [
    "new_df.mean()"
   ]
  },
  {
   "cell_type": "code",
   "execution_count": 59,
   "id": "eba283f2-d9e7-4ced-beff-8d83aac74893",
   "metadata": {},
   "outputs": [
    {
     "data": {
      "text/plain": [
       "1.0"
      ]
     },
     "execution_count": 59,
     "metadata": {},
     "output_type": "execute_result"
    }
   ],
   "source": [
    "new_df.std()"
   ]
  },
  {
   "cell_type": "code",
   "execution_count": 60,
   "id": "718fdd9e-42d5-41d6-9831-8df222d13647",
   "metadata": {},
   "outputs": [],
   "source": [
    "ls = []\n",
    "for i in range(1,11):\n",
    "    km = KMeans(n_clusters=i)\n",
    "    km.fit(new_df)\n",
    "    ls.append(km.inertia_)"
   ]
  },
  {
   "cell_type": "code",
   "execution_count": 61,
   "id": "2e18ee65-2e8a-4a23-8a97-3345cee0dd74",
   "metadata": {},
   "outputs": [
    {
     "data": {
      "image/png": "[encoded data removed]",
      "text/plain": [
       "<Figure size 500x300 with 1 Axes>"
      ]
     },
     "metadata": {},
     "output_type": "display_data"
    }
   ],
   "source": [
    "plt.figure(figsize=(5,3))\n",
    "plt.xlabel(\"Values of K\")\n",
    "plt.ylabel(\"Errors\")\n",
    "plt.plot(range(1,11), ls, \"r-*\")\n",
    "plt.show()"
   ]
  },
  {
   "cell_type": "code",
   "execution_count": null,
   "id": "fc61ad7c-82de-4be6-903c-9ddb3aab7a2f",
   "metadata": {},
   "outputs": [],
   "source": []
  }
 ],
 "metadata": {
  "kernelspec": {
   "display_name": "Python 3 (ipykernel)",
   "language": "python",
   "name": "python3"
  },
  "language_info": {
   "codemirror_mode": {
    "name": "ipython",
    "version": 3
   },
   "file_extension": ".py",
   "mimetype": "text/x-python",
   "name": "python",
   "nbconvert_exporter": "python",
   "pygments_lexer": "ipython3",
   "version": "3.11.6"
  }
 },
 "nbformat": 4,
 "nbformat_minor": 5
}
