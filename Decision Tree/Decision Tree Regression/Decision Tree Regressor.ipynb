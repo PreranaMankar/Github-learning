{
 "cells": [
  {
   "cell_type": "code",
   "execution_count": 2,
   "id": "469c81af-71c9-404f-9620-8a5a2524fa72",
   "metadata": {},
   "outputs": [],
   "source": [
    "import pandas as pd\n",
    "import numpy as np\n",
    "import matplotlib.pyplot as plt"
   ]
  },
  {
   "cell_type": "code",
   "execution_count": 4,
   "id": "3bf02d04-05ae-42e8-94a2-0767b5642509",
   "metadata": {},
   "outputs": [],
   "source": [
    "df = pd.read_excel(\"reg_data.xlsx\")"
   ]
  },
  {
   "cell_type": "code",
   "execution_count": 5,
   "id": "d237eb06-a65c-42e8-8396-53317292c8fe",
   "metadata": {},
   "outputs": [
    {
     "data": {
      "text/html": [
       "<div>\n",
       "<style scoped>\n",
       "    .dataframe tbody tr th:only-of-type {\n",
       "        vertical-align: middle;\n",
       "    }\n",
       "\n",
       "    .dataframe tbody tr th {\n",
       "        vertical-align: top;\n",
       "    }\n",
       "\n",
       "    .dataframe thead th {\n",
       "        text-align: right;\n",
       "    }\n",
       "</style>\n",
       "<table border=\"1\" class=\"dataframe\">\n",
       "  <thead>\n",
       "    <tr style=\"text-align: right;\">\n",
       "      <th></th>\n",
       "      <th>Outlook</th>\n",
       "      <th>Temperature</th>\n",
       "      <th>Humidity</th>\n",
       "      <th>Wind</th>\n",
       "      <th>Hrs Played</th>\n",
       "    </tr>\n",
       "  </thead>\n",
       "  <tbody>\n",
       "    <tr>\n",
       "      <th>0</th>\n",
       "      <td>Sunny</td>\n",
       "      <td>Hot</td>\n",
       "      <td>High</td>\n",
       "      <td>Weak</td>\n",
       "      <td>25</td>\n",
       "    </tr>\n",
       "    <tr>\n",
       "      <th>1</th>\n",
       "      <td>Sunny</td>\n",
       "      <td>Hot</td>\n",
       "      <td>High</td>\n",
       "      <td>Strong</td>\n",
       "      <td>30</td>\n",
       "    </tr>\n",
       "    <tr>\n",
       "      <th>2</th>\n",
       "      <td>Overcast</td>\n",
       "      <td>Hot</td>\n",
       "      <td>High</td>\n",
       "      <td>Weak</td>\n",
       "      <td>46</td>\n",
       "    </tr>\n",
       "    <tr>\n",
       "      <th>3</th>\n",
       "      <td>Rain</td>\n",
       "      <td>Mild</td>\n",
       "      <td>High</td>\n",
       "      <td>Weak</td>\n",
       "      <td>45</td>\n",
       "    </tr>\n",
       "    <tr>\n",
       "      <th>4</th>\n",
       "      <td>Rain</td>\n",
       "      <td>Cool</td>\n",
       "      <td>Normal</td>\n",
       "      <td>Weak</td>\n",
       "      <td>52</td>\n",
       "    </tr>\n",
       "    <tr>\n",
       "      <th>5</th>\n",
       "      <td>Rain</td>\n",
       "      <td>Cool</td>\n",
       "      <td>Normal</td>\n",
       "      <td>Strong</td>\n",
       "      <td>23</td>\n",
       "    </tr>\n",
       "    <tr>\n",
       "      <th>6</th>\n",
       "      <td>Overcast</td>\n",
       "      <td>Cool</td>\n",
       "      <td>Normal</td>\n",
       "      <td>Strong</td>\n",
       "      <td>43</td>\n",
       "    </tr>\n",
       "    <tr>\n",
       "      <th>7</th>\n",
       "      <td>Sunny</td>\n",
       "      <td>Mild</td>\n",
       "      <td>High</td>\n",
       "      <td>Weak</td>\n",
       "      <td>35</td>\n",
       "    </tr>\n",
       "    <tr>\n",
       "      <th>8</th>\n",
       "      <td>Sunny</td>\n",
       "      <td>Cool</td>\n",
       "      <td>Normal</td>\n",
       "      <td>Weak</td>\n",
       "      <td>38</td>\n",
       "    </tr>\n",
       "    <tr>\n",
       "      <th>9</th>\n",
       "      <td>Rain</td>\n",
       "      <td>Mild</td>\n",
       "      <td>Normal</td>\n",
       "      <td>Weak</td>\n",
       "      <td>46</td>\n",
       "    </tr>\n",
       "    <tr>\n",
       "      <th>10</th>\n",
       "      <td>Sunny</td>\n",
       "      <td>Mild</td>\n",
       "      <td>Normal</td>\n",
       "      <td>Strong</td>\n",
       "      <td>48</td>\n",
       "    </tr>\n",
       "    <tr>\n",
       "      <th>11</th>\n",
       "      <td>Overcast</td>\n",
       "      <td>Mild</td>\n",
       "      <td>High</td>\n",
       "      <td>Strong</td>\n",
       "      <td>52</td>\n",
       "    </tr>\n",
       "    <tr>\n",
       "      <th>12</th>\n",
       "      <td>Overcast</td>\n",
       "      <td>Hot</td>\n",
       "      <td>Normal</td>\n",
       "      <td>Weak</td>\n",
       "      <td>44</td>\n",
       "    </tr>\n",
       "    <tr>\n",
       "      <th>13</th>\n",
       "      <td>Rain</td>\n",
       "      <td>Mild</td>\n",
       "      <td>High</td>\n",
       "      <td>Strong</td>\n",
       "      <td>30</td>\n",
       "    </tr>\n",
       "  </tbody>\n",
       "</table>\n",
       "</div>"
      ],
      "text/plain": [
       "     Outlook Temperature Humidity    Wind  Hrs Played\n",
       "0      Sunny         Hot     High    Weak          25\n",
       "1      Sunny         Hot     High  Strong          30\n",
       "2   Overcast         Hot     High    Weak          46\n",
       "3       Rain        Mild     High    Weak          45\n",
       "4       Rain        Cool   Normal    Weak          52\n",
       "5       Rain        Cool   Normal  Strong          23\n",
       "6   Overcast        Cool   Normal  Strong          43\n",
       "7      Sunny        Mild     High    Weak          35\n",
       "8      Sunny        Cool   Normal    Weak          38\n",
       "9       Rain        Mild   Normal    Weak          46\n",
       "10     Sunny        Mild   Normal  Strong          48\n",
       "11  Overcast        Mild     High  Strong          52\n",
       "12  Overcast         Hot   Normal    Weak          44\n",
       "13      Rain        Mild     High  Strong          30"
      ]
     },
     "execution_count": 5,
     "metadata": {},
     "output_type": "execute_result"
    }
   ],
   "source": [
    "df"
   ]
  },
  {
   "cell_type": "code",
   "execution_count": 7,
   "id": "8a6dca04-d1cc-4f0e-9e57-45b5990f9545",
   "metadata": {},
   "outputs": [
    {
     "data": {
      "text/plain": [
       "14"
      ]
     },
     "execution_count": 7,
     "metadata": {},
     "output_type": "execute_result"
    }
   ],
   "source": [
    "n = len(df)    # Count\n",
    "n"
   ]
  },
  {
   "cell_type": "code",
   "execution_count": 8,
   "id": "ef05be3c-6578-4414-994e-627a63589ad0",
   "metadata": {},
   "outputs": [
    {
     "data": {
      "text/plain": [
       "39.785714285714285"
      ]
     },
     "execution_count": 8,
     "metadata": {},
     "output_type": "execute_result"
    }
   ],
   "source": [
    "mean = df[\"Hrs Played\"].mean()\n",
    "mean"
   ]
  },
  {
   "cell_type": "code",
   "execution_count": 9,
   "id": "c5af5b80-f35e-4004-8986-5fd971b8e543",
   "metadata": {},
   "outputs": [
    {
     "data": {
      "text/plain": [
       "9.321086474291743"
      ]
     },
     "execution_count": 9,
     "metadata": {},
     "output_type": "execute_result"
    }
   ],
   "source": [
    "std_data = np.std(df[\"Hrs Played\"])\n",
    "std_data"
   ]
  },
  {
   "cell_type": "code",
   "execution_count": 11,
   "id": "5346e5a9-1e67-4d57-aefa-ef8b9ea92d09",
   "metadata": {},
   "outputs": [
    {
     "data": {
      "text/plain": [
       "23.428224531433468"
      ]
     },
     "execution_count": 11,
     "metadata": {},
     "output_type": "execute_result"
    }
   ],
   "source": [
    "cv = (std_data / mean)*100\n",
    "cv"
   ]
  },
  {
   "cell_type": "code",
   "execution_count": 12,
   "id": "3f87c7d2-49b4-4539-8d87-3c5631ae83ae",
   "metadata": {},
   "outputs": [],
   "source": [
    "# Outlook - Sunny, Overcast, Rain"
   ]
  },
  {
   "cell_type": "code",
   "execution_count": 14,
   "id": "d318904c-3601-429d-b79f-a8cd9265bec5",
   "metadata": {},
   "outputs": [
    {
     "data": {
      "text/plain": [
       "7.782030583337487"
      ]
     },
     "execution_count": 14,
     "metadata": {},
     "output_type": "execute_result"
    }
   ],
   "source": [
    "sunny = df[df[\"Outlook\"]==\"Sunny\"]\n",
    "std_sunny = np.std(sunny[\"Hrs Played\"])\n",
    "std_sunny"
   ]
  },
  {
   "cell_type": "code",
   "execution_count": 19,
   "id": "57c2ef9d-1cc8-427a-a500-c331269c1c4b",
   "metadata": {},
   "outputs": [
    {
     "data": {
      "text/html": [
       "<div>\n",
       "<style scoped>\n",
       "    .dataframe tbody tr th:only-of-type {\n",
       "        vertical-align: middle;\n",
       "    }\n",
       "\n",
       "    .dataframe tbody tr th {\n",
       "        vertical-align: top;\n",
       "    }\n",
       "\n",
       "    .dataframe thead th {\n",
       "        text-align: right;\n",
       "    }\n",
       "</style>\n",
       "<table border=\"1\" class=\"dataframe\">\n",
       "  <thead>\n",
       "    <tr style=\"text-align: right;\">\n",
       "      <th></th>\n",
       "      <th>Outlook</th>\n",
       "      <th>Temperature</th>\n",
       "      <th>Humidity</th>\n",
       "      <th>Wind</th>\n",
       "      <th>Hrs Played</th>\n",
       "    </tr>\n",
       "  </thead>\n",
       "  <tbody>\n",
       "    <tr>\n",
       "      <th>0</th>\n",
       "      <td>Sunny</td>\n",
       "      <td>Hot</td>\n",
       "      <td>High</td>\n",
       "      <td>Weak</td>\n",
       "      <td>25</td>\n",
       "    </tr>\n",
       "    <tr>\n",
       "      <th>1</th>\n",
       "      <td>Sunny</td>\n",
       "      <td>Hot</td>\n",
       "      <td>High</td>\n",
       "      <td>Strong</td>\n",
       "      <td>30</td>\n",
       "    </tr>\n",
       "    <tr>\n",
       "      <th>7</th>\n",
       "      <td>Sunny</td>\n",
       "      <td>Mild</td>\n",
       "      <td>High</td>\n",
       "      <td>Weak</td>\n",
       "      <td>35</td>\n",
       "    </tr>\n",
       "    <tr>\n",
       "      <th>8</th>\n",
       "      <td>Sunny</td>\n",
       "      <td>Cool</td>\n",
       "      <td>Normal</td>\n",
       "      <td>Weak</td>\n",
       "      <td>38</td>\n",
       "    </tr>\n",
       "    <tr>\n",
       "      <th>10</th>\n",
       "      <td>Sunny</td>\n",
       "      <td>Mild</td>\n",
       "      <td>Normal</td>\n",
       "      <td>Strong</td>\n",
       "      <td>48</td>\n",
       "    </tr>\n",
       "  </tbody>\n",
       "</table>\n",
       "</div>"
      ],
      "text/plain": [
       "   Outlook Temperature Humidity    Wind  Hrs Played\n",
       "0    Sunny         Hot     High    Weak          25\n",
       "1    Sunny         Hot     High  Strong          30\n",
       "7    Sunny        Mild     High    Weak          35\n",
       "8    Sunny        Cool   Normal    Weak          38\n",
       "10   Sunny        Mild   Normal  Strong          48"
      ]
     },
     "execution_count": 19,
     "metadata": {},
     "output_type": "execute_result"
    }
   ],
   "source": [
    "sunny"
   ]
  },
  {
   "cell_type": "code",
   "execution_count": 15,
   "id": "74331f64-dc9e-4c42-9ad7-21ed089e3d90",
   "metadata": {},
   "outputs": [
    {
     "data": {
      "text/plain": [
       "3.491060010942235"
      ]
     },
     "execution_count": 15,
     "metadata": {},
     "output_type": "execute_result"
    }
   ],
   "source": [
    "overcast = df[df[\"Outlook\"]==\"Overcast\"]\n",
    "std_overcast = np.std(overcast[\"Hrs Played\"])\n",
    "std_overcast"
   ]
  },
  {
   "cell_type": "code",
   "execution_count": 20,
   "id": "841e3025-f200-41dd-9c7e-f3cf185efadb",
   "metadata": {},
   "outputs": [
    {
     "data": {
      "text/html": [
       "<div>\n",
       "<style scoped>\n",
       "    .dataframe tbody tr th:only-of-type {\n",
       "        vertical-align: middle;\n",
       "    }\n",
       "\n",
       "    .dataframe tbody tr th {\n",
       "        vertical-align: top;\n",
       "    }\n",
       "\n",
       "    .dataframe thead th {\n",
       "        text-align: right;\n",
       "    }\n",
       "</style>\n",
       "<table border=\"1\" class=\"dataframe\">\n",
       "  <thead>\n",
       "    <tr style=\"text-align: right;\">\n",
       "      <th></th>\n",
       "      <th>Outlook</th>\n",
       "      <th>Temperature</th>\n",
       "      <th>Humidity</th>\n",
       "      <th>Wind</th>\n",
       "      <th>Hrs Played</th>\n",
       "    </tr>\n",
       "  </thead>\n",
       "  <tbody>\n",
       "    <tr>\n",
       "      <th>2</th>\n",
       "      <td>Overcast</td>\n",
       "      <td>Hot</td>\n",
       "      <td>High</td>\n",
       "      <td>Weak</td>\n",
       "      <td>46</td>\n",
       "    </tr>\n",
       "    <tr>\n",
       "      <th>6</th>\n",
       "      <td>Overcast</td>\n",
       "      <td>Cool</td>\n",
       "      <td>Normal</td>\n",
       "      <td>Strong</td>\n",
       "      <td>43</td>\n",
       "    </tr>\n",
       "    <tr>\n",
       "      <th>11</th>\n",
       "      <td>Overcast</td>\n",
       "      <td>Mild</td>\n",
       "      <td>High</td>\n",
       "      <td>Strong</td>\n",
       "      <td>52</td>\n",
       "    </tr>\n",
       "    <tr>\n",
       "      <th>12</th>\n",
       "      <td>Overcast</td>\n",
       "      <td>Hot</td>\n",
       "      <td>Normal</td>\n",
       "      <td>Weak</td>\n",
       "      <td>44</td>\n",
       "    </tr>\n",
       "  </tbody>\n",
       "</table>\n",
       "</div>"
      ],
      "text/plain": [
       "     Outlook Temperature Humidity    Wind  Hrs Played\n",
       "2   Overcast         Hot     High    Weak          46\n",
       "6   Overcast        Cool   Normal  Strong          43\n",
       "11  Overcast        Mild     High  Strong          52\n",
       "12  Overcast         Hot   Normal    Weak          44"
      ]
     },
     "execution_count": 20,
     "metadata": {},
     "output_type": "execute_result"
    }
   ],
   "source": [
    "overcast"
   ]
  },
  {
   "cell_type": "code",
   "execution_count": 16,
   "id": "43bb14ae-0e57-48ce-b964-7651b7702e37",
   "metadata": {},
   "outputs": [
    {
     "data": {
      "text/plain": [
       "10.870142593360953"
      ]
     },
     "execution_count": 16,
     "metadata": {},
     "output_type": "execute_result"
    }
   ],
   "source": [
    "rain = df[df[\"Outlook\"]==\"Rain\"]\n",
    "std_rain = np.std(rain[\"Hrs Played\"])\n",
    "std_rain"
   ]
  },
  {
   "cell_type": "code",
   "execution_count": 21,
   "id": "b18e309c-06b6-46d0-8086-43e2459fff42",
   "metadata": {},
   "outputs": [
    {
     "data": {
      "text/html": [
       "<div>\n",
       "<style scoped>\n",
       "    .dataframe tbody tr th:only-of-type {\n",
       "        vertical-align: middle;\n",
       "    }\n",
       "\n",
       "    .dataframe tbody tr th {\n",
       "        vertical-align: top;\n",
       "    }\n",
       "\n",
       "    .dataframe thead th {\n",
       "        text-align: right;\n",
       "    }\n",
       "</style>\n",
       "<table border=\"1\" class=\"dataframe\">\n",
       "  <thead>\n",
       "    <tr style=\"text-align: right;\">\n",
       "      <th></th>\n",
       "      <th>Outlook</th>\n",
       "      <th>Temperature</th>\n",
       "      <th>Humidity</th>\n",
       "      <th>Wind</th>\n",
       "      <th>Hrs Played</th>\n",
       "    </tr>\n",
       "  </thead>\n",
       "  <tbody>\n",
       "    <tr>\n",
       "      <th>3</th>\n",
       "      <td>Rain</td>\n",
       "      <td>Mild</td>\n",
       "      <td>High</td>\n",
       "      <td>Weak</td>\n",
       "      <td>45</td>\n",
       "    </tr>\n",
       "    <tr>\n",
       "      <th>4</th>\n",
       "      <td>Rain</td>\n",
       "      <td>Cool</td>\n",
       "      <td>Normal</td>\n",
       "      <td>Weak</td>\n",
       "      <td>52</td>\n",
       "    </tr>\n",
       "    <tr>\n",
       "      <th>5</th>\n",
       "      <td>Rain</td>\n",
       "      <td>Cool</td>\n",
       "      <td>Normal</td>\n",
       "      <td>Strong</td>\n",
       "      <td>23</td>\n",
       "    </tr>\n",
       "    <tr>\n",
       "      <th>9</th>\n",
       "      <td>Rain</td>\n",
       "      <td>Mild</td>\n",
       "      <td>Normal</td>\n",
       "      <td>Weak</td>\n",
       "      <td>46</td>\n",
       "    </tr>\n",
       "    <tr>\n",
       "      <th>13</th>\n",
       "      <td>Rain</td>\n",
       "      <td>Mild</td>\n",
       "      <td>High</td>\n",
       "      <td>Strong</td>\n",
       "      <td>30</td>\n",
       "    </tr>\n",
       "  </tbody>\n",
       "</table>\n",
       "</div>"
      ],
      "text/plain": [
       "   Outlook Temperature Humidity    Wind  Hrs Played\n",
       "3     Rain        Mild     High    Weak          45\n",
       "4     Rain        Cool   Normal    Weak          52\n",
       "5     Rain        Cool   Normal  Strong          23\n",
       "9     Rain        Mild   Normal    Weak          46\n",
       "13    Rain        Mild     High  Strong          30"
      ]
     },
     "execution_count": 21,
     "metadata": {},
     "output_type": "execute_result"
    }
   ],
   "source": [
    "rain"
   ]
  },
  {
   "cell_type": "code",
   "execution_count": 17,
   "id": "4743b1ae-d967-4b91-b3b9-fb745bbdafc7",
   "metadata": {},
   "outputs": [
    {
     "data": {
      "text/plain": [
       "7.6589361376615095"
      ]
     },
     "execution_count": 17,
     "metadata": {},
     "output_type": "execute_result"
    }
   ],
   "source": [
    "weighted_std_outlook = (len(sunny)/n)*std_sunny + (len(overcast)/n)*std_overcast + (len(rain)/n)*std_rain\n",
    "weighted_std_outlook"
   ]
  },
  {
   "cell_type": "code",
   "execution_count": 18,
   "id": "c199440b-b842-4191-b5f1-38adf4d3f181",
   "metadata": {},
   "outputs": [
    {
     "data": {
      "text/plain": [
       "1.6621503366302335"
      ]
     },
     "execution_count": 18,
     "metadata": {},
     "output_type": "execute_result"
    }
   ],
   "source": [
    "sdr_outlook = std_data - weighted_std_outlook\n",
    "sdr_outlook"
   ]
  },
  {
   "cell_type": "markdown",
   "id": "525e9ca4-fb7e-4107-90f8-aab8366bb51d",
   "metadata": {},
   "source": [
    "The Column with highest standard deviation reduction value will be consider for root node"
   ]
  },
  {
   "cell_type": "markdown",
   "id": "09906762-7b17-42c1-b3e6-885029988d3c",
   "metadata": {},
   "source": [
    "Termination criteria (Threshold) this is the value of cv\n",
    "In this example we will consider the value is 10%\n",
    "if any class cv from a root node will be less than threshold we will consider it as \n",
    "leaf node"
   ]
  },
  {
   "cell_type": "code",
   "execution_count": 23,
   "id": "8acbd7ab-8654-4d7b-a933-e708266a82e8",
   "metadata": {},
   "outputs": [
    {
     "data": {
      "text/plain": [
       "35.2"
      ]
     },
     "execution_count": 23,
     "metadata": {},
     "output_type": "execute_result"
    }
   ],
   "source": [
    "mean_sunny = sunny[\"Hrs Played\"].mean()\n",
    "mean_sunny"
   ]
  },
  {
   "cell_type": "code",
   "execution_count": 24,
   "id": "a1da41f7-c94e-488b-909c-31fe3181b2f1",
   "metadata": {},
   "outputs": [
    {
     "data": {
      "text/plain": [
       "46.25"
      ]
     },
     "execution_count": 24,
     "metadata": {},
     "output_type": "execute_result"
    }
   ],
   "source": [
    "mean_overcast = overcast[\"Hrs Played\"].mean()\n",
    "mean_overcast"
   ]
  },
  {
   "cell_type": "code",
   "execution_count": 25,
   "id": "2c807ce0-c593-4cb0-ab95-c9e90b778680",
   "metadata": {},
   "outputs": [
    {
     "data": {
      "text/plain": [
       "39.2"
      ]
     },
     "execution_count": 25,
     "metadata": {},
     "output_type": "execute_result"
    }
   ],
   "source": [
    "mean_rain = rain[\"Hrs Played\"].mean()\n",
    "mean_rain"
   ]
  },
  {
   "cell_type": "code",
   "execution_count": 26,
   "id": "71447f42-b08b-41e7-bd6a-089bd45e1b35",
   "metadata": {},
   "outputs": [
    {
     "data": {
      "text/plain": [
       "22.108041429936044"
      ]
     },
     "execution_count": 26,
     "metadata": {},
     "output_type": "execute_result"
    }
   ],
   "source": [
    "cv_sunny = (std_sunny / mean_sunny) * 100\n",
    "cv_sunny"
   ]
  },
  {
   "cell_type": "code",
   "execution_count": 27,
   "id": "87d0ac00-39a3-4291-b817-75f3665e8bf7",
   "metadata": {},
   "outputs": [
    {
     "data": {
      "text/plain": [
       "7.548237861496725"
      ]
     },
     "execution_count": 27,
     "metadata": {},
     "output_type": "execute_result"
    }
   ],
   "source": [
    "cv_overcast = (std_overcast / mean_overcast) * 100\n",
    "cv_overcast"
   ]
  },
  {
   "cell_type": "code",
   "execution_count": 29,
   "id": "164cf0b0-678d-4f5d-929d-47eca873ee31",
   "metadata": {},
   "outputs": [
    {
     "data": {
      "text/plain": [
       "27.729955595308553"
      ]
     },
     "execution_count": 29,
     "metadata": {},
     "output_type": "execute_result"
    }
   ],
   "source": [
    "cv_rain = (std_rain / mean_rain) * 100\n",
    "cv_rain"
   ]
  },
  {
   "cell_type": "code",
   "execution_count": 30,
   "id": "e8750367-4777-481f-92be-aa4c884f621e",
   "metadata": {},
   "outputs": [
    {
     "data": {
      "text/html": [
       "<div>\n",
       "<style scoped>\n",
       "    .dataframe tbody tr th:only-of-type {\n",
       "        vertical-align: middle;\n",
       "    }\n",
       "\n",
       "    .dataframe tbody tr th {\n",
       "        vertical-align: top;\n",
       "    }\n",
       "\n",
       "    .dataframe thead th {\n",
       "        text-align: right;\n",
       "    }\n",
       "</style>\n",
       "<table border=\"1\" class=\"dataframe\">\n",
       "  <thead>\n",
       "    <tr style=\"text-align: right;\">\n",
       "      <th></th>\n",
       "      <th>Outlook</th>\n",
       "      <th>Temperature</th>\n",
       "      <th>Humidity</th>\n",
       "      <th>Wind</th>\n",
       "      <th>Hrs Played</th>\n",
       "    </tr>\n",
       "  </thead>\n",
       "  <tbody>\n",
       "    <tr>\n",
       "      <th>0</th>\n",
       "      <td>Sunny</td>\n",
       "      <td>Hot</td>\n",
       "      <td>High</td>\n",
       "      <td>Weak</td>\n",
       "      <td>25</td>\n",
       "    </tr>\n",
       "    <tr>\n",
       "      <th>1</th>\n",
       "      <td>Sunny</td>\n",
       "      <td>Hot</td>\n",
       "      <td>High</td>\n",
       "      <td>Strong</td>\n",
       "      <td>30</td>\n",
       "    </tr>\n",
       "  </tbody>\n",
       "</table>\n",
       "</div>"
      ],
      "text/plain": [
       "  Outlook Temperature Humidity    Wind  Hrs Played\n",
       "0   Sunny         Hot     High    Weak          25\n",
       "1   Sunny         Hot     High  Strong          30"
      ]
     },
     "execution_count": 30,
     "metadata": {},
     "output_type": "execute_result"
    }
   ],
   "source": [
    "sunny_hot = sunny[sunny[\"Temperature\"]==\"Hot\"]\n",
    "sunny_hot"
   ]
  },
  {
   "cell_type": "code",
   "execution_count": 31,
   "id": "ba19eed6-eb32-404e-b288-8ec9c9dbd6c7",
   "metadata": {},
   "outputs": [
    {
     "data": {
      "text/plain": [
       "27.5"
      ]
     },
     "execution_count": 31,
     "metadata": {},
     "output_type": "execute_result"
    }
   ],
   "source": [
    "mean_sunny_hot = sunny_hot[\"Hrs Played\"].mean()\n",
    "mean_sunny_hot"
   ]
  },
  {
   "cell_type": "code",
   "execution_count": 32,
   "id": "ed6bd3db-28bb-4ff0-8ac8-33bdcdfece12",
   "metadata": {},
   "outputs": [
    {
     "data": {
      "text/plain": [
       "2.5"
      ]
     },
     "execution_count": 32,
     "metadata": {},
     "output_type": "execute_result"
    }
   ],
   "source": [
    "std_sunny_hot = np.std(sunny_hot[\"Hrs Played\"])\n",
    "std_sunny_hot"
   ]
  },
  {
   "cell_type": "code",
   "execution_count": 33,
   "id": "5969efe9-2547-4de9-8203-3d99c11e490c",
   "metadata": {},
   "outputs": [
    {
     "data": {
      "text/html": [
       "<div>\n",
       "<style scoped>\n",
       "    .dataframe tbody tr th:only-of-type {\n",
       "        vertical-align: middle;\n",
       "    }\n",
       "\n",
       "    .dataframe tbody tr th {\n",
       "        vertical-align: top;\n",
       "    }\n",
       "\n",
       "    .dataframe thead th {\n",
       "        text-align: right;\n",
       "    }\n",
       "</style>\n",
       "<table border=\"1\" class=\"dataframe\">\n",
       "  <thead>\n",
       "    <tr style=\"text-align: right;\">\n",
       "      <th></th>\n",
       "      <th>Outlook</th>\n",
       "      <th>Temperature</th>\n",
       "      <th>Humidity</th>\n",
       "      <th>Wind</th>\n",
       "      <th>Hrs Played</th>\n",
       "    </tr>\n",
       "  </thead>\n",
       "  <tbody>\n",
       "    <tr>\n",
       "      <th>7</th>\n",
       "      <td>Sunny</td>\n",
       "      <td>Mild</td>\n",
       "      <td>High</td>\n",
       "      <td>Weak</td>\n",
       "      <td>35</td>\n",
       "    </tr>\n",
       "    <tr>\n",
       "      <th>10</th>\n",
       "      <td>Sunny</td>\n",
       "      <td>Mild</td>\n",
       "      <td>Normal</td>\n",
       "      <td>Strong</td>\n",
       "      <td>48</td>\n",
       "    </tr>\n",
       "  </tbody>\n",
       "</table>\n",
       "</div>"
      ],
      "text/plain": [
       "   Outlook Temperature Humidity    Wind  Hrs Played\n",
       "7    Sunny        Mild     High    Weak          35\n",
       "10   Sunny        Mild   Normal  Strong          48"
      ]
     },
     "execution_count": 33,
     "metadata": {},
     "output_type": "execute_result"
    }
   ],
   "source": [
    "sunny_mild = sunny[sunny[\"Temperature\"]==\"Mild\"]\n",
    "sunny_mild"
   ]
  },
  {
   "cell_type": "code",
   "execution_count": 34,
   "id": "033d8806-3397-472f-9a0c-7f90f84e7543",
   "metadata": {},
   "outputs": [
    {
     "data": {
      "text/plain": [
       "41.5"
      ]
     },
     "execution_count": 34,
     "metadata": {},
     "output_type": "execute_result"
    }
   ],
   "source": [
    "mean_sunny_mild = sunny_mild[\"Hrs Played\"].mean()\n",
    "mean_sunny_mild"
   ]
  },
  {
   "cell_type": "code",
   "execution_count": 35,
   "id": "0871e79a-71f4-4c44-8809-e69ca5a30d1c",
   "metadata": {},
   "outputs": [
    {
     "data": {
      "text/plain": [
       "6.5"
      ]
     },
     "execution_count": 35,
     "metadata": {},
     "output_type": "execute_result"
    }
   ],
   "source": [
    "std_sunny_mild = np.std(sunny_mild[\"Hrs Played\"])\n",
    "std_sunny_mild"
   ]
  },
  {
   "cell_type": "code",
   "execution_count": 36,
   "id": "c268affd-e9fa-421f-bf91-602ecb7e338e",
   "metadata": {},
   "outputs": [
    {
     "data": {
      "text/html": [
       "<div>\n",
       "<style scoped>\n",
       "    .dataframe tbody tr th:only-of-type {\n",
       "        vertical-align: middle;\n",
       "    }\n",
       "\n",
       "    .dataframe tbody tr th {\n",
       "        vertical-align: top;\n",
       "    }\n",
       "\n",
       "    .dataframe thead th {\n",
       "        text-align: right;\n",
       "    }\n",
       "</style>\n",
       "<table border=\"1\" class=\"dataframe\">\n",
       "  <thead>\n",
       "    <tr style=\"text-align: right;\">\n",
       "      <th></th>\n",
       "      <th>Outlook</th>\n",
       "      <th>Temperature</th>\n",
       "      <th>Humidity</th>\n",
       "      <th>Wind</th>\n",
       "      <th>Hrs Played</th>\n",
       "    </tr>\n",
       "  </thead>\n",
       "  <tbody>\n",
       "    <tr>\n",
       "      <th>8</th>\n",
       "      <td>Sunny</td>\n",
       "      <td>Cool</td>\n",
       "      <td>Normal</td>\n",
       "      <td>Weak</td>\n",
       "      <td>38</td>\n",
       "    </tr>\n",
       "  </tbody>\n",
       "</table>\n",
       "</div>"
      ],
      "text/plain": [
       "  Outlook Temperature Humidity  Wind  Hrs Played\n",
       "8   Sunny        Cool   Normal  Weak          38"
      ]
     },
     "execution_count": 36,
     "metadata": {},
     "output_type": "execute_result"
    }
   ],
   "source": [
    "sunny_cool = sunny[sunny[\"Temperature\"]==\"Cool\"]\n",
    "sunny_cool"
   ]
  },
  {
   "cell_type": "code",
   "execution_count": 37,
   "id": "e7864aca-2f00-48c1-be71-ec3d836f899f",
   "metadata": {},
   "outputs": [
    {
     "data": {
      "text/plain": [
       "38.0"
      ]
     },
     "execution_count": 37,
     "metadata": {},
     "output_type": "execute_result"
    }
   ],
   "source": [
    "mean_sunny_cool = sunny_cool[\"Hrs Played\"].mean()\n",
    "mean_sunny_cool"
   ]
  },
  {
   "cell_type": "code",
   "execution_count": 38,
   "id": "a43fdd77-60f3-4567-9e05-4acc8d65d474",
   "metadata": {},
   "outputs": [
    {
     "data": {
      "text/plain": [
       "0.0"
      ]
     },
     "execution_count": 38,
     "metadata": {},
     "output_type": "execute_result"
    }
   ],
   "source": [
    "std_sunny_cool = np.std(sunny_cool[\"Hrs Played\"])\n",
    "std_sunny_cool"
   ]
  },
  {
   "cell_type": "code",
   "execution_count": 40,
   "id": "9f567fe6-f86f-46d5-bd67-5f43f3a9a002",
   "metadata": {},
   "outputs": [
    {
     "data": {
      "text/plain": [
       "3.6"
      ]
     },
     "execution_count": 40,
     "metadata": {},
     "output_type": "execute_result"
    }
   ],
   "source": [
    "weighed_std_temp = (len(sunny_hot)/len(sunny))*std_sunny_hot + (len(sunny_mild)/len(sunny))*std_sunny_mild + (len(sunny_cool)/len(sunny)*std_sunny_cool)\n",
    "weighed_std_temp"
   ]
  },
  {
   "cell_type": "code",
   "execution_count": 41,
   "id": "fc01fb2d-748c-4eb6-a739-bc4ec677b1d6",
   "metadata": {},
   "outputs": [
    {
     "data": {
      "text/plain": [
       "4.182030583337488"
      ]
     },
     "execution_count": 41,
     "metadata": {},
     "output_type": "execute_result"
    }
   ],
   "source": [
    "sdr_sunny_temp = std_sunny - weighed_std_temp\n",
    "sdr_sunny_temp"
   ]
  },
  {
   "cell_type": "code",
   "execution_count": null,
   "id": "cb762ca5-dd4f-4629-9367-e4ea8ffff380",
   "metadata": {},
   "outputs": [],
   "source": []
  },
  {
   "cell_type": "code",
   "execution_count": null,
   "id": "f34c9653-b4c4-4070-ab6a-bbb58e6b8474",
   "metadata": {},
   "outputs": [],
   "source": []
  },
  {
   "cell_type": "code",
   "execution_count": null,
   "id": "a2b2058a-6af8-434a-9e80-a6841f32834c",
   "metadata": {},
   "outputs": [],
   "source": []
  },
  {
   "cell_type": "code",
   "execution_count": 42,
   "id": "302f4eca-53a2-45af-9f3d-3d0ed3e2b9c6",
   "metadata": {},
   "outputs": [
    {
     "data": {
      "text/plain": [
       "array([ 1,  2,  3,  4,  5,  6,  7,  8,  9, 10])"
      ]
     },
     "execution_count": 42,
     "metadata": {},
     "output_type": "execute_result"
    }
   ],
   "source": [
    "level = np.arange(1,11)\n",
    "level"
   ]
  },
  {
   "cell_type": "code",
   "execution_count": 43,
   "id": "c5355e39-5750-4160-950f-cfd396342534",
   "metadata": {},
   "outputs": [
    {
     "data": {
      "text/plain": [
       "array([  45000,   50000,   60000,   80000,  110000,  150000,  200000,\n",
       "        300000,  500000, 1000000])"
      ]
     },
     "execution_count": 43,
     "metadata": {},
     "output_type": "execute_result"
    }
   ],
   "source": [
    "salary = np.array([45000, 50000, 60000, 80000, 110000, 150000, 200000, 300000, 500000, 1000000])\n",
    "salary"
   ]
  },
  {
   "cell_type": "code",
   "execution_count": 44,
   "id": "ca7c5036-b29e-44d6-a985-6380438d517d",
   "metadata": {},
   "outputs": [],
   "source": [
    "from sklearn.tree import DecisionTreeRegressor"
   ]
  },
  {
   "cell_type": "code",
   "execution_count": 45,
   "id": "3af907e7-a41e-406c-8149-a0f3ec682d8c",
   "metadata": {},
   "outputs": [],
   "source": [
    "model = DecisionTreeRegressor()"
   ]
  },
  {
   "cell_type": "code",
   "execution_count": 47,
   "id": "1bde4d71-b58c-40a3-ad05-52ad58bd74c0",
   "metadata": {},
   "outputs": [
    {
     "data": {
      "text/html": [
       "<style>#sk-container-id-1 {color: black;}#sk-container-id-1 pre{padding: 0;}#sk-container-id-1 div.sk-toggleable {background-color: white;}#sk-container-id-1 label.sk-toggleable__label {cursor: pointer;display: block;width: 100%;margin-bottom: 0;padding: 0.3em;box-sizing: border-box;text-align: center;}#sk-container-id-1 label.sk-toggleable__label-arrow:before {content: \"▸\";float: left;margin-right: 0.25em;color: #696969;}#sk-container-id-1 label.sk-toggleable__label-arrow:hover:before {color: black;}#sk-container-id-1 div.sk-estimator:hover label.sk-toggleable__label-arrow:before {color: black;}#sk-container-id-1 div.sk-toggleable__content {max-height: 0;max-width: 0;overflow: hidden;text-align: left;background-color: #f0f8ff;}#sk-container-id-1 div.sk-toggleable__content pre {margin: 0.2em;color: black;border-radius: 0.25em;background-color: #f0f8ff;}#sk-container-id-1 input.sk-toggleable__control:checked~div.sk-toggleable__content {max-height: 200px;max-width: 100%;overflow: auto;}#sk-container-id-1 input.sk-toggleable__control:checked~label.sk-toggleable__label-arrow:before {content: \"▾\";}#sk-container-id-1 div.sk-estimator input.sk-toggleable__control:checked~label.sk-toggleable__label {background-color: #d4ebff;}#sk-container-id-1 div.sk-label input.sk-toggleable__control:checked~label.sk-toggleable__label {background-color: #d4ebff;}#sk-container-id-1 input.sk-hidden--visually {border: 0;clip: rect(1px 1px 1px 1px);clip: rect(1px, 1px, 1px, 1px);height: 1px;margin: -1px;overflow: hidden;padding: 0;position: absolute;width: 1px;}#sk-container-id-1 div.sk-estimator {font-family: monospace;background-color: #f0f8ff;border: 1px dotted black;border-radius: 0.25em;box-sizing: border-box;margin-bottom: 0.5em;}#sk-container-id-1 div.sk-estimator:hover {background-color: #d4ebff;}#sk-container-id-1 div.sk-parallel-item::after {content: \"\";width: 100%;border-bottom: 1px solid gray;flex-grow: 1;}#sk-container-id-1 div.sk-label:hover label.sk-toggleable__label {background-color: #d4ebff;}#sk-container-id-1 div.sk-serial::before {content: \"\";position: absolute;border-left: 1px solid gray;box-sizing: border-box;top: 0;bottom: 0;left: 50%;z-index: 0;}#sk-container-id-1 div.sk-serial {display: flex;flex-direction: column;align-items: center;background-color: white;padding-right: 0.2em;padding-left: 0.2em;position: relative;}#sk-container-id-1 div.sk-item {position: relative;z-index: 1;}#sk-container-id-1 div.sk-parallel {display: flex;align-items: stretch;justify-content: center;background-color: white;position: relative;}#sk-container-id-1 div.sk-item::before, #sk-container-id-1 div.sk-parallel-item::before {content: \"\";position: absolute;border-left: 1px solid gray;box-sizing: border-box;top: 0;bottom: 0;left: 50%;z-index: -1;}#sk-container-id-1 div.sk-parallel-item {display: flex;flex-direction: column;z-index: 1;position: relative;background-color: white;}#sk-container-id-1 div.sk-parallel-item:first-child::after {align-self: flex-end;width: 50%;}#sk-container-id-1 div.sk-parallel-item:last-child::after {align-self: flex-start;width: 50%;}#sk-container-id-1 div.sk-parallel-item:only-child::after {width: 0;}#sk-container-id-1 div.sk-dashed-wrapped {border: 1px dashed gray;margin: 0 0.4em 0.5em 0.4em;box-sizing: border-box;padding-bottom: 0.4em;background-color: white;}#sk-container-id-1 div.sk-label label {font-family: monospace;font-weight: bold;display: inline-block;line-height: 1.2em;}#sk-container-id-1 div.sk-label-container {text-align: center;}#sk-container-id-1 div.sk-container {/* jupyter's `normalize.less` sets `[hidden] { display: none; }` but bootstrap.min.css set `[hidden] { display: none !important; }` so we also need the `!important` here to be able to override the default hidden behavior on the sphinx rendered scikit-learn.org. See: https://github.com/scikit-learn/scikit-learn/issues/21755 */display: inline-block !important;position: relative;}#sk-container-id-1 div.sk-text-repr-fallback {display: none;}</style><div id=\"sk-container-id-1\" class=\"sk-top-container\"><div class=\"sk-text-repr-fallback\"><pre>DecisionTreeRegressor()</pre><b>In a Jupyter environment, please rerun this cell to show the HTML representation or trust the notebook. <br />On GitHub, the HTML representation is unable to render, please try loading this page with nbviewer.org.</b></div><div class=\"sk-container\" hidden><div class=\"sk-item\"><div class=\"sk-estimator sk-toggleable\"><input class=\"sk-toggleable__control sk-hidden--visually\" id=\"sk-estimator-id-1\" type=\"checkbox\" checked><label for=\"sk-estimator-id-1\" class=\"sk-toggleable__label sk-toggleable__label-arrow\">DecisionTreeRegressor</label><div class=\"sk-toggleable__content\"><pre>DecisionTreeRegressor()</pre></div></div></div></div></div>"
      ],
      "text/plain": [
       "DecisionTreeRegressor()"
      ]
     },
     "execution_count": 47,
     "metadata": {},
     "output_type": "execute_result"
    }
   ],
   "source": [
    "model.fit(level.reshape(-1,1), salary)"
   ]
  },
  {
   "cell_type": "code",
   "execution_count": 48,
   "id": "b5e44171-85aa-4661-94b2-6dc6f1260dc6",
   "metadata": {},
   "outputs": [
    {
     "data": {
      "text/plain": [
       "array([110000.])"
      ]
     },
     "execution_count": 48,
     "metadata": {},
     "output_type": "execute_result"
    }
   ],
   "source": [
    "model.predict([[5.5]])"
   ]
  },
  {
   "cell_type": "code",
   "execution_count": 49,
   "id": "c0a75944-6842-4c60-8775-7961e5173519",
   "metadata": {},
   "outputs": [
    {
     "data": {
      "text/plain": [
       "array([80000.])"
      ]
     },
     "execution_count": 49,
     "metadata": {},
     "output_type": "execute_result"
    }
   ],
   "source": [
    "model.predict([[3.7]])"
   ]
  },
  {
   "cell_type": "code",
   "execution_count": 50,
   "id": "9537a8c2-074e-400a-8141-fa4606ff249d",
   "metadata": {},
   "outputs": [
    {
     "data": {
      "text/plain": [
       "array([200000.])"
      ]
     },
     "execution_count": 50,
     "metadata": {},
     "output_type": "execute_result"
    }
   ],
   "source": [
    "model.predict([[7.1]])"
   ]
  },
  {
   "cell_type": "code",
   "execution_count": 51,
   "id": "82b0ffce-a3b1-4e9d-9cc0-d07c7e6ec471",
   "metadata": {},
   "outputs": [
    {
     "data": {
      "text/plain": [
       "array([300000.])"
      ]
     },
     "execution_count": 51,
     "metadata": {},
     "output_type": "execute_result"
    }
   ],
   "source": [
    "model.predict([[7.7]])"
   ]
  },
  {
   "cell_type": "code",
   "execution_count": 54,
   "id": "14ce1835-46e7-4181-a9dc-3d9c020b3d6e",
   "metadata": {},
   "outputs": [
    {
     "data": {
      "text/plain": [
       "array([[1.  ],\n",
       "       [1.01],\n",
       "       [1.02],\n",
       "       [1.03],\n",
       "       [1.04],\n",
       "       [1.05],\n",
       "       [1.06],\n",
       "       [1.07],\n",
       "       [1.08],\n",
       "       [1.09],\n",
       "       [1.1 ],\n",
       "       [1.11],\n",
       "       [1.12],\n",
       "       [1.13],\n",
       "       [1.14],\n",
       "       [1.15],\n",
       "       [1.16],\n",
       "       [1.17],\n",
       "       [1.18],\n",
       "       [1.19],\n",
       "       [1.2 ],\n",
       "       [1.21],\n",
       "       [1.22],\n",
       "       [1.23],\n",
       "       [1.24],\n",
       "       [1.25],\n",
       "       [1.26],\n",
       "       [1.27],\n",
       "       [1.28],\n",
       "       [1.29],\n",
       "       [1.3 ],\n",
       "       [1.31],\n",
       "       [1.32],\n",
       "       [1.33],\n",
       "       [1.34],\n",
       "       [1.35],\n",
       "       [1.36],\n",
       "       [1.37],\n",
       "       [1.38],\n",
       "       [1.39],\n",
       "       [1.4 ],\n",
       "       [1.41],\n",
       "       [1.42],\n",
       "       [1.43],\n",
       "       [1.44],\n",
       "       [1.45],\n",
       "       [1.46],\n",
       "       [1.47],\n",
       "       [1.48],\n",
       "       [1.49],\n",
       "       [1.5 ],\n",
       "       [1.51],\n",
       "       [1.52],\n",
       "       [1.53],\n",
       "       [1.54],\n",
       "       [1.55],\n",
       "       [1.56],\n",
       "       [1.57],\n",
       "       [1.58],\n",
       "       [1.59],\n",
       "       [1.6 ],\n",
       "       [1.61],\n",
       "       [1.62],\n",
       "       [1.63],\n",
       "       [1.64],\n",
       "       [1.65],\n",
       "       [1.66],\n",
       "       [1.67],\n",
       "       [1.68],\n",
       "       [1.69],\n",
       "       [1.7 ],\n",
       "       [1.71],\n",
       "       [1.72],\n",
       "       [1.73],\n",
       "       [1.74],\n",
       "       [1.75],\n",
       "       [1.76],\n",
       "       [1.77],\n",
       "       [1.78],\n",
       "       [1.79],\n",
       "       [1.8 ],\n",
       "       [1.81],\n",
       "       [1.82],\n",
       "       [1.83],\n",
       "       [1.84],\n",
       "       [1.85],\n",
       "       [1.86],\n",
       "       [1.87],\n",
       "       [1.88],\n",
       "       [1.89],\n",
       "       [1.9 ],\n",
       "       [1.91],\n",
       "       [1.92],\n",
       "       [1.93],\n",
       "       [1.94],\n",
       "       [1.95],\n",
       "       [1.96],\n",
       "       [1.97],\n",
       "       [1.98],\n",
       "       [1.99],\n",
       "       [2.  ],\n",
       "       [2.01],\n",
       "       [2.02],\n",
       "       [2.03],\n",
       "       [2.04],\n",
       "       [2.05],\n",
       "       [2.06],\n",
       "       [2.07],\n",
       "       [2.08],\n",
       "       [2.09],\n",
       "       [2.1 ],\n",
       "       [2.11],\n",
       "       [2.12],\n",
       "       [2.13],\n",
       "       [2.14],\n",
       "       [2.15],\n",
       "       [2.16],\n",
       "       [2.17],\n",
       "       [2.18],\n",
       "       [2.19],\n",
       "       [2.2 ],\n",
       "       [2.21],\n",
       "       [2.22],\n",
       "       [2.23],\n",
       "       [2.24],\n",
       "       [2.25],\n",
       "       [2.26],\n",
       "       [2.27],\n",
       "       [2.28],\n",
       "       [2.29],\n",
       "       [2.3 ],\n",
       "       [2.31],\n",
       "       [2.32],\n",
       "       [2.33],\n",
       "       [2.34],\n",
       "       [2.35],\n",
       "       [2.36],\n",
       "       [2.37],\n",
       "       [2.38],\n",
       "       [2.39],\n",
       "       [2.4 ],\n",
       "       [2.41],\n",
       "       [2.42],\n",
       "       [2.43],\n",
       "       [2.44],\n",
       "       [2.45],\n",
       "       [2.46],\n",
       "       [2.47],\n",
       "       [2.48],\n",
       "       [2.49],\n",
       "       [2.5 ],\n",
       "       [2.51],\n",
       "       [2.52],\n",
       "       [2.53],\n",
       "       [2.54],\n",
       "       [2.55],\n",
       "       [2.56],\n",
       "       [2.57],\n",
       "       [2.58],\n",
       "       [2.59],\n",
       "       [2.6 ],\n",
       "       [2.61],\n",
       "       [2.62],\n",
       "       [2.63],\n",
       "       [2.64],\n",
       "       [2.65],\n",
       "       [2.66],\n",
       "       [2.67],\n",
       "       [2.68],\n",
       "       [2.69],\n",
       "       [2.7 ],\n",
       "       [2.71],\n",
       "       [2.72],\n",
       "       [2.73],\n",
       "       [2.74],\n",
       "       [2.75],\n",
       "       [2.76],\n",
       "       [2.77],\n",
       "       [2.78],\n",
       "       [2.79],\n",
       "       [2.8 ],\n",
       "       [2.81],\n",
       "       [2.82],\n",
       "       [2.83],\n",
       "       [2.84],\n",
       "       [2.85],\n",
       "       [2.86],\n",
       "       [2.87],\n",
       "       [2.88],\n",
       "       [2.89],\n",
       "       [2.9 ],\n",
       "       [2.91],\n",
       "       [2.92],\n",
       "       [2.93],\n",
       "       [2.94],\n",
       "       [2.95],\n",
       "       [2.96],\n",
       "       [2.97],\n",
       "       [2.98],\n",
       "       [2.99],\n",
       "       [3.  ],\n",
       "       [3.01],\n",
       "       [3.02],\n",
       "       [3.03],\n",
       "       [3.04],\n",
       "       [3.05],\n",
       "       [3.06],\n",
       "       [3.07],\n",
       "       [3.08],\n",
       "       [3.09],\n",
       "       [3.1 ],\n",
       "       [3.11],\n",
       "       [3.12],\n",
       "       [3.13],\n",
       "       [3.14],\n",
       "       [3.15],\n",
       "       [3.16],\n",
       "       [3.17],\n",
       "       [3.18],\n",
       "       [3.19],\n",
       "       [3.2 ],\n",
       "       [3.21],\n",
       "       [3.22],\n",
       "       [3.23],\n",
       "       [3.24],\n",
       "       [3.25],\n",
       "       [3.26],\n",
       "       [3.27],\n",
       "       [3.28],\n",
       "       [3.29],\n",
       "       [3.3 ],\n",
       "       [3.31],\n",
       "       [3.32],\n",
       "       [3.33],\n",
       "       [3.34],\n",
       "       [3.35],\n",
       "       [3.36],\n",
       "       [3.37],\n",
       "       [3.38],\n",
       "       [3.39],\n",
       "       [3.4 ],\n",
       "       [3.41],\n",
       "       [3.42],\n",
       "       [3.43],\n",
       "       [3.44],\n",
       "       [3.45],\n",
       "       [3.46],\n",
       "       [3.47],\n",
       "       [3.48],\n",
       "       [3.49],\n",
       "       [3.5 ],\n",
       "       [3.51],\n",
       "       [3.52],\n",
       "       [3.53],\n",
       "       [3.54],\n",
       "       [3.55],\n",
       "       [3.56],\n",
       "       [3.57],\n",
       "       [3.58],\n",
       "       [3.59],\n",
       "       [3.6 ],\n",
       "       [3.61],\n",
       "       [3.62],\n",
       "       [3.63],\n",
       "       [3.64],\n",
       "       [3.65],\n",
       "       [3.66],\n",
       "       [3.67],\n",
       "       [3.68],\n",
       "       [3.69],\n",
       "       [3.7 ],\n",
       "       [3.71],\n",
       "       [3.72],\n",
       "       [3.73],\n",
       "       [3.74],\n",
       "       [3.75],\n",
       "       [3.76],\n",
       "       [3.77],\n",
       "       [3.78],\n",
       "       [3.79],\n",
       "       [3.8 ],\n",
       "       [3.81],\n",
       "       [3.82],\n",
       "       [3.83],\n",
       "       [3.84],\n",
       "       [3.85],\n",
       "       [3.86],\n",
       "       [3.87],\n",
       "       [3.88],\n",
       "       [3.89],\n",
       "       [3.9 ],\n",
       "       [3.91],\n",
       "       [3.92],\n",
       "       [3.93],\n",
       "       [3.94],\n",
       "       [3.95],\n",
       "       [3.96],\n",
       "       [3.97],\n",
       "       [3.98],\n",
       "       [3.99],\n",
       "       [4.  ],\n",
       "       [4.01],\n",
       "       [4.02],\n",
       "       [4.03],\n",
       "       [4.04],\n",
       "       [4.05],\n",
       "       [4.06],\n",
       "       [4.07],\n",
       "       [4.08],\n",
       "       [4.09],\n",
       "       [4.1 ],\n",
       "       [4.11],\n",
       "       [4.12],\n",
       "       [4.13],\n",
       "       [4.14],\n",
       "       [4.15],\n",
       "       [4.16],\n",
       "       [4.17],\n",
       "       [4.18],\n",
       "       [4.19],\n",
       "       [4.2 ],\n",
       "       [4.21],\n",
       "       [4.22],\n",
       "       [4.23],\n",
       "       [4.24],\n",
       "       [4.25],\n",
       "       [4.26],\n",
       "       [4.27],\n",
       "       [4.28],\n",
       "       [4.29],\n",
       "       [4.3 ],\n",
       "       [4.31],\n",
       "       [4.32],\n",
       "       [4.33],\n",
       "       [4.34],\n",
       "       [4.35],\n",
       "       [4.36],\n",
       "       [4.37],\n",
       "       [4.38],\n",
       "       [4.39],\n",
       "       [4.4 ],\n",
       "       [4.41],\n",
       "       [4.42],\n",
       "       [4.43],\n",
       "       [4.44],\n",
       "       [4.45],\n",
       "       [4.46],\n",
       "       [4.47],\n",
       "       [4.48],\n",
       "       [4.49],\n",
       "       [4.5 ],\n",
       "       [4.51],\n",
       "       [4.52],\n",
       "       [4.53],\n",
       "       [4.54],\n",
       "       [4.55],\n",
       "       [4.56],\n",
       "       [4.57],\n",
       "       [4.58],\n",
       "       [4.59],\n",
       "       [4.6 ],\n",
       "       [4.61],\n",
       "       [4.62],\n",
       "       [4.63],\n",
       "       [4.64],\n",
       "       [4.65],\n",
       "       [4.66],\n",
       "       [4.67],\n",
       "       [4.68],\n",
       "       [4.69],\n",
       "       [4.7 ],\n",
       "       [4.71],\n",
       "       [4.72],\n",
       "       [4.73],\n",
       "       [4.74],\n",
       "       [4.75],\n",
       "       [4.76],\n",
       "       [4.77],\n",
       "       [4.78],\n",
       "       [4.79],\n",
       "       [4.8 ],\n",
       "       [4.81],\n",
       "       [4.82],\n",
       "       [4.83],\n",
       "       [4.84],\n",
       "       [4.85],\n",
       "       [4.86],\n",
       "       [4.87],\n",
       "       [4.88],\n",
       "       [4.89],\n",
       "       [4.9 ],\n",
       "       [4.91],\n",
       "       [4.92],\n",
       "       [4.93],\n",
       "       [4.94],\n",
       "       [4.95],\n",
       "       [4.96],\n",
       "       [4.97],\n",
       "       [4.98],\n",
       "       [4.99],\n",
       "       [5.  ],\n",
       "       [5.01],\n",
       "       [5.02],\n",
       "       [5.03],\n",
       "       [5.04],\n",
       "       [5.05],\n",
       "       [5.06],\n",
       "       [5.07],\n",
       "       [5.08],\n",
       "       [5.09],\n",
       "       [5.1 ],\n",
       "       [5.11],\n",
       "       [5.12],\n",
       "       [5.13],\n",
       "       [5.14],\n",
       "       [5.15],\n",
       "       [5.16],\n",
       "       [5.17],\n",
       "       [5.18],\n",
       "       [5.19],\n",
       "       [5.2 ],\n",
       "       [5.21],\n",
       "       [5.22],\n",
       "       [5.23],\n",
       "       [5.24],\n",
       "       [5.25],\n",
       "       [5.26],\n",
       "       [5.27],\n",
       "       [5.28],\n",
       "       [5.29],\n",
       "       [5.3 ],\n",
       "       [5.31],\n",
       "       [5.32],\n",
       "       [5.33],\n",
       "       [5.34],\n",
       "       [5.35],\n",
       "       [5.36],\n",
       "       [5.37],\n",
       "       [5.38],\n",
       "       [5.39],\n",
       "       [5.4 ],\n",
       "       [5.41],\n",
       "       [5.42],\n",
       "       [5.43],\n",
       "       [5.44],\n",
       "       [5.45],\n",
       "       [5.46],\n",
       "       [5.47],\n",
       "       [5.48],\n",
       "       [5.49],\n",
       "       [5.5 ],\n",
       "       [5.51],\n",
       "       [5.52],\n",
       "       [5.53],\n",
       "       [5.54],\n",
       "       [5.55],\n",
       "       [5.56],\n",
       "       [5.57],\n",
       "       [5.58],\n",
       "       [5.59],\n",
       "       [5.6 ],\n",
       "       [5.61],\n",
       "       [5.62],\n",
       "       [5.63],\n",
       "       [5.64],\n",
       "       [5.65],\n",
       "       [5.66],\n",
       "       [5.67],\n",
       "       [5.68],\n",
       "       [5.69],\n",
       "       [5.7 ],\n",
       "       [5.71],\n",
       "       [5.72],\n",
       "       [5.73],\n",
       "       [5.74],\n",
       "       [5.75],\n",
       "       [5.76],\n",
       "       [5.77],\n",
       "       [5.78],\n",
       "       [5.79],\n",
       "       [5.8 ],\n",
       "       [5.81],\n",
       "       [5.82],\n",
       "       [5.83],\n",
       "       [5.84],\n",
       "       [5.85],\n",
       "       [5.86],\n",
       "       [5.87],\n",
       "       [5.88],\n",
       "       [5.89],\n",
       "       [5.9 ],\n",
       "       [5.91],\n",
       "       [5.92],\n",
       "       [5.93],\n",
       "       [5.94],\n",
       "       [5.95],\n",
       "       [5.96],\n",
       "       [5.97],\n",
       "       [5.98],\n",
       "       [5.99],\n",
       "       [6.  ],\n",
       "       [6.01],\n",
       "       [6.02],\n",
       "       [6.03],\n",
       "       [6.04],\n",
       "       [6.05],\n",
       "       [6.06],\n",
       "       [6.07],\n",
       "       [6.08],\n",
       "       [6.09],\n",
       "       [6.1 ],\n",
       "       [6.11],\n",
       "       [6.12],\n",
       "       [6.13],\n",
       "       [6.14],\n",
       "       [6.15],\n",
       "       [6.16],\n",
       "       [6.17],\n",
       "       [6.18],\n",
       "       [6.19],\n",
       "       [6.2 ],\n",
       "       [6.21],\n",
       "       [6.22],\n",
       "       [6.23],\n",
       "       [6.24],\n",
       "       [6.25],\n",
       "       [6.26],\n",
       "       [6.27],\n",
       "       [6.28],\n",
       "       [6.29],\n",
       "       [6.3 ],\n",
       "       [6.31],\n",
       "       [6.32],\n",
       "       [6.33],\n",
       "       [6.34],\n",
       "       [6.35],\n",
       "       [6.36],\n",
       "       [6.37],\n",
       "       [6.38],\n",
       "       [6.39],\n",
       "       [6.4 ],\n",
       "       [6.41],\n",
       "       [6.42],\n",
       "       [6.43],\n",
       "       [6.44],\n",
       "       [6.45],\n",
       "       [6.46],\n",
       "       [6.47],\n",
       "       [6.48],\n",
       "       [6.49],\n",
       "       [6.5 ],\n",
       "       [6.51],\n",
       "       [6.52],\n",
       "       [6.53],\n",
       "       [6.54],\n",
       "       [6.55],\n",
       "       [6.56],\n",
       "       [6.57],\n",
       "       [6.58],\n",
       "       [6.59],\n",
       "       [6.6 ],\n",
       "       [6.61],\n",
       "       [6.62],\n",
       "       [6.63],\n",
       "       [6.64],\n",
       "       [6.65],\n",
       "       [6.66],\n",
       "       [6.67],\n",
       "       [6.68],\n",
       "       [6.69],\n",
       "       [6.7 ],\n",
       "       [6.71],\n",
       "       [6.72],\n",
       "       [6.73],\n",
       "       [6.74],\n",
       "       [6.75],\n",
       "       [6.76],\n",
       "       [6.77],\n",
       "       [6.78],\n",
       "       [6.79],\n",
       "       [6.8 ],\n",
       "       [6.81],\n",
       "       [6.82],\n",
       "       [6.83],\n",
       "       [6.84],\n",
       "       [6.85],\n",
       "       [6.86],\n",
       "       [6.87],\n",
       "       [6.88],\n",
       "       [6.89],\n",
       "       [6.9 ],\n",
       "       [6.91],\n",
       "       [6.92],\n",
       "       [6.93],\n",
       "       [6.94],\n",
       "       [6.95],\n",
       "       [6.96],\n",
       "       [6.97],\n",
       "       [6.98],\n",
       "       [6.99],\n",
       "       [7.  ],\n",
       "       [7.01],\n",
       "       [7.02],\n",
       "       [7.03],\n",
       "       [7.04],\n",
       "       [7.05],\n",
       "       [7.06],\n",
       "       [7.07],\n",
       "       [7.08],\n",
       "       [7.09],\n",
       "       [7.1 ],\n",
       "       [7.11],\n",
       "       [7.12],\n",
       "       [7.13],\n",
       "       [7.14],\n",
       "       [7.15],\n",
       "       [7.16],\n",
       "       [7.17],\n",
       "       [7.18],\n",
       "       [7.19],\n",
       "       [7.2 ],\n",
       "       [7.21],\n",
       "       [7.22],\n",
       "       [7.23],\n",
       "       [7.24],\n",
       "       [7.25],\n",
       "       [7.26],\n",
       "       [7.27],\n",
       "       [7.28],\n",
       "       [7.29],\n",
       "       [7.3 ],\n",
       "       [7.31],\n",
       "       [7.32],\n",
       "       [7.33],\n",
       "       [7.34],\n",
       "       [7.35],\n",
       "       [7.36],\n",
       "       [7.37],\n",
       "       [7.38],\n",
       "       [7.39],\n",
       "       [7.4 ],\n",
       "       [7.41],\n",
       "       [7.42],\n",
       "       [7.43],\n",
       "       [7.44],\n",
       "       [7.45],\n",
       "       [7.46],\n",
       "       [7.47],\n",
       "       [7.48],\n",
       "       [7.49],\n",
       "       [7.5 ],\n",
       "       [7.51],\n",
       "       [7.52],\n",
       "       [7.53],\n",
       "       [7.54],\n",
       "       [7.55],\n",
       "       [7.56],\n",
       "       [7.57],\n",
       "       [7.58],\n",
       "       [7.59],\n",
       "       [7.6 ],\n",
       "       [7.61],\n",
       "       [7.62],\n",
       "       [7.63],\n",
       "       [7.64],\n",
       "       [7.65],\n",
       "       [7.66],\n",
       "       [7.67],\n",
       "       [7.68],\n",
       "       [7.69],\n",
       "       [7.7 ],\n",
       "       [7.71],\n",
       "       [7.72],\n",
       "       [7.73],\n",
       "       [7.74],\n",
       "       [7.75],\n",
       "       [7.76],\n",
       "       [7.77],\n",
       "       [7.78],\n",
       "       [7.79],\n",
       "       [7.8 ],\n",
       "       [7.81],\n",
       "       [7.82],\n",
       "       [7.83],\n",
       "       [7.84],\n",
       "       [7.85],\n",
       "       [7.86],\n",
       "       [7.87],\n",
       "       [7.88],\n",
       "       [7.89],\n",
       "       [7.9 ],\n",
       "       [7.91],\n",
       "       [7.92],\n",
       "       [7.93],\n",
       "       [7.94],\n",
       "       [7.95],\n",
       "       [7.96],\n",
       "       [7.97],\n",
       "       [7.98],\n",
       "       [7.99],\n",
       "       [8.  ],\n",
       "       [8.01],\n",
       "       [8.02],\n",
       "       [8.03],\n",
       "       [8.04],\n",
       "       [8.05],\n",
       "       [8.06],\n",
       "       [8.07],\n",
       "       [8.08],\n",
       "       [8.09],\n",
       "       [8.1 ],\n",
       "       [8.11],\n",
       "       [8.12],\n",
       "       [8.13],\n",
       "       [8.14],\n",
       "       [8.15],\n",
       "       [8.16],\n",
       "       [8.17],\n",
       "       [8.18],\n",
       "       [8.19],\n",
       "       [8.2 ],\n",
       "       [8.21],\n",
       "       [8.22],\n",
       "       [8.23],\n",
       "       [8.24],\n",
       "       [8.25],\n",
       "       [8.26],\n",
       "       [8.27],\n",
       "       [8.28],\n",
       "       [8.29],\n",
       "       [8.3 ],\n",
       "       [8.31],\n",
       "       [8.32],\n",
       "       [8.33],\n",
       "       [8.34],\n",
       "       [8.35],\n",
       "       [8.36],\n",
       "       [8.37],\n",
       "       [8.38],\n",
       "       [8.39],\n",
       "       [8.4 ],\n",
       "       [8.41],\n",
       "       [8.42],\n",
       "       [8.43],\n",
       "       [8.44],\n",
       "       [8.45],\n",
       "       [8.46],\n",
       "       [8.47],\n",
       "       [8.48],\n",
       "       [8.49],\n",
       "       [8.5 ],\n",
       "       [8.51],\n",
       "       [8.52],\n",
       "       [8.53],\n",
       "       [8.54],\n",
       "       [8.55],\n",
       "       [8.56],\n",
       "       [8.57],\n",
       "       [8.58],\n",
       "       [8.59],\n",
       "       [8.6 ],\n",
       "       [8.61],\n",
       "       [8.62],\n",
       "       [8.63],\n",
       "       [8.64],\n",
       "       [8.65],\n",
       "       [8.66],\n",
       "       [8.67],\n",
       "       [8.68],\n",
       "       [8.69],\n",
       "       [8.7 ],\n",
       "       [8.71],\n",
       "       [8.72],\n",
       "       [8.73],\n",
       "       [8.74],\n",
       "       [8.75],\n",
       "       [8.76],\n",
       "       [8.77],\n",
       "       [8.78],\n",
       "       [8.79],\n",
       "       [8.8 ],\n",
       "       [8.81],\n",
       "       [8.82],\n",
       "       [8.83],\n",
       "       [8.84],\n",
       "       [8.85],\n",
       "       [8.86],\n",
       "       [8.87],\n",
       "       [8.88],\n",
       "       [8.89],\n",
       "       [8.9 ],\n",
       "       [8.91],\n",
       "       [8.92],\n",
       "       [8.93],\n",
       "       [8.94],\n",
       "       [8.95],\n",
       "       [8.96],\n",
       "       [8.97],\n",
       "       [8.98],\n",
       "       [8.99],\n",
       "       [9.  ],\n",
       "       [9.01],\n",
       "       [9.02],\n",
       "       [9.03],\n",
       "       [9.04],\n",
       "       [9.05],\n",
       "       [9.06],\n",
       "       [9.07],\n",
       "       [9.08],\n",
       "       [9.09],\n",
       "       [9.1 ],\n",
       "       [9.11],\n",
       "       [9.12],\n",
       "       [9.13],\n",
       "       [9.14],\n",
       "       [9.15],\n",
       "       [9.16],\n",
       "       [9.17],\n",
       "       [9.18],\n",
       "       [9.19],\n",
       "       [9.2 ],\n",
       "       [9.21],\n",
       "       [9.22],\n",
       "       [9.23],\n",
       "       [9.24],\n",
       "       [9.25],\n",
       "       [9.26],\n",
       "       [9.27],\n",
       "       [9.28],\n",
       "       [9.29],\n",
       "       [9.3 ],\n",
       "       [9.31],\n",
       "       [9.32],\n",
       "       [9.33],\n",
       "       [9.34],\n",
       "       [9.35],\n",
       "       [9.36],\n",
       "       [9.37],\n",
       "       [9.38],\n",
       "       [9.39],\n",
       "       [9.4 ],\n",
       "       [9.41],\n",
       "       [9.42],\n",
       "       [9.43],\n",
       "       [9.44],\n",
       "       [9.45],\n",
       "       [9.46],\n",
       "       [9.47],\n",
       "       [9.48],\n",
       "       [9.49],\n",
       "       [9.5 ],\n",
       "       [9.51],\n",
       "       [9.52],\n",
       "       [9.53],\n",
       "       [9.54],\n",
       "       [9.55],\n",
       "       [9.56],\n",
       "       [9.57],\n",
       "       [9.58],\n",
       "       [9.59],\n",
       "       [9.6 ],\n",
       "       [9.61],\n",
       "       [9.62],\n",
       "       [9.63],\n",
       "       [9.64],\n",
       "       [9.65],\n",
       "       [9.66],\n",
       "       [9.67],\n",
       "       [9.68],\n",
       "       [9.69],\n",
       "       [9.7 ],\n",
       "       [9.71],\n",
       "       [9.72],\n",
       "       [9.73],\n",
       "       [9.74],\n",
       "       [9.75],\n",
       "       [9.76],\n",
       "       [9.77],\n",
       "       [9.78],\n",
       "       [9.79],\n",
       "       [9.8 ],\n",
       "       [9.81],\n",
       "       [9.82],\n",
       "       [9.83],\n",
       "       [9.84],\n",
       "       [9.85],\n",
       "       [9.86],\n",
       "       [9.87],\n",
       "       [9.88],\n",
       "       [9.89],\n",
       "       [9.9 ],\n",
       "       [9.91],\n",
       "       [9.92],\n",
       "       [9.93],\n",
       "       [9.94],\n",
       "       [9.95],\n",
       "       [9.96],\n",
       "       [9.97],\n",
       "       [9.98],\n",
       "       [9.99]])"
      ]
     },
     "execution_count": 54,
     "metadata": {},
     "output_type": "execute_result"
    }
   ],
   "source": [
    "x = level\n",
    "x_grid = np.arange(min(x),max(x), 0.01)\n",
    "x_grid = x_grid.reshape(len(x_grid),1)\n",
    "x_grid"
   ]
  },
  {
   "cell_type": "code",
   "execution_count": 56,
   "id": "abac547e-dcd7-473b-8b30-8245c87a8a7c",
   "metadata": {},
   "outputs": [
    {
     "data": {
      "image/png": "[encoded data removed]",
      "text/plain": [
       "<Figure size 640x480 with 1 Axes>"
      ]
     },
     "metadata": {},
     "output_type": "display_data"
    }
   ],
   "source": [
    "plt.scatter(x, salary)\n",
    "plt.plot(x_grid, model.predict(x_grid), \"r-\")\n",
    "plt.show()"
   ]
  },
  {
   "cell_type": "code",
   "execution_count": 57,
   "id": "f0d28789-2890-41a7-b077-2eee6448c32a",
   "metadata": {},
   "outputs": [],
   "source": [
    "from sklearn import tree"
   ]
  },
  {
   "cell_type": "code",
   "execution_count": 60,
   "id": "3e8682ec-cc3c-4e18-adfb-bd70678d5ef8",
   "metadata": {},
   "outputs": [
    {
     "data": {
      "image/png": "[encoded data removed]",
      "text/plain": [
       "<Figure size 2000x1600 with 1 Axes>"
      ]
     },
     "metadata": {},
     "output_type": "display_data"
    }
   ],
   "source": [
    "plt.figure(figsize=(20,16))\n",
    "tree.plot_tree(model)\n",
    "plt.show()"
   ]
  },
  {
   "cell_type": "code",
   "execution_count": 61,
   "id": "acf9205e-10d4-4fa9-848f-96345c29b419",
   "metadata": {},
   "outputs": [
    {
     "data": {
      "text/plain": [
       "array([50000.])"
      ]
     },
     "execution_count": 61,
     "metadata": {},
     "output_type": "execute_result"
    }
   ],
   "source": [
    "model.predict([[1.6]])"
   ]
  },
  {
   "cell_type": "code",
   "execution_count": 74,
   "id": "cf41350a-ca2d-4377-a615-0ff6917c6b85",
   "metadata": {},
   "outputs": [],
   "source": [
    "from sklearn.preprocessing import LabelEncoder"
   ]
  },
  {
   "cell_type": "code",
   "execution_count": 76,
   "id": "1fd5a1b8-10aa-4c40-9e11-91db162f7285",
   "metadata": {},
   "outputs": [],
   "source": [
    "le = LabelEncoder()"
   ]
  },
  {
   "cell_type": "code",
   "execution_count": 65,
   "id": "1f44715b-3da1-4446-a45e-42125f601043",
   "metadata": {},
   "outputs": [
    {
     "data": {
      "text/html": [
       "<div>\n",
       "<style scoped>\n",
       "    .dataframe tbody tr th:only-of-type {\n",
       "        vertical-align: middle;\n",
       "    }\n",
       "\n",
       "    .dataframe tbody tr th {\n",
       "        vertical-align: top;\n",
       "    }\n",
       "\n",
       "    .dataframe thead th {\n",
       "        text-align: right;\n",
       "    }\n",
       "</style>\n",
       "<table border=\"1\" class=\"dataframe\">\n",
       "  <thead>\n",
       "    <tr style=\"text-align: right;\">\n",
       "      <th></th>\n",
       "      <th>Outlook</th>\n",
       "      <th>Temperature</th>\n",
       "      <th>Humidity</th>\n",
       "      <th>Wind</th>\n",
       "    </tr>\n",
       "  </thead>\n",
       "  <tbody>\n",
       "    <tr>\n",
       "      <th>0</th>\n",
       "      <td>Sunny</td>\n",
       "      <td>Hot</td>\n",
       "      <td>High</td>\n",
       "      <td>Weak</td>\n",
       "    </tr>\n",
       "    <tr>\n",
       "      <th>1</th>\n",
       "      <td>Sunny</td>\n",
       "      <td>Hot</td>\n",
       "      <td>High</td>\n",
       "      <td>Strong</td>\n",
       "    </tr>\n",
       "    <tr>\n",
       "      <th>2</th>\n",
       "      <td>Overcast</td>\n",
       "      <td>Hot</td>\n",
       "      <td>High</td>\n",
       "      <td>Weak</td>\n",
       "    </tr>\n",
       "    <tr>\n",
       "      <th>3</th>\n",
       "      <td>Rain</td>\n",
       "      <td>Mild</td>\n",
       "      <td>High</td>\n",
       "      <td>Weak</td>\n",
       "    </tr>\n",
       "    <tr>\n",
       "      <th>4</th>\n",
       "      <td>Rain</td>\n",
       "      <td>Cool</td>\n",
       "      <td>Normal</td>\n",
       "      <td>Weak</td>\n",
       "    </tr>\n",
       "  </tbody>\n",
       "</table>\n",
       "</div>"
      ],
      "text/plain": [
       "    Outlook Temperature Humidity    Wind\n",
       "0     Sunny         Hot     High    Weak\n",
       "1     Sunny         Hot     High  Strong\n",
       "2  Overcast         Hot     High    Weak\n",
       "3      Rain        Mild     High    Weak\n",
       "4      Rain        Cool   Normal    Weak"
      ]
     },
     "execution_count": 65,
     "metadata": {},
     "output_type": "execute_result"
    }
   ],
   "source": [
    "data = df.drop(\"Hrs Played\", axis=1)\n",
    "data.head()"
   ]
  },
  {
   "cell_type": "code",
   "execution_count": 77,
   "id": "26f649bd-1ec1-49bb-9058-ec15617701ba",
   "metadata": {},
   "outputs": [],
   "source": [
    "for i in data.columns:\n",
    "    a = le.fit(data[i])\n",
    "    data[i] = le.transform(data[i])"
   ]
  },
  {
   "cell_type": "code",
   "execution_count": 79,
   "id": "f71e6751-1124-4bbd-96c8-dbc9bf069086",
   "metadata": {},
   "outputs": [],
   "source": [
    "data[\"target\"] = df[\"Hrs Played\"]"
   ]
  },
  {
   "cell_type": "code",
   "execution_count": 80,
   "id": "e1cefede-f993-4fcc-8612-f52d619804d3",
   "metadata": {},
   "outputs": [
    {
     "data": {
      "text/html": [
       "<div>\n",
       "<style scoped>\n",
       "    .dataframe tbody tr th:only-of-type {\n",
       "        vertical-align: middle;\n",
       "    }\n",
       "\n",
       "    .dataframe tbody tr th {\n",
       "        vertical-align: top;\n",
       "    }\n",
       "\n",
       "    .dataframe thead th {\n",
       "        text-align: right;\n",
       "    }\n",
       "</style>\n",
       "<table border=\"1\" class=\"dataframe\">\n",
       "  <thead>\n",
       "    <tr style=\"text-align: right;\">\n",
       "      <th></th>\n",
       "      <th>Outlook</th>\n",
       "      <th>Temperature</th>\n",
       "      <th>Humidity</th>\n",
       "      <th>Wind</th>\n",
       "      <th>target</th>\n",
       "    </tr>\n",
       "  </thead>\n",
       "  <tbody>\n",
       "    <tr>\n",
       "      <th>0</th>\n",
       "      <td>2</td>\n",
       "      <td>1</td>\n",
       "      <td>0</td>\n",
       "      <td>1</td>\n",
       "      <td>25</td>\n",
       "    </tr>\n",
       "    <tr>\n",
       "      <th>1</th>\n",
       "      <td>2</td>\n",
       "      <td>1</td>\n",
       "      <td>0</td>\n",
       "      <td>0</td>\n",
       "      <td>30</td>\n",
       "    </tr>\n",
       "    <tr>\n",
       "      <th>2</th>\n",
       "      <td>0</td>\n",
       "      <td>1</td>\n",
       "      <td>0</td>\n",
       "      <td>1</td>\n",
       "      <td>46</td>\n",
       "    </tr>\n",
       "    <tr>\n",
       "      <th>3</th>\n",
       "      <td>1</td>\n",
       "      <td>2</td>\n",
       "      <td>0</td>\n",
       "      <td>1</td>\n",
       "      <td>45</td>\n",
       "    </tr>\n",
       "    <tr>\n",
       "      <th>4</th>\n",
       "      <td>1</td>\n",
       "      <td>0</td>\n",
       "      <td>1</td>\n",
       "      <td>1</td>\n",
       "      <td>52</td>\n",
       "    </tr>\n",
       "    <tr>\n",
       "      <th>5</th>\n",
       "      <td>1</td>\n",
       "      <td>0</td>\n",
       "      <td>1</td>\n",
       "      <td>0</td>\n",
       "      <td>23</td>\n",
       "    </tr>\n",
       "    <tr>\n",
       "      <th>6</th>\n",
       "      <td>0</td>\n",
       "      <td>0</td>\n",
       "      <td>1</td>\n",
       "      <td>0</td>\n",
       "      <td>43</td>\n",
       "    </tr>\n",
       "    <tr>\n",
       "      <th>7</th>\n",
       "      <td>2</td>\n",
       "      <td>2</td>\n",
       "      <td>0</td>\n",
       "      <td>1</td>\n",
       "      <td>35</td>\n",
       "    </tr>\n",
       "    <tr>\n",
       "      <th>8</th>\n",
       "      <td>2</td>\n",
       "      <td>0</td>\n",
       "      <td>1</td>\n",
       "      <td>1</td>\n",
       "      <td>38</td>\n",
       "    </tr>\n",
       "    <tr>\n",
       "      <th>9</th>\n",
       "      <td>1</td>\n",
       "      <td>2</td>\n",
       "      <td>1</td>\n",
       "      <td>1</td>\n",
       "      <td>46</td>\n",
       "    </tr>\n",
       "    <tr>\n",
       "      <th>10</th>\n",
       "      <td>2</td>\n",
       "      <td>2</td>\n",
       "      <td>1</td>\n",
       "      <td>0</td>\n",
       "      <td>48</td>\n",
       "    </tr>\n",
       "    <tr>\n",
       "      <th>11</th>\n",
       "      <td>0</td>\n",
       "      <td>2</td>\n",
       "      <td>0</td>\n",
       "      <td>0</td>\n",
       "      <td>52</td>\n",
       "    </tr>\n",
       "    <tr>\n",
       "      <th>12</th>\n",
       "      <td>0</td>\n",
       "      <td>1</td>\n",
       "      <td>1</td>\n",
       "      <td>1</td>\n",
       "      <td>44</td>\n",
       "    </tr>\n",
       "    <tr>\n",
       "      <th>13</th>\n",
       "      <td>1</td>\n",
       "      <td>2</td>\n",
       "      <td>0</td>\n",
       "      <td>0</td>\n",
       "      <td>30</td>\n",
       "    </tr>\n",
       "  </tbody>\n",
       "</table>\n",
       "</div>"
      ],
      "text/plain": [
       "    Outlook  Temperature  Humidity  Wind  target\n",
       "0         2            1         0     1      25\n",
       "1         2            1         0     0      30\n",
       "2         0            1         0     1      46\n",
       "3         1            2         0     1      45\n",
       "4         1            0         1     1      52\n",
       "5         1            0         1     0      23\n",
       "6         0            0         1     0      43\n",
       "7         2            2         0     1      35\n",
       "8         2            0         1     1      38\n",
       "9         1            2         1     1      46\n",
       "10        2            2         1     0      48\n",
       "11        0            2         0     0      52\n",
       "12        0            1         1     1      44\n",
       "13        1            2         0     0      30"
      ]
     },
     "execution_count": 80,
     "metadata": {},
     "output_type": "execute_result"
    }
   ],
   "source": [
    "data"
   ]
  },
  {
   "cell_type": "code",
   "execution_count": 81,
   "id": "11aea135-09f5-41ba-a641-7381d3b79007",
   "metadata": {},
   "outputs": [],
   "source": [
    "model2 = DecisionTreeRegressor()"
   ]
  },
  {
   "cell_type": "code",
   "execution_count": 82,
   "id": "b894d494-336b-4f0d-906e-f397f410b381",
   "metadata": {},
   "outputs": [],
   "source": [
    "X = data.drop(\"target\", axis=1)\n",
    "y = data[\"target\"]"
   ]
  },
  {
   "cell_type": "code",
   "execution_count": 83,
   "id": "76c4727f-ca70-4109-8718-ac9083e2e58f",
   "metadata": {},
   "outputs": [
    {
     "data": {
      "text/html": [
       "<style>#sk-container-id-2 {color: black;}#sk-container-id-2 pre{padding: 0;}#sk-container-id-2 div.sk-toggleable {background-color: white;}#sk-container-id-2 label.sk-toggleable__label {cursor: pointer;display: block;width: 100%;margin-bottom: 0;padding: 0.3em;box-sizing: border-box;text-align: center;}#sk-container-id-2 label.sk-toggleable__label-arrow:before {content: \"▸\";float: left;margin-right: 0.25em;color: #696969;}#sk-container-id-2 label.sk-toggleable__label-arrow:hover:before {color: black;}#sk-container-id-2 div.sk-estimator:hover label.sk-toggleable__label-arrow:before {color: black;}#sk-container-id-2 div.sk-toggleable__content {max-height: 0;max-width: 0;overflow: hidden;text-align: left;background-color: #f0f8ff;}#sk-container-id-2 div.sk-toggleable__content pre {margin: 0.2em;color: black;border-radius: 0.25em;background-color: #f0f8ff;}#sk-container-id-2 input.sk-toggleable__control:checked~div.sk-toggleable__content {max-height: 200px;max-width: 100%;overflow: auto;}#sk-container-id-2 input.sk-toggleable__control:checked~label.sk-toggleable__label-arrow:before {content: \"▾\";}#sk-container-id-2 div.sk-estimator input.sk-toggleable__control:checked~label.sk-toggleable__label {background-color: #d4ebff;}#sk-container-id-2 div.sk-label input.sk-toggleable__control:checked~label.sk-toggleable__label {background-color: #d4ebff;}#sk-container-id-2 input.sk-hidden--visually {border: 0;clip: rect(1px 1px 1px 1px);clip: rect(1px, 1px, 1px, 1px);height: 1px;margin: -1px;overflow: hidden;padding: 0;position: absolute;width: 1px;}#sk-container-id-2 div.sk-estimator {font-family: monospace;background-color: #f0f8ff;border: 1px dotted black;border-radius: 0.25em;box-sizing: border-box;margin-bottom: 0.5em;}#sk-container-id-2 div.sk-estimator:hover {background-color: #d4ebff;}#sk-container-id-2 div.sk-parallel-item::after {content: \"\";width: 100%;border-bottom: 1px solid gray;flex-grow: 1;}#sk-container-id-2 div.sk-label:hover label.sk-toggleable__label {background-color: #d4ebff;}#sk-container-id-2 div.sk-serial::before {content: \"\";position: absolute;border-left: 1px solid gray;box-sizing: border-box;top: 0;bottom: 0;left: 50%;z-index: 0;}#sk-container-id-2 div.sk-serial {display: flex;flex-direction: column;align-items: center;background-color: white;padding-right: 0.2em;padding-left: 0.2em;position: relative;}#sk-container-id-2 div.sk-item {position: relative;z-index: 1;}#sk-container-id-2 div.sk-parallel {display: flex;align-items: stretch;justify-content: center;background-color: white;position: relative;}#sk-container-id-2 div.sk-item::before, #sk-container-id-2 div.sk-parallel-item::before {content: \"\";position: absolute;border-left: 1px solid gray;box-sizing: border-box;top: 0;bottom: 0;left: 50%;z-index: -1;}#sk-container-id-2 div.sk-parallel-item {display: flex;flex-direction: column;z-index: 1;position: relative;background-color: white;}#sk-container-id-2 div.sk-parallel-item:first-child::after {align-self: flex-end;width: 50%;}#sk-container-id-2 div.sk-parallel-item:last-child::after {align-self: flex-start;width: 50%;}#sk-container-id-2 div.sk-parallel-item:only-child::after {width: 0;}#sk-container-id-2 div.sk-dashed-wrapped {border: 1px dashed gray;margin: 0 0.4em 0.5em 0.4em;box-sizing: border-box;padding-bottom: 0.4em;background-color: white;}#sk-container-id-2 div.sk-label label {font-family: monospace;font-weight: bold;display: inline-block;line-height: 1.2em;}#sk-container-id-2 div.sk-label-container {text-align: center;}#sk-container-id-2 div.sk-container {/* jupyter's `normalize.less` sets `[hidden] { display: none; }` but bootstrap.min.css set `[hidden] { display: none !important; }` so we also need the `!important` here to be able to override the default hidden behavior on the sphinx rendered scikit-learn.org. See: https://github.com/scikit-learn/scikit-learn/issues/21755 */display: inline-block !important;position: relative;}#sk-container-id-2 div.sk-text-repr-fallback {display: none;}</style><div id=\"sk-container-id-2\" class=\"sk-top-container\"><div class=\"sk-text-repr-fallback\"><pre>DecisionTreeRegressor()</pre><b>In a Jupyter environment, please rerun this cell to show the HTML representation or trust the notebook. <br />On GitHub, the HTML representation is unable to render, please try loading this page with nbviewer.org.</b></div><div class=\"sk-container\" hidden><div class=\"sk-item\"><div class=\"sk-estimator sk-toggleable\"><input class=\"sk-toggleable__control sk-hidden--visually\" id=\"sk-estimator-id-2\" type=\"checkbox\" checked><label for=\"sk-estimator-id-2\" class=\"sk-toggleable__label sk-toggleable__label-arrow\">DecisionTreeRegressor</label><div class=\"sk-toggleable__content\"><pre>DecisionTreeRegressor()</pre></div></div></div></div></div>"
      ],
      "text/plain": [
       "DecisionTreeRegressor()"
      ]
     },
     "execution_count": 83,
     "metadata": {},
     "output_type": "execute_result"
    }
   ],
   "source": [
    "model2.fit(X,y)"
   ]
  },
  {
   "cell_type": "code",
   "execution_count": 84,
   "id": "c707febe-9647-4cc3-8c2c-c32595d9bfb5",
   "metadata": {},
   "outputs": [
    {
     "data": {
      "image/png": "[encoded data removed]",
      "text/plain": [
       "<Figure size 2000x1600 with 1 Axes>"
      ]
     },
     "metadata": {},
     "output_type": "display_data"
    }
   ],
   "source": [
    "plt.figure(figsize=(20,16))\n",
    "tree.plot_tree(model2)\n",
    "plt.show()"
   ]
  },
  {
   "cell_type": "code",
   "execution_count": null,
   "id": "f490f6e0-7f65-4a38-8b81-6f9314699bf3",
   "metadata": {},
   "outputs": [],
   "source": []
  }
 ],
 "metadata": {
  "kernelspec": {
   "display_name": "Python 3 (ipykernel)",
   "language": "python",
   "name": "python3"
  },
  "language_info": {
   "codemirror_mode": {
    "name": "ipython",
    "version": 3
   },
   "file_extension": ".py",
   "mimetype": "text/x-python",
   "name": "python",
   "nbconvert_exporter": "python",
   "pygments_lexer": "ipython3",
   "version": "3.11.3"
  }
 },
 "nbformat": 4,
 "nbformat_minor": 5
}
