{
 "cells": [
  {
   "cell_type": "code",
   "execution_count": 1,
   "id": "60aeefd5-047a-4f28-b969-cd4f67f36b87",
   "metadata": {},
   "outputs": [],
   "source": [
    "import pandas as pd\n",
    "import numpy as np\n",
    "import matplotlib.pyplot as plt"
   ]
  },
  {
   "cell_type": "code",
   "execution_count": 6,
   "id": "69d0d081-350d-4940-b686-66c6d4eff905",
   "metadata": {},
   "outputs": [
    {
     "data": {
      "text/plain": [
       "array([3, 5, 1, 3, 4, 6, 3, 1, 5, 7, 7, 2, 3, 2, 5, 1, 5, 7, 1, 5])"
      ]
     },
     "execution_count": 6,
     "metadata": {},
     "output_type": "execute_result"
    }
   ],
   "source": [
    "data = np.random.randint(1, 8, 20)\n",
    "data"
   ]
  },
  {
   "cell_type": "code",
   "execution_count": 7,
   "id": "7852713f-2ec9-448e-8422-46a10c5782fd",
   "metadata": {},
   "outputs": [],
   "source": [
    "designation = list(map(lambda x : 0 if x <= 4 else 1, data))"
   ]
  },
  {
   "cell_type": "code",
   "execution_count": 8,
   "id": "be7e928d-c75e-4c36-b248-5cf32b1bb17d",
   "metadata": {},
   "outputs": [
    {
     "data": {
      "text/plain": [
       "[0, 1, 0, 0, 0, 1, 0, 0, 1, 1, 1, 0, 0, 0, 1, 0, 1, 1, 0, 1]"
      ]
     },
     "execution_count": 8,
     "metadata": {},
     "output_type": "execute_result"
    }
   ],
   "source": [
    "designation"
   ]
  },
  {
   "cell_type": "code",
   "execution_count": 31,
   "id": "0d93d4ff-1749-4ee5-9b26-24eb06736992",
   "metadata": {},
   "outputs": [],
   "source": [
    "df = pd.DataFrame(data.reshape(-1, 1), columns= [\"Exp\"])\n",
    "df[\"Dsg\"] = designation"
   ]
  },
  {
   "cell_type": "code",
   "execution_count": 32,
   "id": "bd15b90d-ceef-484a-8ce1-687382e77a37",
   "metadata": {},
   "outputs": [
    {
     "data": {
      "text/html": [
       "<div>\n",
       "<style scoped>\n",
       "    .dataframe tbody tr th:only-of-type {\n",
       "        vertical-align: middle;\n",
       "    }\n",
       "\n",
       "    .dataframe tbody tr th {\n",
       "        vertical-align: top;\n",
       "    }\n",
       "\n",
       "    .dataframe thead th {\n",
       "        text-align: right;\n",
       "    }\n",
       "</style>\n",
       "<table border=\"1\" class=\"dataframe\">\n",
       "  <thead>\n",
       "    <tr style=\"text-align: right;\">\n",
       "      <th></th>\n",
       "      <th>Exp</th>\n",
       "      <th>Dsg</th>\n",
       "    </tr>\n",
       "  </thead>\n",
       "  <tbody>\n",
       "    <tr>\n",
       "      <th>0</th>\n",
       "      <td>3</td>\n",
       "      <td>0</td>\n",
       "    </tr>\n",
       "    <tr>\n",
       "      <th>1</th>\n",
       "      <td>5</td>\n",
       "      <td>1</td>\n",
       "    </tr>\n",
       "    <tr>\n",
       "      <th>2</th>\n",
       "      <td>1</td>\n",
       "      <td>0</td>\n",
       "    </tr>\n",
       "    <tr>\n",
       "      <th>3</th>\n",
       "      <td>3</td>\n",
       "      <td>0</td>\n",
       "    </tr>\n",
       "    <tr>\n",
       "      <th>4</th>\n",
       "      <td>4</td>\n",
       "      <td>0</td>\n",
       "    </tr>\n",
       "  </tbody>\n",
       "</table>\n",
       "</div>"
      ],
      "text/plain": [
       "   Exp  Dsg\n",
       "0    3    0\n",
       "1    5    1\n",
       "2    1    0\n",
       "3    3    0\n",
       "4    4    0"
      ]
     },
     "execution_count": 32,
     "metadata": {},
     "output_type": "execute_result"
    }
   ],
   "source": [
    "df.head() # 0 - Associate, 1 - Manager"
   ]
  },
  {
   "cell_type": "code",
   "execution_count": 35,
   "id": "9d2df08d-017e-4969-acf7-5dbb2bc7b43d",
   "metadata": {},
   "outputs": [
    {
     "data": {
      "image/png": "[encoded data removed]",
      "text/plain": [
       "<Figure size 400x300 with 1 Axes>"
      ]
     },
     "metadata": {},
     "output_type": "display_data"
    }
   ],
   "source": [
    "plt.figure(figsize=(4,3))\n",
    "plt.scatter(df[\"Exp\"], df[\"Dsg\"])\n",
    "plt.show()"
   ]
  },
  {
   "cell_type": "code",
   "execution_count": 36,
   "id": "d0966120-d8fc-44aa-83dd-7596d135f249",
   "metadata": {},
   "outputs": [
    {
     "data": {
      "text/plain": [
       "array([2.5])"
      ]
     },
     "execution_count": 36,
     "metadata": {},
     "output_type": "execute_result"
    }
   ],
   "source": [
    "new_exp = np.array([2.5])\n",
    "new_exp"
   ]
  },
  {
   "cell_type": "code",
   "execution_count": 37,
   "id": "5b8cbf89-911e-4fb4-ab0d-88a405df2822",
   "metadata": {},
   "outputs": [],
   "source": [
    "k = 3"
   ]
  },
  {
   "cell_type": "code",
   "execution_count": 38,
   "id": "9ca9fa25-70b1-42e6-9642-c074f0f6f4be",
   "metadata": {
    "scrolled": true
   },
   "outputs": [
    {
     "data": {
      "text/plain": [
       "0     0.5\n",
       "1     2.5\n",
       "2     1.5\n",
       "3     0.5\n",
       "4     1.5\n",
       "5     3.5\n",
       "6     0.5\n",
       "7     1.5\n",
       "8     2.5\n",
       "9     4.5\n",
       "10    4.5\n",
       "11    0.5\n",
       "12    0.5\n",
       "13    0.5\n",
       "14    2.5\n",
       "15    1.5\n",
       "16    2.5\n",
       "17    4.5\n",
       "18    1.5\n",
       "19    2.5\n",
       "Name: Exp, dtype: float64"
      ]
     },
     "execution_count": 38,
     "metadata": {},
     "output_type": "execute_result"
    }
   ],
   "source": [
    "distances = np.sqrt((new_exp - df[\"Exp\"])**2)\n",
    "distances"
   ]
  },
  {
   "cell_type": "code",
   "execution_count": 39,
   "id": "8197940f-00da-4b49-b698-0376dd43ddce",
   "metadata": {
    "scrolled": true
   },
   "outputs": [
    {
     "data": {
      "text/plain": [
       "[0.5,\n",
       " 0.5,\n",
       " 0.5,\n",
       " 0.5,\n",
       " 0.5,\n",
       " 0.5,\n",
       " 1.5,\n",
       " 1.5,\n",
       " 1.5,\n",
       " 1.5,\n",
       " 1.5,\n",
       " 2.5,\n",
       " 2.5,\n",
       " 2.5,\n",
       " 2.5,\n",
       " 2.5,\n",
       " 3.5,\n",
       " 4.5,\n",
       " 4.5,\n",
       " 4.5]"
      ]
     },
     "execution_count": 39,
     "metadata": {},
     "output_type": "execute_result"
    }
   ],
   "source": [
    "sorted(distances)"
   ]
  },
  {
   "cell_type": "code",
   "execution_count": 40,
   "id": "6f06d836-d44e-41b7-a645-5cfbaa8d5641",
   "metadata": {},
   "outputs": [],
   "source": [
    "new_df = df.copy()\n",
    "new_df[\"dist\"] = distances"
   ]
  },
  {
   "cell_type": "code",
   "execution_count": 41,
   "id": "6cc6ae35-79a3-4172-916d-bbb078128974",
   "metadata": {},
   "outputs": [
    {
     "data": {
      "text/html": [
       "<div>\n",
       "<style scoped>\n",
       "    .dataframe tbody tr th:only-of-type {\n",
       "        vertical-align: middle;\n",
       "    }\n",
       "\n",
       "    .dataframe tbody tr th {\n",
       "        vertical-align: top;\n",
       "    }\n",
       "\n",
       "    .dataframe thead th {\n",
       "        text-align: right;\n",
       "    }\n",
       "</style>\n",
       "<table border=\"1\" class=\"dataframe\">\n",
       "  <thead>\n",
       "    <tr style=\"text-align: right;\">\n",
       "      <th></th>\n",
       "      <th>Exp</th>\n",
       "      <th>Dsg</th>\n",
       "      <th>dist</th>\n",
       "    </tr>\n",
       "  </thead>\n",
       "  <tbody>\n",
       "    <tr>\n",
       "      <th>0</th>\n",
       "      <td>3</td>\n",
       "      <td>0</td>\n",
       "      <td>0.5</td>\n",
       "    </tr>\n",
       "    <tr>\n",
       "      <th>1</th>\n",
       "      <td>5</td>\n",
       "      <td>1</td>\n",
       "      <td>2.5</td>\n",
       "    </tr>\n",
       "    <tr>\n",
       "      <th>2</th>\n",
       "      <td>1</td>\n",
       "      <td>0</td>\n",
       "      <td>1.5</td>\n",
       "    </tr>\n",
       "    <tr>\n",
       "      <th>3</th>\n",
       "      <td>3</td>\n",
       "      <td>0</td>\n",
       "      <td>0.5</td>\n",
       "    </tr>\n",
       "    <tr>\n",
       "      <th>4</th>\n",
       "      <td>4</td>\n",
       "      <td>0</td>\n",
       "      <td>1.5</td>\n",
       "    </tr>\n",
       "  </tbody>\n",
       "</table>\n",
       "</div>"
      ],
      "text/plain": [
       "   Exp  Dsg  dist\n",
       "0    3    0   0.5\n",
       "1    5    1   2.5\n",
       "2    1    0   1.5\n",
       "3    3    0   0.5\n",
       "4    4    0   1.5"
      ]
     },
     "execution_count": 41,
     "metadata": {},
     "output_type": "execute_result"
    }
   ],
   "source": [
    "new_df.head()"
   ]
  },
  {
   "cell_type": "code",
   "execution_count": 42,
   "id": "ea65cde7-ef6f-48be-88d8-c385c9a90703",
   "metadata": {},
   "outputs": [
    {
     "data": {
      "text/html": [
       "<div>\n",
       "<style scoped>\n",
       "    .dataframe tbody tr th:only-of-type {\n",
       "        vertical-align: middle;\n",
       "    }\n",
       "\n",
       "    .dataframe tbody tr th {\n",
       "        vertical-align: top;\n",
       "    }\n",
       "\n",
       "    .dataframe thead th {\n",
       "        text-align: right;\n",
       "    }\n",
       "</style>\n",
       "<table border=\"1\" class=\"dataframe\">\n",
       "  <thead>\n",
       "    <tr style=\"text-align: right;\">\n",
       "      <th></th>\n",
       "      <th>Exp</th>\n",
       "      <th>Dsg</th>\n",
       "      <th>dist</th>\n",
       "    </tr>\n",
       "  </thead>\n",
       "  <tbody>\n",
       "    <tr>\n",
       "      <th>0</th>\n",
       "      <td>3</td>\n",
       "      <td>0</td>\n",
       "      <td>0.5</td>\n",
       "    </tr>\n",
       "    <tr>\n",
       "      <th>3</th>\n",
       "      <td>3</td>\n",
       "      <td>0</td>\n",
       "      <td>0.5</td>\n",
       "    </tr>\n",
       "    <tr>\n",
       "      <th>6</th>\n",
       "      <td>3</td>\n",
       "      <td>0</td>\n",
       "      <td>0.5</td>\n",
       "    </tr>\n",
       "  </tbody>\n",
       "</table>\n",
       "</div>"
      ],
      "text/plain": [
       "   Exp  Dsg  dist\n",
       "0    3    0   0.5\n",
       "3    3    0   0.5\n",
       "6    3    0   0.5"
      ]
     },
     "execution_count": 42,
     "metadata": {},
     "output_type": "execute_result"
    }
   ],
   "source": [
    "new_df.sort_values(\"dist\").head(k)"
   ]
  },
  {
   "cell_type": "code",
   "execution_count": 43,
   "id": "c58ab57e-1ce7-46c3-8023-3572e22162c3",
   "metadata": {},
   "outputs": [],
   "source": [
    "from sklearn.datasets import make_blobs"
   ]
  },
  {
   "cell_type": "code",
   "execution_count": 44,
   "id": "f928e139-fa57-484c-bca7-450347da9743",
   "metadata": {},
   "outputs": [],
   "source": [
    "data = make_blobs(n_samples=100, n_features=2, centers=[[2,3], [5,6]])"
   ]
  },
  {
   "cell_type": "code",
   "execution_count": 45,
   "id": "6ff34d8c-ceba-4283-a89a-c90e90ce99cc",
   "metadata": {},
   "outputs": [
    {
     "data": {
      "text/html": [
       "<div>\n",
       "<style scoped>\n",
       "    .dataframe tbody tr th:only-of-type {\n",
       "        vertical-align: middle;\n",
       "    }\n",
       "\n",
       "    .dataframe tbody tr th {\n",
       "        vertical-align: top;\n",
       "    }\n",
       "\n",
       "    .dataframe thead th {\n",
       "        text-align: right;\n",
       "    }\n",
       "</style>\n",
       "<table border=\"1\" class=\"dataframe\">\n",
       "  <thead>\n",
       "    <tr style=\"text-align: right;\">\n",
       "      <th></th>\n",
       "      <th>Col_1</th>\n",
       "      <th>Col_2</th>\n",
       "      <th>Target</th>\n",
       "    </tr>\n",
       "  </thead>\n",
       "  <tbody>\n",
       "    <tr>\n",
       "      <th>0</th>\n",
       "      <td>3.042405</td>\n",
       "      <td>5.434579</td>\n",
       "      <td>1</td>\n",
       "    </tr>\n",
       "    <tr>\n",
       "      <th>1</th>\n",
       "      <td>7.765130</td>\n",
       "      <td>5.936845</td>\n",
       "      <td>1</td>\n",
       "    </tr>\n",
       "    <tr>\n",
       "      <th>2</th>\n",
       "      <td>6.943675</td>\n",
       "      <td>5.907096</td>\n",
       "      <td>1</td>\n",
       "    </tr>\n",
       "    <tr>\n",
       "      <th>3</th>\n",
       "      <td>3.606081</td>\n",
       "      <td>6.538452</td>\n",
       "      <td>1</td>\n",
       "    </tr>\n",
       "    <tr>\n",
       "      <th>4</th>\n",
       "      <td>3.585028</td>\n",
       "      <td>6.141918</td>\n",
       "      <td>1</td>\n",
       "    </tr>\n",
       "  </tbody>\n",
       "</table>\n",
       "</div>"
      ],
      "text/plain": [
       "      Col_1     Col_2  Target\n",
       "0  3.042405  5.434579       1\n",
       "1  7.765130  5.936845       1\n",
       "2  6.943675  5.907096       1\n",
       "3  3.606081  6.538452       1\n",
       "4  3.585028  6.141918       1"
      ]
     },
     "execution_count": 45,
     "metadata": {},
     "output_type": "execute_result"
    }
   ],
   "source": [
    "df = pd.DataFrame(data[0], columns=[\"Col_1\", \"Col_2\"])\n",
    "df[\"Target\"] = data[1]\n",
    "df.head()"
   ]
  },
  {
   "cell_type": "code",
   "execution_count": 46,
   "id": "dc6a8403-85a6-4780-9e0c-496d97c49829",
   "metadata": {},
   "outputs": [
    {
     "data": {
      "text/plain": [
       "array([4.653342, 3.365422])"
      ]
     },
     "execution_count": 46,
     "metadata": {},
     "output_type": "execute_result"
    }
   ],
   "source": [
    "new_pt = np.array([4.653342, 3.365422])\n",
    "new_pt"
   ]
  },
  {
   "cell_type": "code",
   "execution_count": 70,
   "id": "87045246-e3bb-46fb-9c0e-202a0a3d8978",
   "metadata": {
    "scrolled": true
   },
   "outputs": [],
   "source": [
    "X = data[0]\n",
    "X\n",
    "y = data[1]"
   ]
  },
  {
   "cell_type": "code",
   "execution_count": 54,
   "id": "3877171d-7ffb-476f-9ab3-bd80371bc161",
   "metadata": {},
   "outputs": [],
   "source": [
    "dist = [np.sqrt(((new_pt[0] - X[i][0])**2) + ((new_pt[1] - X[i][1])**2)) for i in range(len(X))]"
   ]
  },
  {
   "cell_type": "code",
   "execution_count": 55,
   "id": "0a14b7e2-c84a-42c6-b21c-e610ba8c10ce",
   "metadata": {
    "scrolled": true
   },
   "outputs": [
    {
     "data": {
      "text/plain": [
       "[2.6223132652980894,\n",
       " 4.036761176512978,\n",
       " 3.42136364452162,\n",
       " 3.341388082699659,\n",
       " 2.974933304825815,\n",
       " 4.373394200140627,\n",
       " 2.5766071060406324,\n",
       " 1.4919852616588207,\n",
       " 2.462823596371569,\n",
       " 3.3663052954525194,\n",
       " 4.165607021144078,\n",
       " 1.6689280096797685,\n",
       " 3.8831390316046424,\n",
       " 4.056782425161287,\n",
       " 1.8667781288347611,\n",
       " 3.5445293998579652,\n",
       " 3.0604544871819073,\n",
       " 0.827649428778575,\n",
       " 3.379282299685429,\n",
       " 4.162091866948328,\n",
       " 1.3625328946428914,\n",
       " 3.834377890377413,\n",
       " 4.224550580511152,\n",
       " 1.4240900444046565,\n",
       " 2.0224295072258145,\n",
       " 2.9355033102936847,\n",
       " 2.57589132758964,\n",
       " 4.790906558861759,\n",
       " 2.7700537829031897,\n",
       " 2.3126798730471636,\n",
       " 2.740322123403987,\n",
       " 2.4992120501204638,\n",
       " 2.7406673892082125,\n",
       " 1.9438064006499256,\n",
       " 1.215874281779659,\n",
       " 2.2927557622923866,\n",
       " 2.5188825300880144,\n",
       " 2.1611233724572285,\n",
       " 1.3009054881942794,\n",
       " 0.922891918593983,\n",
       " 2.9149343360516964,\n",
       " 3.396453914653782,\n",
       " 2.749918296586954,\n",
       " 3.1299045547158073,\n",
       " 2.556619771176959,\n",
       " 3.4151865510929382,\n",
       " 4.666413679200557,\n",
       " 5.420126709275605,\n",
       " 1.98804932940141,\n",
       " 5.742127778636933,\n",
       " 4.324328537550524,\n",
       " 3.308149275009805,\n",
       " 1.7355054254629845,\n",
       " 3.194977215508431,\n",
       " 2.9843920472887917,\n",
       " 3.084700394834297,\n",
       " 0.2892773345679178,\n",
       " 4.142299019495385,\n",
       " 3.927465113073795,\n",
       " 3.241741691311053,\n",
       " 2.4297426173283547,\n",
       " 3.3635649764956574,\n",
       " 2.0114433887207492,\n",
       " 3.2203930249331245,\n",
       " 2.061068955832198,\n",
       " 3.144453191113508,\n",
       " 2.8847115838879294,\n",
       " 3.8118781136929423,\n",
       " 2.759038146625685,\n",
       " 3.8131777071522293,\n",
       " 2.608027078657168,\n",
       " 1.0382810893938623,\n",
       " 3.3689752948697174,\n",
       " 3.8819218216216913,\n",
       " 1.9468362749335901,\n",
       " 2.5774525867668374,\n",
       " 2.964883033257472,\n",
       " 2.7235517839056675,\n",
       " 2.6240242550730506,\n",
       " 3.9210637568460904,\n",
       " 2.539210504505502,\n",
       " 2.4740661432331814,\n",
       " 0.8309242336559636,\n",
       " 4.960710386688215,\n",
       " 3.250933997319322,\n",
       " 4.7920540706503205,\n",
       " 4.770572160978263,\n",
       " 2.8592041419090855,\n",
       " 3.4387123189810143,\n",
       " 2.0500621582640526,\n",
       " 2.449862577211091,\n",
       " 3.2525877359852813,\n",
       " 0.609892921540111,\n",
       " 3.681055555104905,\n",
       " 4.22283635720907,\n",
       " 3.34575718133329,\n",
       " 7.658675896280286,\n",
       " 3.5941382862657476,\n",
       " 3.0830206886367946,\n",
       " 4.442528600722077]"
      ]
     },
     "execution_count": 55,
     "metadata": {},
     "output_type": "execute_result"
    }
   ],
   "source": [
    "dist"
   ]
  },
  {
   "cell_type": "code",
   "execution_count": 57,
   "id": "3411fcb0-a819-4451-97b8-755da1d496cc",
   "metadata": {},
   "outputs": [],
   "source": [
    "df[\"dist\"] = dist"
   ]
  },
  {
   "cell_type": "code",
   "execution_count": 58,
   "id": "c35ec275-d087-43c5-baff-7cc3bb358c94",
   "metadata": {},
   "outputs": [
    {
     "data": {
      "text/html": [
       "<div>\n",
       "<style scoped>\n",
       "    .dataframe tbody tr th:only-of-type {\n",
       "        vertical-align: middle;\n",
       "    }\n",
       "\n",
       "    .dataframe tbody tr th {\n",
       "        vertical-align: top;\n",
       "    }\n",
       "\n",
       "    .dataframe thead th {\n",
       "        text-align: right;\n",
       "    }\n",
       "</style>\n",
       "<table border=\"1\" class=\"dataframe\">\n",
       "  <thead>\n",
       "    <tr style=\"text-align: right;\">\n",
       "      <th></th>\n",
       "      <th>Col_1</th>\n",
       "      <th>Col_2</th>\n",
       "      <th>Target</th>\n",
       "      <th>dist</th>\n",
       "    </tr>\n",
       "  </thead>\n",
       "  <tbody>\n",
       "    <tr>\n",
       "      <th>0</th>\n",
       "      <td>3.042405</td>\n",
       "      <td>5.434579</td>\n",
       "      <td>1</td>\n",
       "      <td>2.622313</td>\n",
       "    </tr>\n",
       "    <tr>\n",
       "      <th>1</th>\n",
       "      <td>7.765130</td>\n",
       "      <td>5.936845</td>\n",
       "      <td>1</td>\n",
       "      <td>4.036761</td>\n",
       "    </tr>\n",
       "    <tr>\n",
       "      <th>2</th>\n",
       "      <td>6.943675</td>\n",
       "      <td>5.907096</td>\n",
       "      <td>1</td>\n",
       "      <td>3.421364</td>\n",
       "    </tr>\n",
       "    <tr>\n",
       "      <th>3</th>\n",
       "      <td>3.606081</td>\n",
       "      <td>6.538452</td>\n",
       "      <td>1</td>\n",
       "      <td>3.341388</td>\n",
       "    </tr>\n",
       "    <tr>\n",
       "      <th>4</th>\n",
       "      <td>3.585028</td>\n",
       "      <td>6.141918</td>\n",
       "      <td>1</td>\n",
       "      <td>2.974933</td>\n",
       "    </tr>\n",
       "  </tbody>\n",
       "</table>\n",
       "</div>"
      ],
      "text/plain": [
       "      Col_1     Col_2  Target      dist\n",
       "0  3.042405  5.434579       1  2.622313\n",
       "1  7.765130  5.936845       1  4.036761\n",
       "2  6.943675  5.907096       1  3.421364\n",
       "3  3.606081  6.538452       1  3.341388\n",
       "4  3.585028  6.141918       1  2.974933"
      ]
     },
     "execution_count": 58,
     "metadata": {},
     "output_type": "execute_result"
    }
   ],
   "source": [
    "df.head()"
   ]
  },
  {
   "cell_type": "code",
   "execution_count": 66,
   "id": "b9ad27d3-59b1-4c7f-b788-9f164b7f23b3",
   "metadata": {},
   "outputs": [
    {
     "data": {
      "text/html": [
       "<div>\n",
       "<style scoped>\n",
       "    .dataframe tbody tr th:only-of-type {\n",
       "        vertical-align: middle;\n",
       "    }\n",
       "\n",
       "    .dataframe tbody tr th {\n",
       "        vertical-align: top;\n",
       "    }\n",
       "\n",
       "    .dataframe thead th {\n",
       "        text-align: right;\n",
       "    }\n",
       "</style>\n",
       "<table border=\"1\" class=\"dataframe\">\n",
       "  <thead>\n",
       "    <tr style=\"text-align: right;\">\n",
       "      <th></th>\n",
       "      <th>Col_1</th>\n",
       "      <th>Col_2</th>\n",
       "      <th>Target</th>\n",
       "      <th>dist</th>\n",
       "    </tr>\n",
       "  </thead>\n",
       "  <tbody>\n",
       "    <tr>\n",
       "      <th>56</th>\n",
       "      <td>4.585063</td>\n",
       "      <td>3.646526</td>\n",
       "      <td>1</td>\n",
       "      <td>0.289277</td>\n",
       "    </tr>\n",
       "    <tr>\n",
       "      <th>92</th>\n",
       "      <td>4.448219</td>\n",
       "      <td>2.791058</td>\n",
       "      <td>0</td>\n",
       "      <td>0.609893</td>\n",
       "    </tr>\n",
       "    <tr>\n",
       "      <th>17</th>\n",
       "      <td>4.042709</td>\n",
       "      <td>3.924108</td>\n",
       "      <td>1</td>\n",
       "      <td>0.827649</td>\n",
       "    </tr>\n",
       "    <tr>\n",
       "      <th>82</th>\n",
       "      <td>5.032524</td>\n",
       "      <td>4.104784</td>\n",
       "      <td>1</td>\n",
       "      <td>0.830924</td>\n",
       "    </tr>\n",
       "    <tr>\n",
       "      <th>39</th>\n",
       "      <td>3.747211</td>\n",
       "      <td>3.540510</td>\n",
       "      <td>0</td>\n",
       "      <td>0.922892</td>\n",
       "    </tr>\n",
       "  </tbody>\n",
       "</table>\n",
       "</div>"
      ],
      "text/plain": [
       "       Col_1     Col_2  Target      dist\n",
       "56  4.585063  3.646526       1  0.289277\n",
       "92  4.448219  2.791058       0  0.609893\n",
       "17  4.042709  3.924108       1  0.827649\n",
       "82  5.032524  4.104784       1  0.830924\n",
       "39  3.747211  3.540510       0  0.922892"
      ]
     },
     "execution_count": 66,
     "metadata": {},
     "output_type": "execute_result"
    }
   ],
   "source": [
    "df.sort_values(\"dist\").head(5)"
   ]
  },
  {
   "cell_type": "code",
   "execution_count": 68,
   "id": "0369ea3f-9f88-419e-a523-f049cbfa08c3",
   "metadata": {},
   "outputs": [],
   "source": [
    "from sklearn.neighbors import KNeighborsClassifier"
   ]
  },
  {
   "cell_type": "code",
   "execution_count": 69,
   "id": "c0c78ccd-b7c2-44a8-86a7-e0f9e74f9fe1",
   "metadata": {},
   "outputs": [],
   "source": [
    "model = KNeighborsClassifier(n_neighbors=5)"
   ]
  },
  {
   "cell_type": "code",
   "execution_count": 71,
   "id": "a4c9f87b-cd75-41a3-a9f6-9cfd4e63e505",
   "metadata": {},
   "outputs": [
    {
     "data": {
      "text/html": [
       "<style>#sk-container-id-1 {color: black;}#sk-container-id-1 pre{padding: 0;}#sk-container-id-1 div.sk-toggleable {background-color: white;}#sk-container-id-1 label.sk-toggleable__label {cursor: pointer;display: block;width: 100%;margin-bottom: 0;padding: 0.3em;box-sizing: border-box;text-align: center;}#sk-container-id-1 label.sk-toggleable__label-arrow:before {content: \"▸\";float: left;margin-right: 0.25em;color: #696969;}#sk-container-id-1 label.sk-toggleable__label-arrow:hover:before {color: black;}#sk-container-id-1 div.sk-estimator:hover label.sk-toggleable__label-arrow:before {color: black;}#sk-container-id-1 div.sk-toggleable__content {max-height: 0;max-width: 0;overflow: hidden;text-align: left;background-color: #f0f8ff;}#sk-container-id-1 div.sk-toggleable__content pre {margin: 0.2em;color: black;border-radius: 0.25em;background-color: #f0f8ff;}#sk-container-id-1 input.sk-toggleable__control:checked~div.sk-toggleable__content {max-height: 200px;max-width: 100%;overflow: auto;}#sk-container-id-1 input.sk-toggleable__control:checked~label.sk-toggleable__label-arrow:before {content: \"▾\";}#sk-container-id-1 div.sk-estimator input.sk-toggleable__control:checked~label.sk-toggleable__label {background-color: #d4ebff;}#sk-container-id-1 div.sk-label input.sk-toggleable__control:checked~label.sk-toggleable__label {background-color: #d4ebff;}#sk-container-id-1 input.sk-hidden--visually {border: 0;clip: rect(1px 1px 1px 1px);clip: rect(1px, 1px, 1px, 1px);height: 1px;margin: -1px;overflow: hidden;padding: 0;position: absolute;width: 1px;}#sk-container-id-1 div.sk-estimator {font-family: monospace;background-color: #f0f8ff;border: 1px dotted black;border-radius: 0.25em;box-sizing: border-box;margin-bottom: 0.5em;}#sk-container-id-1 div.sk-estimator:hover {background-color: #d4ebff;}#sk-container-id-1 div.sk-parallel-item::after {content: \"\";width: 100%;border-bottom: 1px solid gray;flex-grow: 1;}#sk-container-id-1 div.sk-label:hover label.sk-toggleable__label {background-color: #d4ebff;}#sk-container-id-1 div.sk-serial::before {content: \"\";position: absolute;border-left: 1px solid gray;box-sizing: border-box;top: 0;bottom: 0;left: 50%;z-index: 0;}#sk-container-id-1 div.sk-serial {display: flex;flex-direction: column;align-items: center;background-color: white;padding-right: 0.2em;padding-left: 0.2em;position: relative;}#sk-container-id-1 div.sk-item {position: relative;z-index: 1;}#sk-container-id-1 div.sk-parallel {display: flex;align-items: stretch;justify-content: center;background-color: white;position: relative;}#sk-container-id-1 div.sk-item::before, #sk-container-id-1 div.sk-parallel-item::before {content: \"\";position: absolute;border-left: 1px solid gray;box-sizing: border-box;top: 0;bottom: 0;left: 50%;z-index: -1;}#sk-container-id-1 div.sk-parallel-item {display: flex;flex-direction: column;z-index: 1;position: relative;background-color: white;}#sk-container-id-1 div.sk-parallel-item:first-child::after {align-self: flex-end;width: 50%;}#sk-container-id-1 div.sk-parallel-item:last-child::after {align-self: flex-start;width: 50%;}#sk-container-id-1 div.sk-parallel-item:only-child::after {width: 0;}#sk-container-id-1 div.sk-dashed-wrapped {border: 1px dashed gray;margin: 0 0.4em 0.5em 0.4em;box-sizing: border-box;padding-bottom: 0.4em;background-color: white;}#sk-container-id-1 div.sk-label label {font-family: monospace;font-weight: bold;display: inline-block;line-height: 1.2em;}#sk-container-id-1 div.sk-label-container {text-align: center;}#sk-container-id-1 div.sk-container {/* jupyter's `normalize.less` sets `[hidden] { display: none; }` but bootstrap.min.css set `[hidden] { display: none !important; }` so we also need the `!important` here to be able to override the default hidden behavior on the sphinx rendered scikit-learn.org. See: https://github.com/scikit-learn/scikit-learn/issues/21755 */display: inline-block !important;position: relative;}#sk-container-id-1 div.sk-text-repr-fallback {display: none;}</style><div id=\"sk-container-id-1\" class=\"sk-top-container\"><div class=\"sk-text-repr-fallback\"><pre>KNeighborsClassifier()</pre><b>In a Jupyter environment, please rerun this cell to show the HTML representation or trust the notebook. <br />On GitHub, the HTML representation is unable to render, please try loading this page with nbviewer.org.</b></div><div class=\"sk-container\" hidden><div class=\"sk-item\"><div class=\"sk-estimator sk-toggleable\"><input class=\"sk-toggleable__control sk-hidden--visually\" id=\"sk-estimator-id-1\" type=\"checkbox\" checked><label for=\"sk-estimator-id-1\" class=\"sk-toggleable__label sk-toggleable__label-arrow\">KNeighborsClassifier</label><div class=\"sk-toggleable__content\"><pre>KNeighborsClassifier()</pre></div></div></div></div></div>"
      ],
      "text/plain": [
       "KNeighborsClassifier()"
      ]
     },
     "execution_count": 71,
     "metadata": {},
     "output_type": "execute_result"
    }
   ],
   "source": [
    "model.fit(X, y)"
   ]
  },
  {
   "cell_type": "code",
   "execution_count": 73,
   "id": "c64f91e5-0141-4ab8-89fb-9b80f3795aba",
   "metadata": {},
   "outputs": [
    {
     "data": {
      "text/plain": [
       "array([1])"
      ]
     },
     "execution_count": 73,
     "metadata": {},
     "output_type": "execute_result"
    }
   ],
   "source": [
    "model.predict([new_pt])"
   ]
  },
  {
   "cell_type": "code",
   "execution_count": null,
   "id": "a83be91b-e9ad-48aa-8616-00424158f53f",
   "metadata": {},
   "outputs": [],
   "source": []
  }
 ],
 "metadata": {
  "kernelspec": {
   "display_name": "Python 3 (ipykernel)",
   "language": "python",
   "name": "python3"
  },
  "language_info": {
   "codemirror_mode": {
    "name": "ipython",
    "version": 3
   },
   "file_extension": ".py",
   "mimetype": "text/x-python",
   "name": "python",
   "nbconvert_exporter": "python",
   "pygments_lexer": "ipython3",
   "version": "3.11.6"
  }
 },
 "nbformat": 4,
 "nbformat_minor": 5
}
